{
 "cells": [
  {
   "cell_type": "markdown",
   "metadata": {},
   "source": [
    "<img src=\"http://oci02.img.iteso.mx/identidad_de_instancia_2018/ITESO/Logos%20ITESO/Logo-ITESO-Principal.jpg\">"
   ]
  },
  {
   "cell_type": "markdown",
   "metadata": {},
   "source": [
    "<center> <font color= #004A94> <font size = 6> Msc Ciencia de datos </font> <br> <br> <font color= #047CFB> <font size = 5>I.F. Juan Francisco Muñoz Elguezabal</font> <br> <br>"
   ]
  },
  {
   "cell_type": "markdown",
   "metadata": {},
   "source": [
    "<center><font color= #42c29b> <font size = 6> Análisis Estadístico Multivariable </font> <br> <br> <font color= #047CFB> <font size = 5> Exámen parcial 2 </font>"
   ]
  },
  {
   "cell_type": "markdown",
   "metadata": {},
   "source": [
    "---"
   ]
  },
  {
   "cell_type": "markdown",
   "metadata": {},
   "source": [
    "### Cargar Librerias"
   ]
  },
  {
   "cell_type": "code",
   "execution_count": 1,
   "metadata": {},
   "outputs": [],
   "source": [
    "import pandas as pd                                       # dataframes y utilidades\n",
    "import numpy as np                                        # operaciones matematicas\n",
    "import statsmodels.api as sm                              # modelos estadisticos: anova\n",
    "import visualizaciones as vs                              # importar visualizaciones desde otro script\n",
    "import plotly.express as px                               # visualizaciones express con plotly\n",
    "from statsmodels.stats.multicomp import MultiComparison   # herramientas estadisticas: multicomparacion\n",
    "from statsmodels.formula.api import ols                   # herramientas estadisticas: modelo lineal con ols\n",
    "from sklearn.model_selection import train_test_split      # separar conjunto de entrenamiento y prueba\n",
    "\n",
    "pd.set_option('display.max_rows', None)                   # sin limite de renglones maximos para mostrar pandas\n",
    "pd.set_option('display.max_columns', None)                # sin limite de columnas maximas para mostrar pandas\n",
    "pd.set_option('display.width', None)                      # sin limite el ancho del display\n",
    "pd.set_option('display.expand_frame_repr', False)         # visualizar todas las columnas de un dataframe\n",
    "pd.options.mode.chained_assignment = None                 # para evitar el warning enfadoso de indexacion"
   ]
  },
  {
   "cell_type": "markdown",
   "metadata": {},
   "source": [
    "## Ejercicio 1 (Calidad del aire)"
   ]
  },
  {
   "cell_type": "markdown",
   "metadata": {},
   "source": [
    "### A) ¿Qué hipótesis se deben de cumplir para poder obtener un modelo que describa la relación lineal entre dos variables?"
   ]
  },
  {
   "cell_type": "markdown",
   "metadata": {},
   "source": [
    "- Linealidad (Entre las variables explicativas)\n",
    "- Independencia (Entre las variables y también entre los residuales)\n",
    "- Normalidad en la distribución de los valores (En los residuales)\n",
    "- Homocedasticidad en la varianza entre los valores(En los residuales)"
   ]
  },
  {
   "cell_type": "markdown",
   "metadata": {},
   "source": [
    "### B) Obtenga un modelo lineal simple que permita estimar la concentración de emisiones contaminantes y la temperatura de la región. Escriba la ecuación del modelo e interprete los resultados obtenidos."
   ]
  },
  {
   "cell_type": "code",
   "execution_count": 2,
   "metadata": {},
   "outputs": [],
   "source": [
    "df_datos = pd.read_excel('datos/AirQuality.xlsx')\n",
    "\n",
    "x_train, x_test, y_train, y_test = train_test_split(df_datos.loc[:, 'T'],\n",
    "                                                    df_datos.loc[:, 'CO(GT)'],\n",
    "                                                    test_size=0.10, random_state=0, shuffle=False)"
   ]
  },
  {
   "cell_type": "code",
   "execution_count": 3,
   "metadata": {},
   "outputs": [
    {
     "name": "stdout",
     "output_type": "stream",
     "text": [
      "                                 OLS Regression Results                                \n",
      "=======================================================================================\n",
      "Dep. Variable:                 CO(GT)   R-squared (uncentered):                   0.745\n",
      "Model:                            OLS   Adj. R-squared (uncentered):              0.744\n",
      "Method:                 Least Squares   F-statistic:                              655.4\n",
      "Date:                Wed, 23 Oct 2019   Prob (F-statistic):                   9.12e-134\n",
      "Time:                        22:11:30   Log-Likelihood:                         -771.78\n",
      "No. Observations:                 450   AIC:                                      1548.\n",
      "Df Residuals:                     448   BIC:                                      1556.\n",
      "Df Model:                           2                                                  \n",
      "Covariance Type:            nonrobust                                                  \n",
      "==============================================================================\n",
      "                 coef    std err          t      P>|t|      [0.025      0.975]\n",
      "------------------------------------------------------------------------------\n",
      "const          0.7593      0.207      3.674      0.000       0.353       1.165\n",
      "T              0.1039      0.014      7.575      0.000       0.077       0.131\n",
      "==============================================================================\n",
      "Omnibus:                      105.916   Durbin-Watson:                   0.559\n",
      "Prob(Omnibus):                  0.000   Jarque-Bera (JB):              205.687\n",
      "Skew:                           1.294   Prob(JB):                     2.17e-45\n",
      "Kurtosis:                       5.067   Cond. No.                         49.2\n",
      "==============================================================================\n",
      "\n",
      "Warnings:\n",
      "[1] Standard Errors assume that the covariance matrix of the errors is correctly specified.\n"
     ]
    }
   ],
   "source": [
    "# Agregar interceptos a X en entrenamiento y prueba\n",
    "x_train_betha = sm.add_constant(x_train)\n",
    "x_test_betha = sm.add_constant(x_test)\n",
    "modelo = sm.OLS(y_train, x_train_betha, hasconst=False)\n",
    "resultados_a = modelo.fit()\n",
    "print(resultados_a.summary())"
   ]
  },
  {
   "cell_type": "markdown",
   "metadata": {},
   "source": [
    "| Parámetro | Coeficiente $\\beta_i$  | p_value Vs $\\alpha$      | Conclusión 1        |\n",
    "| --------- | ---------------------- | ------------------------ | ------------------- |\n",
    "| const     | 0.7758                 | 0.001 < 0.05             | Si es significativo |\n",
    "| T         | 0.1067                 | 0.000 < 0.05             | Si es significativo | "
   ]
  },
  {
   "cell_type": "markdown",
   "metadata": {},
   "source": [
    "<center> La ecuación del modelo es: $y = \\beta_0 + \\beta_1 x_i => y = 0.7758 + 0.1067 x_i$ </center>"
   ]
  },
  {
   "cell_type": "markdown",
   "metadata": {},
   "source": [
    "El valor de *R-squared*, que fue de **0.745** es mayor a **0.5** y se acerca aceptablemente a 1, por lo tanto este modelo aunque es simple si resulta ajustarse lo suficiente a los datos para ser utilizado con cierta confianza. También, tanto el *Intercepto* como la *T (Temperatura)* son componentes que si tienen poder explicativo dentro del modelo, esto debido a que su valor *p_value*, para ambos casos, fue menor 0.05. Se puede concluir también que la relación entre las particulas contaminantes y la temperatura ambiente tienen una relación directa y estadísticamente linealmente proporcional."
   ]
  },
  {
   "cell_type": "markdown",
   "metadata": {},
   "source": [
    "### C) Indique si el modelo lineal se ajusta a los datos basado en las predicciones obtenidas. Justifica tu respuesta."
   ]
  },
  {
   "cell_type": "code",
   "execution_count": 4,
   "metadata": {},
   "outputs": [
    {
     "data": {
      "text/html": [
       "<div>\n",
       "<style scoped>\n",
       "    .dataframe tbody tr th:only-of-type {\n",
       "        vertical-align: middle;\n",
       "    }\n",
       "\n",
       "    .dataframe tbody tr th {\n",
       "        vertical-align: top;\n",
       "    }\n",
       "\n",
       "    .dataframe thead th {\n",
       "        text-align: right;\n",
       "    }\n",
       "</style>\n",
       "<table border=\"1\" class=\"dataframe\">\n",
       "  <thead>\n",
       "    <tr style=\"text-align: right;\">\n",
       "      <th></th>\n",
       "      <th>CO(GT)_real</th>\n",
       "      <th>CO(GT)_pred</th>\n",
       "      <th>Diff</th>\n",
       "    </tr>\n",
       "  </thead>\n",
       "  <tbody>\n",
       "    <tr>\n",
       "      <th>450</th>\n",
       "      <td>1.4</td>\n",
       "      <td>2.47</td>\n",
       "      <td>1.07</td>\n",
       "    </tr>\n",
       "    <tr>\n",
       "      <th>451</th>\n",
       "      <td>1.6</td>\n",
       "      <td>2.57</td>\n",
       "      <td>0.97</td>\n",
       "    </tr>\n",
       "    <tr>\n",
       "      <th>452</th>\n",
       "      <td>1.5</td>\n",
       "      <td>2.62</td>\n",
       "      <td>1.12</td>\n",
       "    </tr>\n",
       "    <tr>\n",
       "      <th>453</th>\n",
       "      <td>1.4</td>\n",
       "      <td>2.65</td>\n",
       "      <td>1.25</td>\n",
       "    </tr>\n",
       "    <tr>\n",
       "      <th>454</th>\n",
       "      <td>1.5</td>\n",
       "      <td>2.63</td>\n",
       "      <td>1.13</td>\n",
       "    </tr>\n",
       "  </tbody>\n",
       "</table>\n",
       "</div>"
      ],
      "text/plain": [
       "     CO(GT)_real  CO(GT)_pred  Diff\n",
       "450          1.4         2.47  1.07\n",
       "451          1.6         2.57  0.97\n",
       "452          1.5         2.62  1.12\n",
       "453          1.4         2.65  1.25\n",
       "454          1.5         2.63  1.13"
      ]
     },
     "execution_count": 4,
     "metadata": {},
     "output_type": "execute_result"
    }
   ],
   "source": [
    "resultados_p = resultados_a.predict(np.array(x_test_betha))\n",
    "df_resultados_a = pd.DataFrame({'CO(GT)_real': y_test,\n",
    "                                'CO(GT)_pred': np.round(resultados_p, 2),\n",
    "                                'Diff': np.round(resultados_p-y_test, 2)})\n",
    "df_resultados_a.head()"
   ]
  },
  {
   "cell_type": "code",
   "execution_count": 5,
   "metadata": {},
   "outputs": [
    {
     "data": {
      "text/plain": [
       "1.25"
      ]
     },
     "execution_count": 5,
     "metadata": {},
     "output_type": "execute_result"
    }
   ],
   "source": [
    "np.round((df_resultados_a['Diff']**2).mean(), 2)"
   ]
  },
  {
   "cell_type": "markdown",
   "metadata": {},
   "source": [
    "Se puede observar en los datos de prueba que el ajuste del modelo no es perfecto, sin embargo, las diferencias entre los valores conocidos y los ajustados son menores a 1, por lo que pueden ser útiles. "
   ]
  },
  {
   "cell_type": "markdown",
   "metadata": {},
   "source": [
    "### D) Además de la temperatura, ¿qué otras variables podrían influir en la concentración de emisiones contaminantes?"
   ]
  },
  {
   "cell_type": "code",
   "execution_count": 6,
   "metadata": {},
   "outputs": [
    {
     "data": {
      "text/html": [
       "<div>\n",
       "<style scoped>\n",
       "    .dataframe tbody tr th:only-of-type {\n",
       "        vertical-align: middle;\n",
       "    }\n",
       "\n",
       "    .dataframe tbody tr th {\n",
       "        vertical-align: top;\n",
       "    }\n",
       "\n",
       "    .dataframe thead th {\n",
       "        text-align: right;\n",
       "    }\n",
       "</style>\n",
       "<table border=\"1\" class=\"dataframe\">\n",
       "  <thead>\n",
       "    <tr style=\"text-align: right;\">\n",
       "      <th></th>\n",
       "      <th>Date</th>\n",
       "      <th>Time</th>\n",
       "      <th>CO(GT)</th>\n",
       "      <th>PT08.S1(CO)</th>\n",
       "      <th>NMHC(GT)</th>\n",
       "      <th>C6H6(GT)</th>\n",
       "      <th>PT08.S2(NMHC)</th>\n",
       "      <th>NOx(GT)</th>\n",
       "      <th>PT08.S3(NOx)</th>\n",
       "      <th>NO2(GT)</th>\n",
       "      <th>PT08.S4(NO2)</th>\n",
       "      <th>PT08.S5(O3)</th>\n",
       "      <th>T</th>\n",
       "      <th>RH</th>\n",
       "      <th>AH</th>\n",
       "    </tr>\n",
       "  </thead>\n",
       "  <tbody>\n",
       "    <tr>\n",
       "      <th>0</th>\n",
       "      <td>2004-03-10</td>\n",
       "      <td>18:00:00</td>\n",
       "      <td>2.6</td>\n",
       "      <td>1360.00</td>\n",
       "      <td>150</td>\n",
       "      <td>11.881723</td>\n",
       "      <td>1045.50</td>\n",
       "      <td>166</td>\n",
       "      <td>1056.25</td>\n",
       "      <td>113</td>\n",
       "      <td>1692.00</td>\n",
       "      <td>1267.50</td>\n",
       "      <td>13.60</td>\n",
       "      <td>48.875001</td>\n",
       "      <td>0.757754</td>\n",
       "    </tr>\n",
       "    <tr>\n",
       "      <th>1</th>\n",
       "      <td>2004-03-10</td>\n",
       "      <td>19:00:00</td>\n",
       "      <td>2.0</td>\n",
       "      <td>1292.25</td>\n",
       "      <td>112</td>\n",
       "      <td>9.397165</td>\n",
       "      <td>954.75</td>\n",
       "      <td>103</td>\n",
       "      <td>1173.75</td>\n",
       "      <td>92</td>\n",
       "      <td>1558.75</td>\n",
       "      <td>972.25</td>\n",
       "      <td>13.30</td>\n",
       "      <td>47.700000</td>\n",
       "      <td>0.725487</td>\n",
       "    </tr>\n",
       "    <tr>\n",
       "      <th>2</th>\n",
       "      <td>2004-03-10</td>\n",
       "      <td>20:00:00</td>\n",
       "      <td>2.2</td>\n",
       "      <td>1402.00</td>\n",
       "      <td>88</td>\n",
       "      <td>8.997817</td>\n",
       "      <td>939.25</td>\n",
       "      <td>131</td>\n",
       "      <td>1140.00</td>\n",
       "      <td>114</td>\n",
       "      <td>1554.50</td>\n",
       "      <td>1074.00</td>\n",
       "      <td>11.90</td>\n",
       "      <td>53.975000</td>\n",
       "      <td>0.750239</td>\n",
       "    </tr>\n",
       "    <tr>\n",
       "      <th>3</th>\n",
       "      <td>2004-03-10</td>\n",
       "      <td>21:00:00</td>\n",
       "      <td>2.2</td>\n",
       "      <td>1375.50</td>\n",
       "      <td>80</td>\n",
       "      <td>9.228796</td>\n",
       "      <td>948.25</td>\n",
       "      <td>172</td>\n",
       "      <td>1092.00</td>\n",
       "      <td>122</td>\n",
       "      <td>1583.75</td>\n",
       "      <td>1203.25</td>\n",
       "      <td>11.00</td>\n",
       "      <td>60.000000</td>\n",
       "      <td>0.786713</td>\n",
       "    </tr>\n",
       "    <tr>\n",
       "      <th>4</th>\n",
       "      <td>2004-03-10</td>\n",
       "      <td>22:00:00</td>\n",
       "      <td>1.6</td>\n",
       "      <td>1272.25</td>\n",
       "      <td>51</td>\n",
       "      <td>6.518224</td>\n",
       "      <td>835.50</td>\n",
       "      <td>131</td>\n",
       "      <td>1205.00</td>\n",
       "      <td>116</td>\n",
       "      <td>1490.00</td>\n",
       "      <td>1110.00</td>\n",
       "      <td>11.15</td>\n",
       "      <td>59.575001</td>\n",
       "      <td>0.788794</td>\n",
       "    </tr>\n",
       "  </tbody>\n",
       "</table>\n",
       "</div>"
      ],
      "text/plain": [
       "        Date      Time  CO(GT)  PT08.S1(CO)  NMHC(GT)   C6H6(GT)  PT08.S2(NMHC)  NOx(GT)  PT08.S3(NOx)  NO2(GT)  PT08.S4(NO2)  PT08.S5(O3)      T         RH        AH\n",
       "0 2004-03-10  18:00:00     2.6      1360.00       150  11.881723        1045.50      166       1056.25      113       1692.00      1267.50  13.60  48.875001  0.757754\n",
       "1 2004-03-10  19:00:00     2.0      1292.25       112   9.397165         954.75      103       1173.75       92       1558.75       972.25  13.30  47.700000  0.725487\n",
       "2 2004-03-10  20:00:00     2.2      1402.00        88   8.997817         939.25      131       1140.00      114       1554.50      1074.00  11.90  53.975000  0.750239\n",
       "3 2004-03-10  21:00:00     2.2      1375.50        80   9.228796         948.25      172       1092.00      122       1583.75      1203.25  11.00  60.000000  0.786713\n",
       "4 2004-03-10  22:00:00     1.6      1272.25        51   6.518224         835.50      131       1205.00      116       1490.00      1110.00  11.15  59.575001  0.788794"
      ]
     },
     "execution_count": 6,
     "metadata": {},
     "output_type": "execute_result"
    }
   ],
   "source": [
    "df_datos.head()"
   ]
  },
  {
   "cell_type": "code",
   "execution_count": 7,
   "metadata": {},
   "outputs": [
    {
     "data": {
      "text/html": [
       "<div>\n",
       "<style scoped>\n",
       "    .dataframe tbody tr th:only-of-type {\n",
       "        vertical-align: middle;\n",
       "    }\n",
       "\n",
       "    .dataframe tbody tr th {\n",
       "        vertical-align: top;\n",
       "    }\n",
       "\n",
       "    .dataframe thead th {\n",
       "        text-align: right;\n",
       "    }\n",
       "</style>\n",
       "<table border=\"1\" class=\"dataframe\">\n",
       "  <thead>\n",
       "    <tr style=\"text-align: right;\">\n",
       "      <th></th>\n",
       "      <th>CO(GT)</th>\n",
       "      <th>PT08.S1(CO)</th>\n",
       "      <th>NMHC(GT)</th>\n",
       "      <th>C6H6(GT)</th>\n",
       "      <th>PT08.S2(NMHC)</th>\n",
       "      <th>NOx(GT)</th>\n",
       "      <th>PT08.S3(NOx)</th>\n",
       "      <th>NO2(GT)</th>\n",
       "      <th>PT08.S4(NO2)</th>\n",
       "      <th>PT08.S5(O3)</th>\n",
       "      <th>T</th>\n",
       "      <th>RH</th>\n",
       "      <th>AH</th>\n",
       "    </tr>\n",
       "  </thead>\n",
       "  <tbody>\n",
       "    <tr>\n",
       "      <th>CO(GT)</th>\n",
       "      <td>1.000000</td>\n",
       "      <td>0.915981</td>\n",
       "      <td>0.689655</td>\n",
       "      <td>0.962229</td>\n",
       "      <td>0.948724</td>\n",
       "      <td>0.942809</td>\n",
       "      <td>-0.820789</td>\n",
       "      <td>0.817970</td>\n",
       "      <td>0.929510</td>\n",
       "      <td>0.865410</td>\n",
       "      <td>0.333028</td>\n",
       "      <td>-0.229544</td>\n",
       "      <td>0.128218</td>\n",
       "    </tr>\n",
       "    <tr>\n",
       "      <th>PT08.S1(CO)</th>\n",
       "      <td>0.915981</td>\n",
       "      <td>1.000000</td>\n",
       "      <td>0.546282</td>\n",
       "      <td>0.923572</td>\n",
       "      <td>0.930259</td>\n",
       "      <td>0.903731</td>\n",
       "      <td>-0.832460</td>\n",
       "      <td>0.807018</td>\n",
       "      <td>0.944736</td>\n",
       "      <td>0.927153</td>\n",
       "      <td>0.382201</td>\n",
       "      <td>-0.172571</td>\n",
       "      <td>0.301298</td>\n",
       "    </tr>\n",
       "    <tr>\n",
       "      <th>NMHC(GT)</th>\n",
       "      <td>0.689655</td>\n",
       "      <td>0.546282</td>\n",
       "      <td>1.000000</td>\n",
       "      <td>0.689937</td>\n",
       "      <td>0.669632</td>\n",
       "      <td>0.652279</td>\n",
       "      <td>-0.565793</td>\n",
       "      <td>0.529758</td>\n",
       "      <td>0.601316</td>\n",
       "      <td>0.578188</td>\n",
       "      <td>0.134781</td>\n",
       "      <td>-0.202458</td>\n",
       "      <td>-0.161529</td>\n",
       "    </tr>\n",
       "    <tr>\n",
       "      <th>C6H6(GT)</th>\n",
       "      <td>0.962229</td>\n",
       "      <td>0.923572</td>\n",
       "      <td>0.689937</td>\n",
       "      <td>1.000000</td>\n",
       "      <td>0.982491</td>\n",
       "      <td>0.925228</td>\n",
       "      <td>-0.843450</td>\n",
       "      <td>0.804037</td>\n",
       "      <td>0.961651</td>\n",
       "      <td>0.889128</td>\n",
       "      <td>0.393216</td>\n",
       "      <td>-0.273475</td>\n",
       "      <td>0.131209</td>\n",
       "    </tr>\n",
       "    <tr>\n",
       "      <th>PT08.S2(NMHC)</th>\n",
       "      <td>0.948724</td>\n",
       "      <td>0.930259</td>\n",
       "      <td>0.669632</td>\n",
       "      <td>0.982491</td>\n",
       "      <td>1.000000</td>\n",
       "      <td>0.926313</td>\n",
       "      <td>-0.913453</td>\n",
       "      <td>0.848311</td>\n",
       "      <td>0.954386</td>\n",
       "      <td>0.898204</td>\n",
       "      <td>0.427983</td>\n",
       "      <td>-0.304458</td>\n",
       "      <td>0.129139</td>\n",
       "    </tr>\n",
       "    <tr>\n",
       "      <th>NOx(GT)</th>\n",
       "      <td>0.942809</td>\n",
       "      <td>0.903731</td>\n",
       "      <td>0.652279</td>\n",
       "      <td>0.925228</td>\n",
       "      <td>0.926313</td>\n",
       "      <td>1.000000</td>\n",
       "      <td>-0.822642</td>\n",
       "      <td>0.884117</td>\n",
       "      <td>0.909803</td>\n",
       "      <td>0.879669</td>\n",
       "      <td>0.295992</td>\n",
       "      <td>-0.182456</td>\n",
       "      <td>0.137797</td>\n",
       "    </tr>\n",
       "    <tr>\n",
       "      <th>PT08.S3(NOx)</th>\n",
       "      <td>-0.820789</td>\n",
       "      <td>-0.832460</td>\n",
       "      <td>-0.565793</td>\n",
       "      <td>-0.843450</td>\n",
       "      <td>-0.913453</td>\n",
       "      <td>-0.822642</td>\n",
       "      <td>1.000000</td>\n",
       "      <td>-0.811240</td>\n",
       "      <td>-0.854398</td>\n",
       "      <td>-0.838706</td>\n",
       "      <td>-0.421554</td>\n",
       "      <td>0.276580</td>\n",
       "      <td>-0.201624</td>\n",
       "    </tr>\n",
       "    <tr>\n",
       "      <th>NO2(GT)</th>\n",
       "      <td>0.817970</td>\n",
       "      <td>0.807018</td>\n",
       "      <td>0.529758</td>\n",
       "      <td>0.804037</td>\n",
       "      <td>0.848311</td>\n",
       "      <td>0.884117</td>\n",
       "      <td>-0.811240</td>\n",
       "      <td>1.000000</td>\n",
       "      <td>0.772647</td>\n",
       "      <td>0.790089</td>\n",
       "      <td>0.416462</td>\n",
       "      <td>-0.319800</td>\n",
       "      <td>0.083196</td>\n",
       "    </tr>\n",
       "    <tr>\n",
       "      <th>PT08.S4(NO2)</th>\n",
       "      <td>0.929510</td>\n",
       "      <td>0.944736</td>\n",
       "      <td>0.601316</td>\n",
       "      <td>0.961651</td>\n",
       "      <td>0.954386</td>\n",
       "      <td>0.909803</td>\n",
       "      <td>-0.854398</td>\n",
       "      <td>0.772647</td>\n",
       "      <td>1.000000</td>\n",
       "      <td>0.900994</td>\n",
       "      <td>0.356502</td>\n",
       "      <td>-0.111779</td>\n",
       "      <td>0.364037</td>\n",
       "    </tr>\n",
       "    <tr>\n",
       "      <th>PT08.S5(O3)</th>\n",
       "      <td>0.865410</td>\n",
       "      <td>0.927153</td>\n",
       "      <td>0.578188</td>\n",
       "      <td>0.889128</td>\n",
       "      <td>0.898204</td>\n",
       "      <td>0.879669</td>\n",
       "      <td>-0.838706</td>\n",
       "      <td>0.790089</td>\n",
       "      <td>0.900994</td>\n",
       "      <td>1.000000</td>\n",
       "      <td>0.329788</td>\n",
       "      <td>-0.146415</td>\n",
       "      <td>0.270543</td>\n",
       "    </tr>\n",
       "    <tr>\n",
       "      <th>T</th>\n",
       "      <td>0.333028</td>\n",
       "      <td>0.382201</td>\n",
       "      <td>0.134781</td>\n",
       "      <td>0.393216</td>\n",
       "      <td>0.427983</td>\n",
       "      <td>0.295992</td>\n",
       "      <td>-0.421554</td>\n",
       "      <td>0.416462</td>\n",
       "      <td>0.356502</td>\n",
       "      <td>0.329788</td>\n",
       "      <td>1.000000</td>\n",
       "      <td>-0.813187</td>\n",
       "      <td>0.093484</td>\n",
       "    </tr>\n",
       "    <tr>\n",
       "      <th>RH</th>\n",
       "      <td>-0.229544</td>\n",
       "      <td>-0.172571</td>\n",
       "      <td>-0.202458</td>\n",
       "      <td>-0.273475</td>\n",
       "      <td>-0.304458</td>\n",
       "      <td>-0.182456</td>\n",
       "      <td>0.276580</td>\n",
       "      <td>-0.319800</td>\n",
       "      <td>-0.111779</td>\n",
       "      <td>-0.146415</td>\n",
       "      <td>-0.813187</td>\n",
       "      <td>1.000000</td>\n",
       "      <td>0.467258</td>\n",
       "    </tr>\n",
       "    <tr>\n",
       "      <th>AH</th>\n",
       "      <td>0.128218</td>\n",
       "      <td>0.301298</td>\n",
       "      <td>-0.161529</td>\n",
       "      <td>0.131209</td>\n",
       "      <td>0.129139</td>\n",
       "      <td>0.137797</td>\n",
       "      <td>-0.201624</td>\n",
       "      <td>0.083196</td>\n",
       "      <td>0.364037</td>\n",
       "      <td>0.270543</td>\n",
       "      <td>0.093484</td>\n",
       "      <td>0.467258</td>\n",
       "      <td>1.000000</td>\n",
       "    </tr>\n",
       "  </tbody>\n",
       "</table>\n",
       "</div>"
      ],
      "text/plain": [
       "                 CO(GT)  PT08.S1(CO)  NMHC(GT)  C6H6(GT)  PT08.S2(NMHC)   NOx(GT)  PT08.S3(NOx)   NO2(GT)  PT08.S4(NO2)  PT08.S5(O3)         T        RH        AH\n",
       "CO(GT)         1.000000     0.915981  0.689655  0.962229       0.948724  0.942809     -0.820789  0.817970      0.929510     0.865410  0.333028 -0.229544  0.128218\n",
       "PT08.S1(CO)    0.915981     1.000000  0.546282  0.923572       0.930259  0.903731     -0.832460  0.807018      0.944736     0.927153  0.382201 -0.172571  0.301298\n",
       "NMHC(GT)       0.689655     0.546282  1.000000  0.689937       0.669632  0.652279     -0.565793  0.529758      0.601316     0.578188  0.134781 -0.202458 -0.161529\n",
       "C6H6(GT)       0.962229     0.923572  0.689937  1.000000       0.982491  0.925228     -0.843450  0.804037      0.961651     0.889128  0.393216 -0.273475  0.131209\n",
       "PT08.S2(NMHC)  0.948724     0.930259  0.669632  0.982491       1.000000  0.926313     -0.913453  0.848311      0.954386     0.898204  0.427983 -0.304458  0.129139\n",
       "NOx(GT)        0.942809     0.903731  0.652279  0.925228       0.926313  1.000000     -0.822642  0.884117      0.909803     0.879669  0.295992 -0.182456  0.137797\n",
       "PT08.S3(NOx)  -0.820789    -0.832460 -0.565793 -0.843450      -0.913453 -0.822642      1.000000 -0.811240     -0.854398    -0.838706 -0.421554  0.276580 -0.201624\n",
       "NO2(GT)        0.817970     0.807018  0.529758  0.804037       0.848311  0.884117     -0.811240  1.000000      0.772647     0.790089  0.416462 -0.319800  0.083196\n",
       "PT08.S4(NO2)   0.929510     0.944736  0.601316  0.961651       0.954386  0.909803     -0.854398  0.772647      1.000000     0.900994  0.356502 -0.111779  0.364037\n",
       "PT08.S5(O3)    0.865410     0.927153  0.578188  0.889128       0.898204  0.879669     -0.838706  0.790089      0.900994     1.000000  0.329788 -0.146415  0.270543\n",
       "T              0.333028     0.382201  0.134781  0.393216       0.427983  0.295992     -0.421554  0.416462      0.356502     0.329788  1.000000 -0.813187  0.093484\n",
       "RH            -0.229544    -0.172571 -0.202458 -0.273475      -0.304458 -0.182456      0.276580 -0.319800     -0.111779    -0.146415 -0.813187  1.000000  0.467258\n",
       "AH             0.128218     0.301298 -0.161529  0.131209       0.129139  0.137797     -0.201624  0.083196      0.364037     0.270543  0.093484  0.467258  1.000000"
      ]
     },
     "execution_count": 7,
     "metadata": {},
     "output_type": "execute_result"
    }
   ],
   "source": [
    "df_datos.corr()"
   ]
  },
  {
   "cell_type": "markdown",
   "metadata": {},
   "source": [
    "Para tener una idea de que variables podrían ser útiles de utilizar en el ajuste de algún modelo explicativo, se puede calcular la matríz de correlaciones y obtener aquellas variables que tengan una correlación mayor a 0.5, ya sea positiva (correlación > +0.5) o negativa (correlación < -0.5). "
   ]
  },
  {
   "cell_type": "code",
   "execution_count": 8,
   "metadata": {},
   "outputs": [
    {
     "data": {
      "text/plain": [
       "PT08.S1(CO)      0.915981\n",
       "NMHC(GT)         0.689655\n",
       "C6H6(GT)         0.962229\n",
       "PT08.S2(NMHC)    0.948724\n",
       "NOx(GT)          0.942809\n",
       "PT08.S3(NOx)    -0.820789\n",
       "NO2(GT)          0.817970\n",
       "PT08.S4(NO2)     0.929510\n",
       "PT08.S5(O3)      0.865410\n",
       "Name: CO(GT), dtype: float64"
      ]
     },
     "execution_count": 8,
     "metadata": {},
     "output_type": "execute_result"
    }
   ],
   "source": [
    "correlaciones = df_datos.corr()\n",
    "significativas = correlaciones[abs(correlaciones['CO(GT)']) > 0.5]['CO(GT)'][1:]\n",
    "significativas"
   ]
  },
  {
   "cell_type": "markdown",
   "metadata": {},
   "source": [
    "### E) Obtenga el modelo lineal múltiple que permita estimar esas concentraciones en función de las variables que mencionó en el inciso anterior. Interprete los resultados obtenidos."
   ]
  },
  {
   "cell_type": "code",
   "execution_count": 9,
   "metadata": {},
   "outputs": [
    {
     "data": {
      "text/plain": [
       "['PT08.S1(CO)',\n",
       " 'NMHC(GT)',\n",
       " 'C6H6(GT)',\n",
       " 'PT08.S2(NMHC)',\n",
       " 'NOx(GT)',\n",
       " 'PT08.S3(NOx)',\n",
       " 'NO2(GT)',\n",
       " 'PT08.S4(NO2)',\n",
       " 'PT08.S5(O3)']"
      ]
     },
     "execution_count": 9,
     "metadata": {},
     "output_type": "execute_result"
    }
   ],
   "source": [
    "vars = list(significativas.index)\n",
    "vars"
   ]
  },
  {
   "cell_type": "code",
   "execution_count": 10,
   "metadata": {},
   "outputs": [
    {
     "name": "stdout",
     "output_type": "stream",
     "text": [
      "                                 OLS Regression Results                                \n",
      "=======================================================================================\n",
      "Dep. Variable:                 CO(GT)   R-squared (uncentered):                   0.986\n",
      "Model:                            OLS   Adj. R-squared (uncentered):              0.986\n",
      "Method:                 Least Squares   F-statistic:                              3104.\n",
      "Date:                Wed, 23 Oct 2019   Prob (F-statistic):                        0.00\n",
      "Time:                        22:11:30   Log-Likelihood:                         -118.69\n",
      "No. Observations:                 450   AIC:                                      257.4\n",
      "Df Residuals:                     440   BIC:                                      298.5\n",
      "Df Model:                          10                                                  \n",
      "Covariance Type:            nonrobust                                                  \n",
      "=================================================================================\n",
      "                    coef    std err          t      P>|t|      [0.025      0.975]\n",
      "---------------------------------------------------------------------------------\n",
      "const             2.3898      0.791      3.021      0.003       0.835       3.945\n",
      "PT08.S1(CO)       0.0019      0.000      7.460      0.000       0.001       0.002\n",
      "NMHC(GT)          0.0008      0.000      4.756      0.000       0.000       0.001\n",
      "C6H6(GT)          0.1827      0.022      8.413      0.000       0.140       0.225\n",
      "PT08.S2(NMHC)    -0.0024      0.001     -3.484      0.001      -0.004      -0.001\n",
      "NOx(GT)           0.0060      0.001      9.673      0.000       0.005       0.007\n",
      "PT08.S3(NOx)     -0.0008      0.000     -3.305      0.001      -0.001      -0.000\n",
      "NO2(GT)          -0.0007      0.001     -0.698      0.486      -0.003       0.001\n",
      "PT08.S4(NO2)     -0.0010      0.000     -3.332      0.001      -0.002      -0.000\n",
      "PT08.S5(O3)      -0.0006      0.000     -5.128      0.000      -0.001      -0.000\n",
      "==============================================================================\n",
      "Omnibus:                      243.322   Durbin-Watson:                   1.657\n",
      "Prob(Omnibus):                  0.000   Jarque-Bera (JB):             3846.970\n",
      "Skew:                          -1.949   Prob(JB):                         0.00\n",
      "Kurtosis:                      16.783   Cond. No.                     1.43e+05\n",
      "==============================================================================\n",
      "\n",
      "Warnings:\n",
      "[1] Standard Errors assume that the covariance matrix of the errors is correctly specified.\n",
      "[2] The condition number is large, 1.43e+05. This might indicate that there are\n",
      "strong multicollinearity or other numerical problems.\n"
     ]
    }
   ],
   "source": [
    "x_train, x_test, y_train, y_test = train_test_split(df_datos.loc[:, vars],\n",
    "                                                    df_datos.loc[:, 'CO(GT)'],\n",
    "                                                    test_size=0.10, random_state=0, shuffle=False)\n",
    "\n",
    "# Agregar interceptos a X en entrenamiento y prueba\n",
    "x_train_betha = sm.add_constant(x_train)\n",
    "x_test_betha = sm.add_constant(x_test)\n",
    "modelo = sm.OLS(y_train, x_train_betha, hasconst=False)\n",
    "resultados_b = modelo.fit()\n",
    "print(resultados_b.summary())"
   ]
  },
  {
   "cell_type": "markdown",
   "metadata": {},
   "source": [
    "Se puede apreciar que de todas las variables propuestas, sólo *'NO2(GT)'* fue la única que resultó ser no significativa (debido a su *p_value*, $1 > 0.05$). Debido a esto, el coeficiente de *R-Squared* pasó, de **0.745** en el modelo que sólo utilizó 1 variable, a **0.986** que utilizó 9 variables."
   ]
  },
  {
   "cell_type": "code",
   "execution_count": 11,
   "metadata": {},
   "outputs": [
    {
     "data": {
      "text/html": [
       "<div>\n",
       "<style scoped>\n",
       "    .dataframe tbody tr th:only-of-type {\n",
       "        vertical-align: middle;\n",
       "    }\n",
       "\n",
       "    .dataframe tbody tr th {\n",
       "        vertical-align: top;\n",
       "    }\n",
       "\n",
       "    .dataframe thead th {\n",
       "        text-align: right;\n",
       "    }\n",
       "</style>\n",
       "<table border=\"1\" class=\"dataframe\">\n",
       "  <thead>\n",
       "    <tr style=\"text-align: right;\">\n",
       "      <th></th>\n",
       "      <th>CO(GT)_real</th>\n",
       "      <th>CO(GT)_pred</th>\n",
       "      <th>Diff</th>\n",
       "    </tr>\n",
       "  </thead>\n",
       "  <tbody>\n",
       "    <tr>\n",
       "      <th>450</th>\n",
       "      <td>1.4</td>\n",
       "      <td>1.50</td>\n",
       "      <td>0.10</td>\n",
       "    </tr>\n",
       "    <tr>\n",
       "      <th>451</th>\n",
       "      <td>1.6</td>\n",
       "      <td>1.65</td>\n",
       "      <td>0.05</td>\n",
       "    </tr>\n",
       "    <tr>\n",
       "      <th>452</th>\n",
       "      <td>1.5</td>\n",
       "      <td>1.63</td>\n",
       "      <td>0.13</td>\n",
       "    </tr>\n",
       "    <tr>\n",
       "      <th>453</th>\n",
       "      <td>1.4</td>\n",
       "      <td>1.60</td>\n",
       "      <td>0.20</td>\n",
       "    </tr>\n",
       "    <tr>\n",
       "      <th>454</th>\n",
       "      <td>1.5</td>\n",
       "      <td>1.65</td>\n",
       "      <td>0.15</td>\n",
       "    </tr>\n",
       "  </tbody>\n",
       "</table>\n",
       "</div>"
      ],
      "text/plain": [
       "     CO(GT)_real  CO(GT)_pred  Diff\n",
       "450          1.4         1.50  0.10\n",
       "451          1.6         1.65  0.05\n",
       "452          1.5         1.63  0.13\n",
       "453          1.4         1.60  0.20\n",
       "454          1.5         1.65  0.15"
      ]
     },
     "execution_count": 11,
     "metadata": {},
     "output_type": "execute_result"
    }
   ],
   "source": [
    "resultados_p = resultados_b.predict(np.array(x_test_betha))\n",
    "df_resultados_b = pd.DataFrame({'CO(GT)_real': y_test,\n",
    "                                'CO(GT)_pred': np.round(resultados_p, 2),\n",
    "                                'Diff': np.round(resultados_p-y_test, 2)})\n",
    "df_resultados_b.head()"
   ]
  },
  {
   "cell_type": "code",
   "execution_count": 12,
   "metadata": {},
   "outputs": [
    {
     "data": {
      "text/plain": [
       "0.08"
      ]
     },
     "execution_count": 12,
     "metadata": {},
     "output_type": "execute_result"
    }
   ],
   "source": [
    "np.round((df_resultados_b['Diff']**2).mean(), 2)"
   ]
  },
  {
   "cell_type": "markdown",
   "metadata": {},
   "source": [
    "### f) ¿Existe un cambio significativo en las predicciones si se hace la regresión lineal con una o más variables independientes? Justifique su respuesta."
   ]
  },
  {
   "cell_type": "markdown",
   "metadata": {},
   "source": [
    "Si existe un cambio y es bastante significativo, el MSE (Error Cuadrático Promedio) del modelo con una variable fue de 1.25, mientras que del modelo con 9 variables se redujo hasta 0.08. Por lo tanto, fue útil, no sólo agregar *mas* variables, sino, agregar aquellas que tuvieran una alta correlación con la variable a explicar"
   ]
  },
  {
   "cell_type": "markdown",
   "metadata": {},
   "source": [
    "### g) Obtenga los contrastes individuales de los coeficientes $\\beta_{i}$ con $\\alpha = 0.05$. ¿Qué puede concluir con los resultados obtenidos?"
   ]
  },
  {
   "cell_type": "markdown",
   "metadata": {},
   "source": [
    "*PT08.S1(CO)*, *NMHC(GT)*, *C6H6(GT)*, *NOx(GT)*, tienen una relación positiva respecto a la variable a explicar, mientras que *PT08.S2(NMHC)*, *PT08.S3(NOx)*, *PT08.S4(NO2)*, *PT08.S5(O3)* tienen una relación negativa. Y para el caso de *NO2(GT)*, su *p_value* resultó mayor a 0.05 por lo tanto se elimina como variable significativa en esta configuración de modelo."
   ]
  },
  {
   "cell_type": "markdown",
   "metadata": {},
   "source": [
    "#### f) Estime la concentración de emisiones contaminantes si la temperatura es de 27 y la humedad relativa es del 50%  y la humedad absoluta de 0.7?"
   ]
  },
  {
   "cell_type": "markdown",
   "metadata": {},
   "source": [
    "## Ejercicio 2 (Huachicoleo)"
   ]
  },
  {
   "cell_type": "markdown",
   "metadata": {},
   "source": [
    "Se quiere saber si hay una variación  en el precio de la gasolina y el diésel por entidad federativa en la República Mexicana. Para realizar este estudio se recomienda utilizar el análisis de la varianza."
   ]
  },
  {
   "cell_type": "code",
   "execution_count": 13,
   "metadata": {},
   "outputs": [],
   "source": [
    "df_datos = pd.read_excel('datos/gasolina.xlsx')"
   ]
  },
  {
   "cell_type": "code",
   "execution_count": 14,
   "metadata": {},
   "outputs": [
    {
     "data": {
      "text/html": [
       "<div>\n",
       "<style scoped>\n",
       "    .dataframe tbody tr th:only-of-type {\n",
       "        vertical-align: middle;\n",
       "    }\n",
       "\n",
       "    .dataframe tbody tr th {\n",
       "        vertical-align: top;\n",
       "    }\n",
       "\n",
       "    .dataframe thead th {\n",
       "        text-align: right;\n",
       "    }\n",
       "</style>\n",
       "<table border=\"1\" class=\"dataframe\">\n",
       "  <thead>\n",
       "    <tr style=\"text-align: right;\">\n",
       "      <th></th>\n",
       "      <th>Entidad_federativa</th>\n",
       "      <th>Gasolina_91_octanos</th>\n",
       "      <th>Gasolina_87_octanos</th>\n",
       "      <th>Diesel</th>\n",
       "      <th>Anio_reporte</th>\n",
       "    </tr>\n",
       "  </thead>\n",
       "  <tbody>\n",
       "    <tr>\n",
       "      <th>0</th>\n",
       "      <td>Aguascalientes</td>\n",
       "      <td>17.95</td>\n",
       "      <td>16.19</td>\n",
       "      <td>17.28</td>\n",
       "      <td>2017</td>\n",
       "    </tr>\n",
       "    <tr>\n",
       "      <th>1</th>\n",
       "      <td>Aguascalientes</td>\n",
       "      <td>17.95</td>\n",
       "      <td>16.19</td>\n",
       "      <td>17.28</td>\n",
       "      <td>2017</td>\n",
       "    </tr>\n",
       "    <tr>\n",
       "      <th>2</th>\n",
       "      <td>Aguascalientes</td>\n",
       "      <td>17.86</td>\n",
       "      <td>16.11</td>\n",
       "      <td>17.16</td>\n",
       "      <td>2017</td>\n",
       "    </tr>\n",
       "    <tr>\n",
       "      <th>3</th>\n",
       "      <td>Aguascalientes</td>\n",
       "      <td>17.85</td>\n",
       "      <td>16.12</td>\n",
       "      <td>17.10</td>\n",
       "      <td>2017</td>\n",
       "    </tr>\n",
       "    <tr>\n",
       "      <th>4</th>\n",
       "      <td>Aguascalientes</td>\n",
       "      <td>17.78</td>\n",
       "      <td>16.04</td>\n",
       "      <td>16.97</td>\n",
       "      <td>2017</td>\n",
       "    </tr>\n",
       "  </tbody>\n",
       "</table>\n",
       "</div>"
      ],
      "text/plain": [
       "  Entidad_federativa  Gasolina_91_octanos  Gasolina_87_octanos  Diesel  Anio_reporte\n",
       "0     Aguascalientes                17.95                16.19   17.28          2017\n",
       "1     Aguascalientes                17.95                16.19   17.28          2017\n",
       "2     Aguascalientes                17.86                16.11   17.16          2017\n",
       "3     Aguascalientes                17.85                16.12   17.10          2017\n",
       "4     Aguascalientes                17.78                16.04   16.97          2017"
      ]
     },
     "execution_count": 14,
     "metadata": {},
     "output_type": "execute_result"
    }
   ],
   "source": [
    "df_datos.head()"
   ]
  },
  {
   "cell_type": "code",
   "execution_count": 15,
   "metadata": {},
   "outputs": [
    {
     "data": {
      "text/plain": [
       "['Durango',\n",
       " 'Tlaxcala',\n",
       " 'Chiapas',\n",
       " 'Zacatecas',\n",
       " 'Jalisco',\n",
       " 'Tamaulipas',\n",
       " 'Nayarit',\n",
       " 'Campeche',\n",
       " 'Hidalgo',\n",
       " 'Guanajuato',\n",
       " 'Chihuahua',\n",
       " 'Guerrero',\n",
       " 'Oaxaca',\n",
       " 'Queretaro',\n",
       " 'Veracruz de Ignacio de la Llave',\n",
       " 'Morelos',\n",
       " 'Nuevo Leon',\n",
       " 'Aguascalientes',\n",
       " 'Coahuila de Zaragoza',\n",
       " 'Yucatan',\n",
       " 'Tabasco',\n",
       " 'Quintana Roo',\n",
       " 'Sinaloa',\n",
       " 'Baja California Sur',\n",
       " 'Baja California',\n",
       " 'Colima',\n",
       " 'Michoacan de Ocampo',\n",
       " 'Puebla',\n",
       " 'Durango Gomez Palacio',\n",
       " 'Sonora',\n",
       " 'Mexico',\n",
       " 'Ciudad de Mexico',\n",
       " 'San Luis Potosi']"
      ]
     },
     "execution_count": 15,
     "metadata": {},
     "output_type": "execute_result"
    }
   ],
   "source": [
    "Estados = list(set(df_datos['Entidad_federativa']))\n",
    "Estados"
   ]
  },
  {
   "cell_type": "code",
   "execution_count": 16,
   "metadata": {},
   "outputs": [
    {
     "data": {
      "text/plain": [
       "33"
      ]
     },
     "execution_count": 16,
     "metadata": {},
     "output_type": "execute_result"
    }
   ],
   "source": [
    "len(Estados)"
   ]
  },
  {
   "cell_type": "markdown",
   "metadata": {},
   "source": [
    "### A) ¿Qué tipo de ANOVA está utilizando?"
   ]
  },
  {
   "cell_type": "markdown",
   "metadata": {},
   "source": [
    "Un ANOVA de un sólo sentido o (ONE-WAY ANOVA)"
   ]
  },
  {
   "cell_type": "markdown",
   "metadata": {},
   "source": [
    "### B) ¿Cuál sería la justificación para utilizar este método?"
   ]
  },
  {
   "cell_type": "markdown",
   "metadata": {},
   "source": [
    "Debido a que se quiere encontrar si el precio de la gasolina y del diesel presentan una variación estadísticamente significativa según el estado de la república donde se registraron esos precios. El objetivo es validar o rechazar, con evidencia estadística, las siguientes hipótesis: "
   ]
  },
  {
   "cell_type": "markdown",
   "metadata": {},
   "source": [
    "Estadísticamente:\n",
    "\n",
    "- **H0**: la media de los grupos es la misma.\n",
    "- **Ha**: la media de al menos un grupo es diferente de la de los demás grupos.\n",
    "\n",
    "En el contexto del problema: \n",
    "\n",
    "- **H0**: Entre todos los estados, no existe variación en el precio de la gasolina y del diesel\n",
    "- **Ha**: Al menos entre 1 estado y los demás, hubo variación significativa en el precio de la gasolina y del diesel."
   ]
  },
  {
   "cell_type": "markdown",
   "metadata": {},
   "source": [
    "### C) ¿En qué escala de medición deben estar las variables?"
   ]
  },
  {
   "cell_type": "markdown",
   "metadata": {},
   "source": [
    "Para la variable independiente, en este caso la *Entidad Federativa* es del tipo *Nominal* u *Ordinal*, que son variables cualitativas o categóricas. Para el caso de la variable dependiente debe de ser *Continua* (como intervalo o ratio), como lo es el precio de la gasolina y del diesel este caso."
   ]
  },
  {
   "cell_type": "markdown",
   "metadata": {},
   "source": [
    "### D) ¿Qué hipótesis se deben de cumplir para utilizar el ANOVA?"
   ]
  },
  {
   "cell_type": "markdown",
   "metadata": {},
   "source": [
    "- Normalidad en los residuales\n",
    "- Independencia de observaciones\n",
    "- Homocedasticidad en los residuales\n",
    "- Aleatoriedad en la medición de las observaciones"
   ]
  },
  {
   "cell_type": "markdown",
   "metadata": {},
   "source": [
    "### E) Contrastar si el precio de la gasolina y el diésel tienen variación dependiendo de la entidad federativa. Para realizar el contraste considere un nivel de significancia del  5%"
   ]
  },
  {
   "cell_type": "markdown",
   "metadata": {},
   "source": [
    "#### Visualizacion de variables"
   ]
  },
  {
   "cell_type": "code",
   "execution_count": 17,
   "metadata": {},
   "outputs": [],
   "source": [
    "# crear cuadro de datos para modelo ANOVA\n",
    "df_data_anova = df_datos[['Entidad_federativa', 'Gasolina_91_octanos', 'Gasolina_87_octanos', 'Diesel']]"
   ]
  },
  {
   "cell_type": "code",
   "execution_count": 18,
   "metadata": {},
   "outputs": [],
   "source": [
    "# ajustar modelo lineal para Gasolina_91_octanos\n",
    "model_91 = ols('Gasolina_91_octanos ~ C(Entidad_federativa)', data=df_data_anova).fit()\n",
    "model_91.summary()\n",
    "\n",
    "# ajustar modelo lineal para Gasolina_87_octanos\n",
    "model_87 = ols('Gasolina_87_octanos ~ C(Entidad_federativa)', data=df_data_anova).fit()\n",
    "model_87.summary()\n",
    "\n",
    "# ajustar modelo lineal para Diesel\n",
    "model_di = ols('Diesel ~ C(Entidad_federativa)', data=df_data_anova).fit()\n",
    "model_di.summary()\n",
    "\n",
    "# tabla anova Gasolina_91_octanos\n",
    "anova_table_91 = sm.stats.anova_lm(model_91, typ=2)\n",
    "\n",
    "# tabla anova Gasolina_87_octanos\n",
    "anova_table_87 = sm.stats.anova_lm(model_87, typ=2)\n",
    "\n",
    "# tabla anova Diesel\n",
    "anova_table_di = sm.stats.anova_lm(model_di, typ=2)"
   ]
  },
  {
   "cell_type": "markdown",
   "metadata": {},
   "source": [
    "### F) De una interpretación de los resultados obtenidos."
   ]
  },
  {
   "cell_type": "code",
   "execution_count": 19,
   "metadata": {},
   "outputs": [
    {
     "data": {
      "text/html": [
       "<div>\n",
       "<style scoped>\n",
       "    .dataframe tbody tr th:only-of-type {\n",
       "        vertical-align: middle;\n",
       "    }\n",
       "\n",
       "    .dataframe tbody tr th {\n",
       "        vertical-align: top;\n",
       "    }\n",
       "\n",
       "    .dataframe thead th {\n",
       "        text-align: right;\n",
       "    }\n",
       "</style>\n",
       "<table border=\"1\" class=\"dataframe\">\n",
       "  <thead>\n",
       "    <tr style=\"text-align: right;\">\n",
       "      <th></th>\n",
       "      <th>sum_sq</th>\n",
       "      <th>df</th>\n",
       "      <th>F</th>\n",
       "      <th>PR(&gt;F)</th>\n",
       "    </tr>\n",
       "  </thead>\n",
       "  <tbody>\n",
       "    <tr>\n",
       "      <th>C(Entidad_federativa)</th>\n",
       "      <td>151.650551</td>\n",
       "      <td>32.0</td>\n",
       "      <td>2.78364</td>\n",
       "      <td>7.785166e-07</td>\n",
       "    </tr>\n",
       "    <tr>\n",
       "      <th>Residual</th>\n",
       "      <td>1346.658373</td>\n",
       "      <td>791.0</td>\n",
       "      <td>NaN</td>\n",
       "      <td>NaN</td>\n",
       "    </tr>\n",
       "  </tbody>\n",
       "</table>\n",
       "</div>"
      ],
      "text/plain": [
       "                            sum_sq     df        F        PR(>F)\n",
       "C(Entidad_federativa)   151.650551   32.0  2.78364  7.785166e-07\n",
       "Residual               1346.658373  791.0      NaN           NaN"
      ]
     },
     "execution_count": 19,
     "metadata": {},
     "output_type": "execute_result"
    }
   ],
   "source": [
    "anova_table_91"
   ]
  },
  {
   "cell_type": "markdown",
   "metadata": {},
   "source": [
    "Se observa que el valor p es **7.785166e-07** y es < 0.05 por lo tanto *se rechaza* la **H0: la media de los grupos es la misma.**. Y se acepta la **Ha:  la media de al menos un grupo es diferente de la de los demás grupos.**. En este contexto, se rechaza que **Entre todos los estados, no existe variación en el precio de la gasolina con 91 de octanaje**. Se acepta la hipótesis que, **Al menos entre 1 estado y los demás, hubo variación significativa en el precio de la gasolina.** Escrito de una manera más científica, existe evidencia suficiente para creer que existe *huachicoleo*"
   ]
  },
  {
   "cell_type": "code",
   "execution_count": 20,
   "metadata": {},
   "outputs": [
    {
     "data": {
      "text/html": [
       "<div>\n",
       "<style scoped>\n",
       "    .dataframe tbody tr th:only-of-type {\n",
       "        vertical-align: middle;\n",
       "    }\n",
       "\n",
       "    .dataframe tbody tr th {\n",
       "        vertical-align: top;\n",
       "    }\n",
       "\n",
       "    .dataframe thead th {\n",
       "        text-align: right;\n",
       "    }\n",
       "</style>\n",
       "<table border=\"1\" class=\"dataframe\">\n",
       "  <thead>\n",
       "    <tr style=\"text-align: right;\">\n",
       "      <th></th>\n",
       "      <th>sum_sq</th>\n",
       "      <th>df</th>\n",
       "      <th>F</th>\n",
       "      <th>PR(&gt;F)</th>\n",
       "    </tr>\n",
       "  </thead>\n",
       "  <tbody>\n",
       "    <tr>\n",
       "      <th>C(Entidad_federativa)</th>\n",
       "      <td>213.997710</td>\n",
       "      <td>32.0</td>\n",
       "      <td>3.16884</td>\n",
       "      <td>1.706444e-08</td>\n",
       "    </tr>\n",
       "    <tr>\n",
       "      <th>Residual</th>\n",
       "      <td>1669.303552</td>\n",
       "      <td>791.0</td>\n",
       "      <td>NaN</td>\n",
       "      <td>NaN</td>\n",
       "    </tr>\n",
       "  </tbody>\n",
       "</table>\n",
       "</div>"
      ],
      "text/plain": [
       "                            sum_sq     df        F        PR(>F)\n",
       "C(Entidad_federativa)   213.997710   32.0  3.16884  1.706444e-08\n",
       "Residual               1669.303552  791.0      NaN           NaN"
      ]
     },
     "execution_count": 20,
     "metadata": {},
     "output_type": "execute_result"
    }
   ],
   "source": [
    "anova_table_87"
   ]
  },
  {
   "cell_type": "markdown",
   "metadata": {},
   "source": [
    "Se observa que el valor p es **1.706444e-08** y es < 0.05 por lo tanto *se rechaza* la **H0: la media de los grupos es la misma.**. Y se acepta la **Ha:  la media de al menos un grupo es diferente de la de los demás grupos.** En este contexto, se rechaza la hipótesis que **Entre todos los estados, no existe variación en el precio de la gasolina con 87 de octanaje**. Se acepta la hipótesis que, **Al menos entre 1 estado y los demás, hubo variación significativa en el precio de la gasolina**  Escrito de una manera más científica, existe evidencia suficiente para creer que existe *huachicoleo*"
   ]
  },
  {
   "cell_type": "code",
   "execution_count": 21,
   "metadata": {},
   "outputs": [
    {
     "data": {
      "text/html": [
       "<div>\n",
       "<style scoped>\n",
       "    .dataframe tbody tr th:only-of-type {\n",
       "        vertical-align: middle;\n",
       "    }\n",
       "\n",
       "    .dataframe tbody tr th {\n",
       "        vertical-align: top;\n",
       "    }\n",
       "\n",
       "    .dataframe thead th {\n",
       "        text-align: right;\n",
       "    }\n",
       "</style>\n",
       "<table border=\"1\" class=\"dataframe\">\n",
       "  <thead>\n",
       "    <tr style=\"text-align: right;\">\n",
       "      <th></th>\n",
       "      <th>sum_sq</th>\n",
       "      <th>df</th>\n",
       "      <th>F</th>\n",
       "      <th>PR(&gt;F)</th>\n",
       "    </tr>\n",
       "  </thead>\n",
       "  <tbody>\n",
       "    <tr>\n",
       "      <th>C(Entidad_federativa)</th>\n",
       "      <td>46.584636</td>\n",
       "      <td>32.0</td>\n",
       "      <td>0.613628</td>\n",
       "      <td>0.955267</td>\n",
       "    </tr>\n",
       "    <tr>\n",
       "      <th>Residual</th>\n",
       "      <td>1876.565733</td>\n",
       "      <td>791.0</td>\n",
       "      <td>NaN</td>\n",
       "      <td>NaN</td>\n",
       "    </tr>\n",
       "  </tbody>\n",
       "</table>\n",
       "</div>"
      ],
      "text/plain": [
       "                            sum_sq     df         F    PR(>F)\n",
       "C(Entidad_federativa)    46.584636   32.0  0.613628  0.955267\n",
       "Residual               1876.565733  791.0       NaN       NaN"
      ]
     },
     "execution_count": 21,
     "metadata": {},
     "output_type": "execute_result"
    }
   ],
   "source": [
    "anova_table_di"
   ]
  },
  {
   "cell_type": "markdown",
   "metadata": {},
   "source": [
    "Se observa que el valor p es **0.955267** y es > 0.05, por lo tanto *se acepta* la **H0: Entre todos los estados, no existe variación en el precio del diesel**. Por lo tanto, científicamente podemos decir que el *Diesel* ha estado libre del *Huachicoleo*"
   ]
  },
  {
   "cell_type": "markdown",
   "metadata": {},
   "source": [
    "## Ejercicio 3 (Problemas de sueño)"
   ]
  },
  {
   "cell_type": "markdown",
   "metadata": {},
   "source": [
    "Para la base de datos cuestionario de \"problemas de sueño”\n",
    "Se quiere analizar si existe alguna relación entre la calidad del sueño y el género. "
   ]
  },
  {
   "cell_type": "code",
   "execution_count": 22,
   "metadata": {},
   "outputs": [],
   "source": [
    "df_datos = pd.read_csv('datos/ProblemasSuenio.csv')"
   ]
  },
  {
   "cell_type": "code",
   "execution_count": 23,
   "metadata": {},
   "outputs": [
    {
     "data": {
      "text/html": [
       "<div>\n",
       "<style scoped>\n",
       "    .dataframe tbody tr th:only-of-type {\n",
       "        vertical-align: middle;\n",
       "    }\n",
       "\n",
       "    .dataframe tbody tr th {\n",
       "        vertical-align: top;\n",
       "    }\n",
       "\n",
       "    .dataframe thead th {\n",
       "        text-align: right;\n",
       "    }\n",
       "</style>\n",
       "<table border=\"1\" class=\"dataframe\">\n",
       "  <thead>\n",
       "    <tr style=\"text-align: right;\">\n",
       "      <th></th>\n",
       "      <th>folio</th>\n",
       "      <th>inte</th>\n",
       "      <th>idinsert</th>\n",
       "      <th>entidad</th>\n",
       "      <th>munici</th>\n",
       "      <th>locali</th>\n",
       "      <th>maq</th>\n",
       "      <th>edad</th>\n",
       "      <th>sexo</th>\n",
       "      <th>intsel</th>\n",
       "      <th>intsel2</th>\n",
       "      <th>su101</th>\n",
       "      <th>su102</th>\n",
       "      <th>su103</th>\n",
       "      <th>su104</th>\n",
       "      <th>su105</th>\n",
       "      <th>su106</th>\n",
       "      <th>su107</th>\n",
       "      <th>su107a</th>\n",
       "      <th>su107b</th>\n",
       "    </tr>\n",
       "  </thead>\n",
       "  <tbody>\n",
       "    <tr>\n",
       "      <th>0</th>\n",
       "      <td>010010001209A0020131</td>\n",
       "      <td>1</td>\n",
       "      <td>1076190</td>\n",
       "      <td>1</td>\n",
       "      <td>1</td>\n",
       "      <td>1</td>\n",
       "      <td>MC036</td>\n",
       "      <td>67</td>\n",
       "      <td>1</td>\n",
       "      <td>1</td>\n",
       "      <td>NaN</td>\n",
       "      <td>6</td>\n",
       "      <td>2</td>\n",
       "      <td>2</td>\n",
       "      <td>2</td>\n",
       "      <td>NaN</td>\n",
       "      <td>NaN</td>\n",
       "      <td>2</td>\n",
       "      <td>CLONAZEPAM</td>\n",
       "      <td>NaN</td>\n",
       "    </tr>\n",
       "    <tr>\n",
       "      <th>1</th>\n",
       "      <td>010010001209A0020161</td>\n",
       "      <td>1</td>\n",
       "      <td>1076193</td>\n",
       "      <td>1</td>\n",
       "      <td>1</td>\n",
       "      <td>1</td>\n",
       "      <td>MC036</td>\n",
       "      <td>55</td>\n",
       "      <td>1</td>\n",
       "      <td>1</td>\n",
       "      <td>10.0</td>\n",
       "      <td>8</td>\n",
       "      <td>1</td>\n",
       "      <td>3</td>\n",
       "      <td>2</td>\n",
       "      <td>NaN</td>\n",
       "      <td>NaN</td>\n",
       "      <td>1</td>\n",
       "      <td>NaN</td>\n",
       "      <td>NaN</td>\n",
       "    </tr>\n",
       "    <tr>\n",
       "      <th>2</th>\n",
       "      <td>010010001209A0080071</td>\n",
       "      <td>2</td>\n",
       "      <td>1075466</td>\n",
       "      <td>1</td>\n",
       "      <td>1</td>\n",
       "      <td>1</td>\n",
       "      <td>MC034</td>\n",
       "      <td>44</td>\n",
       "      <td>0</td>\n",
       "      <td>1</td>\n",
       "      <td>NaN</td>\n",
       "      <td>6</td>\n",
       "      <td>2</td>\n",
       "      <td>3</td>\n",
       "      <td>2</td>\n",
       "      <td>NaN</td>\n",
       "      <td>NaN</td>\n",
       "      <td>1</td>\n",
       "      <td>NaN</td>\n",
       "      <td>NaN</td>\n",
       "    </tr>\n",
       "    <tr>\n",
       "      <th>3</th>\n",
       "      <td>010010001209A0080101</td>\n",
       "      <td>1</td>\n",
       "      <td>1075538</td>\n",
       "      <td>1</td>\n",
       "      <td>1</td>\n",
       "      <td>1</td>\n",
       "      <td>MC034</td>\n",
       "      <td>47</td>\n",
       "      <td>0</td>\n",
       "      <td>1</td>\n",
       "      <td>NaN</td>\n",
       "      <td>6</td>\n",
       "      <td>2</td>\n",
       "      <td>3</td>\n",
       "      <td>1</td>\n",
       "      <td>1.0</td>\n",
       "      <td>1.0</td>\n",
       "      <td>1</td>\n",
       "      <td>NaN</td>\n",
       "      <td>NaN</td>\n",
       "    </tr>\n",
       "    <tr>\n",
       "      <th>4</th>\n",
       "      <td>010010001209A0120041</td>\n",
       "      <td>1</td>\n",
       "      <td>1076278</td>\n",
       "      <td>1</td>\n",
       "      <td>1</td>\n",
       "      <td>1</td>\n",
       "      <td>MC036</td>\n",
       "      <td>36</td>\n",
       "      <td>1</td>\n",
       "      <td>1</td>\n",
       "      <td>NaN</td>\n",
       "      <td>8</td>\n",
       "      <td>1</td>\n",
       "      <td>2</td>\n",
       "      <td>1</td>\n",
       "      <td>1.0</td>\n",
       "      <td>1.0</td>\n",
       "      <td>1</td>\n",
       "      <td>NaN</td>\n",
       "      <td>NaN</td>\n",
       "    </tr>\n",
       "  </tbody>\n",
       "</table>\n",
       "</div>"
      ],
      "text/plain": [
       "                  folio  inte  idinsert  entidad  munici  locali    maq  edad  sexo  intsel  intsel2  su101  su102  su103  su104  su105  su106  su107      su107a su107b\n",
       "0  010010001209A0020131     1   1076190        1       1       1  MC036    67     1       1      NaN      6      2      2      2    NaN    NaN      2  CLONAZEPAM    NaN\n",
       "1  010010001209A0020161     1   1076193        1       1       1  MC036    55     1       1     10.0      8      1      3      2    NaN    NaN      1         NaN    NaN\n",
       "2  010010001209A0080071     2   1075466        1       1       1  MC034    44     0       1      NaN      6      2      3      2    NaN    NaN      1         NaN    NaN\n",
       "3  010010001209A0080101     1   1075538        1       1       1  MC034    47     0       1      NaN      6      2      3      1    1.0    1.0      1         NaN    NaN\n",
       "4  010010001209A0120041     1   1076278        1       1       1  MC036    36     1       1      NaN      8      1      2      1    1.0    1.0      1         NaN    NaN"
      ]
     },
     "execution_count": 23,
     "metadata": {},
     "output_type": "execute_result"
    }
   ],
   "source": [
    "df_datos.head()"
   ]
  },
  {
   "cell_type": "code",
   "execution_count": 24,
   "metadata": {},
   "outputs": [
    {
     "data": {
      "text/plain": [
       "600"
      ]
     },
     "execution_count": 24,
     "metadata": {},
     "output_type": "execute_result"
    }
   ],
   "source": [
    "len(df_datos)"
   ]
  },
  {
   "cell_type": "markdown",
   "metadata": {},
   "source": [
    "### A ) Elija dos variables que puede utilizar para llevar acabo este análisis. Justifique su respuesta."
   ]
  },
  {
   "cell_type": "markdown",
   "metadata": {},
   "source": [
    "- *su101* : por ser un conteo de horas.\n",
    "- *su107* : por ser una variable que registró frecuencia de uso de algo"
   ]
  },
  {
   "cell_type": "code",
   "execution_count": 25,
   "metadata": {},
   "outputs": [
    {
     "data": {
      "text/html": [
       "<div>\n",
       "<style scoped>\n",
       "    .dataframe tbody tr th:only-of-type {\n",
       "        vertical-align: middle;\n",
       "    }\n",
       "\n",
       "    .dataframe tbody tr th {\n",
       "        vertical-align: top;\n",
       "    }\n",
       "\n",
       "    .dataframe thead th {\n",
       "        text-align: right;\n",
       "    }\n",
       "</style>\n",
       "<table border=\"1\" class=\"dataframe\">\n",
       "  <thead>\n",
       "    <tr style=\"text-align: right;\">\n",
       "      <th></th>\n",
       "      <th>su101</th>\n",
       "      <th>su107</th>\n",
       "    </tr>\n",
       "    <tr>\n",
       "      <th>sexo</th>\n",
       "      <th></th>\n",
       "      <th></th>\n",
       "    </tr>\n",
       "  </thead>\n",
       "  <tbody>\n",
       "    <tr>\n",
       "      <th>1</th>\n",
       "      <td>6</td>\n",
       "      <td>2</td>\n",
       "    </tr>\n",
       "    <tr>\n",
       "      <th>1</th>\n",
       "      <td>8</td>\n",
       "      <td>1</td>\n",
       "    </tr>\n",
       "    <tr>\n",
       "      <th>0</th>\n",
       "      <td>6</td>\n",
       "      <td>1</td>\n",
       "    </tr>\n",
       "    <tr>\n",
       "      <th>0</th>\n",
       "      <td>6</td>\n",
       "      <td>1</td>\n",
       "    </tr>\n",
       "    <tr>\n",
       "      <th>1</th>\n",
       "      <td>8</td>\n",
       "      <td>1</td>\n",
       "    </tr>\n",
       "  </tbody>\n",
       "</table>\n",
       "</div>"
      ],
      "text/plain": [
       "      su101  su107\n",
       "sexo              \n",
       "1         6      2\n",
       "1         8      1\n",
       "0         6      1\n",
       "0         6      1\n",
       "1         8      1"
      ]
     },
     "execution_count": 25,
     "metadata": {},
     "output_type": "execute_result"
    }
   ],
   "source": [
    "datos = df_datos[['su101', 'su107']]\n",
    "datos.index = df_datos['sexo']\n",
    "datos.head()"
   ]
  },
  {
   "cell_type": "markdown",
   "metadata": {},
   "source": [
    "### B) Obtenga la tabla de logaritmos de las frecuencias."
   ]
  },
  {
   "cell_type": "code",
   "execution_count": 26,
   "metadata": {},
   "outputs": [],
   "source": [
    "datos_log = np.log(datos)"
   ]
  },
  {
   "cell_type": "code",
   "execution_count": 27,
   "metadata": {},
   "outputs": [
    {
     "data": {
      "text/html": [
       "<div>\n",
       "<style scoped>\n",
       "    .dataframe tbody tr th:only-of-type {\n",
       "        vertical-align: middle;\n",
       "    }\n",
       "\n",
       "    .dataframe tbody tr th {\n",
       "        vertical-align: top;\n",
       "    }\n",
       "\n",
       "    .dataframe thead th {\n",
       "        text-align: right;\n",
       "    }\n",
       "</style>\n",
       "<table border=\"1\" class=\"dataframe\">\n",
       "  <thead>\n",
       "    <tr style=\"text-align: right;\">\n",
       "      <th></th>\n",
       "      <th>su101</th>\n",
       "      <th>su107</th>\n",
       "    </tr>\n",
       "    <tr>\n",
       "      <th>sexo</th>\n",
       "      <th></th>\n",
       "      <th></th>\n",
       "    </tr>\n",
       "  </thead>\n",
       "  <tbody>\n",
       "    <tr>\n",
       "      <th>1</th>\n",
       "      <td>1.791759</td>\n",
       "      <td>0.693147</td>\n",
       "    </tr>\n",
       "    <tr>\n",
       "      <th>1</th>\n",
       "      <td>2.079442</td>\n",
       "      <td>0.000000</td>\n",
       "    </tr>\n",
       "    <tr>\n",
       "      <th>0</th>\n",
       "      <td>1.791759</td>\n",
       "      <td>0.000000</td>\n",
       "    </tr>\n",
       "    <tr>\n",
       "      <th>0</th>\n",
       "      <td>1.791759</td>\n",
       "      <td>0.000000</td>\n",
       "    </tr>\n",
       "    <tr>\n",
       "      <th>1</th>\n",
       "      <td>2.079442</td>\n",
       "      <td>0.000000</td>\n",
       "    </tr>\n",
       "  </tbody>\n",
       "</table>\n",
       "</div>"
      ],
      "text/plain": [
       "         su101     su107\n",
       "sexo                    \n",
       "1     1.791759  0.693147\n",
       "1     2.079442  0.000000\n",
       "0     1.791759  0.000000\n",
       "0     1.791759  0.000000\n",
       "1     2.079442  0.000000"
      ]
     },
     "execution_count": 27,
     "metadata": {},
     "output_type": "execute_result"
    }
   ],
   "source": [
    "datos_log.head()"
   ]
  },
  {
   "cell_type": "markdown",
   "metadata": {},
   "source": [
    "### C) Obtenga los valores Mu1_i    "
   ]
  },
  {
   "cell_type": "code",
   "execution_count": 28,
   "metadata": {},
   "outputs": [
    {
     "data": {
      "text/html": [
       "<div>\n",
       "<style scoped>\n",
       "    .dataframe tbody tr th:only-of-type {\n",
       "        vertical-align: middle;\n",
       "    }\n",
       "\n",
       "    .dataframe tbody tr th {\n",
       "        vertical-align: top;\n",
       "    }\n",
       "\n",
       "    .dataframe thead th {\n",
       "        text-align: right;\n",
       "    }\n",
       "</style>\n",
       "<table border=\"1\" class=\"dataframe\">\n",
       "  <thead>\n",
       "    <tr style=\"text-align: right;\">\n",
       "      <th></th>\n",
       "      <th>su101</th>\n",
       "      <th>su107</th>\n",
       "    </tr>\n",
       "    <tr>\n",
       "      <th>sexo</th>\n",
       "      <th></th>\n",
       "      <th></th>\n",
       "    </tr>\n",
       "  </thead>\n",
       "  <tbody>\n",
       "    <tr>\n",
       "      <th>0</th>\n",
       "      <td>2.484907</td>\n",
       "      <td>0.000000</td>\n",
       "    </tr>\n",
       "    <tr>\n",
       "      <th>0</th>\n",
       "      <td>1.945910</td>\n",
       "      <td>0.000000</td>\n",
       "    </tr>\n",
       "    <tr>\n",
       "      <th>0</th>\n",
       "      <td>2.079442</td>\n",
       "      <td>0.000000</td>\n",
       "    </tr>\n",
       "    <tr>\n",
       "      <th>0</th>\n",
       "      <td>2.197225</td>\n",
       "      <td>0.000000</td>\n",
       "    </tr>\n",
       "    <tr>\n",
       "      <th>media_c</th>\n",
       "      <td>1.972999</td>\n",
       "      <td>0.035813</td>\n",
       "    </tr>\n",
       "  </tbody>\n",
       "</table>\n",
       "</div>"
      ],
      "text/plain": [
       "            su101     su107\n",
       "sexo                       \n",
       "0        2.484907  0.000000\n",
       "0        1.945910  0.000000\n",
       "0        2.079442  0.000000\n",
       "0        2.197225  0.000000\n",
       "media_c  1.972999  0.035813"
      ]
     },
     "execution_count": 28,
     "metadata": {},
     "output_type": "execute_result"
    }
   ],
   "source": [
    "datos_log.loc['media_c'] = datos_log.mean(axis=0)\n",
    "datos_log.tail()"
   ]
  },
  {
   "cell_type": "markdown",
   "metadata": {},
   "source": [
    "### D) Obtenga los valores Mu2_j"
   ]
  },
  {
   "cell_type": "code",
   "execution_count": 29,
   "metadata": {},
   "outputs": [
    {
     "data": {
      "text/html": [
       "<div>\n",
       "<style scoped>\n",
       "    .dataframe tbody tr th:only-of-type {\n",
       "        vertical-align: middle;\n",
       "    }\n",
       "\n",
       "    .dataframe tbody tr th {\n",
       "        vertical-align: top;\n",
       "    }\n",
       "\n",
       "    .dataframe thead th {\n",
       "        text-align: right;\n",
       "    }\n",
       "</style>\n",
       "<table border=\"1\" class=\"dataframe\">\n",
       "  <thead>\n",
       "    <tr style=\"text-align: right;\">\n",
       "      <th></th>\n",
       "      <th>su101</th>\n",
       "      <th>su107</th>\n",
       "      <th>media_f</th>\n",
       "    </tr>\n",
       "    <tr>\n",
       "      <th>sexo</th>\n",
       "      <th></th>\n",
       "      <th></th>\n",
       "      <th></th>\n",
       "    </tr>\n",
       "  </thead>\n",
       "  <tbody>\n",
       "    <tr>\n",
       "      <th>1</th>\n",
       "      <td>1.791759</td>\n",
       "      <td>0.693147</td>\n",
       "      <td>1.242453</td>\n",
       "    </tr>\n",
       "    <tr>\n",
       "      <th>1</th>\n",
       "      <td>2.079442</td>\n",
       "      <td>0.000000</td>\n",
       "      <td>1.039721</td>\n",
       "    </tr>\n",
       "    <tr>\n",
       "      <th>0</th>\n",
       "      <td>1.791759</td>\n",
       "      <td>0.000000</td>\n",
       "      <td>0.895880</td>\n",
       "    </tr>\n",
       "    <tr>\n",
       "      <th>0</th>\n",
       "      <td>1.791759</td>\n",
       "      <td>0.000000</td>\n",
       "      <td>0.895880</td>\n",
       "    </tr>\n",
       "    <tr>\n",
       "      <th>1</th>\n",
       "      <td>2.079442</td>\n",
       "      <td>0.000000</td>\n",
       "      <td>1.039721</td>\n",
       "    </tr>\n",
       "  </tbody>\n",
       "</table>\n",
       "</div>"
      ],
      "text/plain": [
       "         su101     su107   media_f\n",
       "sexo                              \n",
       "1     1.791759  0.693147  1.242453\n",
       "1     2.079442  0.000000  1.039721\n",
       "0     1.791759  0.000000  0.895880\n",
       "0     1.791759  0.000000  0.895880\n",
       "1     2.079442  0.000000  1.039721"
      ]
     },
     "execution_count": 29,
     "metadata": {},
     "output_type": "execute_result"
    }
   ],
   "source": [
    "datos_log['media_f'] = datos_log.mean(axis=1)\n",
    "datos_log.head()"
   ]
  },
  {
   "cell_type": "markdown",
   "metadata": {},
   "source": [
    "### E) De una interpretación de los resultados obtenidos."
   ]
  },
  {
   "cell_type": "code",
   "execution_count": 30,
   "metadata": {},
   "outputs": [],
   "source": [
    "# media global\n",
    "mu = datos_log.iloc[-1,-1]\n",
    "# media de las filas\n",
    "mu1 = datos_log.iloc[:,-1]-mu\n",
    "# media de las columnas\n",
    "mu2 = datos_log.iloc[-1,:]-mu"
   ]
  },
  {
   "cell_type": "markdown",
   "metadata": {},
   "source": [
    "media_f es la media de las filas, y media_c es la media de las columnas. Cada uno de estos valores "
   ]
  },
  {
   "cell_type": "code",
   "execution_count": 31,
   "metadata": {},
   "outputs": [
    {
     "data": {
      "text/plain": [
       "array([[ 2.2110466 ,  0.27386005],\n",
       "       [ 2.00831405,  0.07112749],\n",
       "       [ 1.86447301, -0.07271354],\n",
       "       ...,\n",
       "       [ 1.94154835,  0.0043618 ],\n",
       "       [ 2.00831405,  0.07112749],\n",
       "       [ 2.06720556,  0.13001901]])"
      ]
     },
     "execution_count": 31,
     "metadata": {},
     "output_type": "execute_result"
    }
   ],
   "source": [
    "datos_rec = np.ones(np.shape(datos_log))*mu\n",
    "datos_rec\n",
    "\n",
    "# sumarle a cada valor la media de las filas\n",
    "for k in np.arange(np.shape(datos_log)[0]):\n",
    "    datos_rec[k,:] = datos_rec[k,:]+mu2\n",
    "\n",
    "# sumarle a cada valor la media de las columnas\n",
    "for k in np.arange(np.shape(datos_log)[1]):\n",
    "    datos_rec[:,k] = datos_rec[:,k]+mu1\n",
    "\n",
    "# seleccionar solo los valores originales (sin filas de mu1 ni mu2)\n",
    "datos_rec = datos_rec[0:-1, 0:-1]\n",
    "datos_rec"
   ]
  },
  {
   "cell_type": "code",
   "execution_count": 32,
   "metadata": {},
   "outputs": [
    {
     "data": {
      "text/html": [
       "<div>\n",
       "<style scoped>\n",
       "    .dataframe tbody tr th:only-of-type {\n",
       "        vertical-align: middle;\n",
       "    }\n",
       "\n",
       "    .dataframe tbody tr th {\n",
       "        vertical-align: top;\n",
       "    }\n",
       "\n",
       "    .dataframe thead th {\n",
       "        text-align: right;\n",
       "    }\n",
       "</style>\n",
       "<table border=\"1\" class=\"dataframe\">\n",
       "  <thead>\n",
       "    <tr style=\"text-align: right;\">\n",
       "      <th></th>\n",
       "      <th>su101</th>\n",
       "      <th>su107</th>\n",
       "      <th>media_f</th>\n",
       "    </tr>\n",
       "    <tr>\n",
       "      <th>sexo</th>\n",
       "      <th></th>\n",
       "      <th></th>\n",
       "      <th></th>\n",
       "    </tr>\n",
       "  </thead>\n",
       "  <tbody>\n",
       "    <tr>\n",
       "      <th>1</th>\n",
       "      <td>-0.419287</td>\n",
       "      <td>0.419287</td>\n",
       "      <td>0.238047</td>\n",
       "    </tr>\n",
       "    <tr>\n",
       "      <th>1</th>\n",
       "      <td>0.071127</td>\n",
       "      <td>-0.071127</td>\n",
       "      <td>0.035315</td>\n",
       "    </tr>\n",
       "    <tr>\n",
       "      <th>0</th>\n",
       "      <td>-0.072714</td>\n",
       "      <td>0.072714</td>\n",
       "      <td>-0.108526</td>\n",
       "    </tr>\n",
       "    <tr>\n",
       "      <th>0</th>\n",
       "      <td>-0.072714</td>\n",
       "      <td>0.072714</td>\n",
       "      <td>-0.108526</td>\n",
       "    </tr>\n",
       "    <tr>\n",
       "      <th>1</th>\n",
       "      <td>0.071127</td>\n",
       "      <td>-0.071127</td>\n",
       "      <td>0.035315</td>\n",
       "    </tr>\n",
       "  </tbody>\n",
       "</table>\n",
       "</div>"
      ],
      "text/plain": [
       "         su101     su107   media_f\n",
       "sexo                              \n",
       "1    -0.419287  0.419287  0.238047\n",
       "1     0.071127 -0.071127  0.035315\n",
       "0    -0.072714  0.072714 -0.108526\n",
       "0    -0.072714  0.072714 -0.108526\n",
       "1     0.071127 -0.071127  0.035315"
      ]
     },
     "execution_count": 32,
     "metadata": {},
     "output_type": "execute_result"
    }
   ],
   "source": [
    "tab_mu12 = pd.DataFrame(np.transpose(np.transpose(datos_log-mu-mu2)-mu1))\n",
    "tab_mu12.iloc[:,-1] = mu1\n",
    "tab_mu12.iloc[-1,:] = mu2\n",
    "tab_mu12.head()"
   ]
  },
  {
   "cell_type": "code",
   "execution_count": 33,
   "metadata": {},
   "outputs": [
    {
     "data": {
      "text/html": [
       "<div>\n",
       "<style scoped>\n",
       "    .dataframe tbody tr th:only-of-type {\n",
       "        vertical-align: middle;\n",
       "    }\n",
       "\n",
       "    .dataframe tbody tr th {\n",
       "        vertical-align: top;\n",
       "    }\n",
       "\n",
       "    .dataframe thead th {\n",
       "        text-align: right;\n",
       "    }\n",
       "</style>\n",
       "<table border=\"1\" class=\"dataframe\">\n",
       "  <thead>\n",
       "    <tr style=\"text-align: right;\">\n",
       "      <th></th>\n",
       "      <th>su101</th>\n",
       "      <th>su107</th>\n",
       "    </tr>\n",
       "    <tr>\n",
       "      <th>sexo</th>\n",
       "      <th></th>\n",
       "      <th></th>\n",
       "    </tr>\n",
       "  </thead>\n",
       "  <tbody>\n",
       "    <tr>\n",
       "      <th>1</th>\n",
       "      <td>-0.419287</td>\n",
       "      <td>0.419287</td>\n",
       "    </tr>\n",
       "    <tr>\n",
       "      <th>1</th>\n",
       "      <td>0.071127</td>\n",
       "      <td>-0.071127</td>\n",
       "    </tr>\n",
       "    <tr>\n",
       "      <th>0</th>\n",
       "      <td>-0.072714</td>\n",
       "      <td>0.072714</td>\n",
       "    </tr>\n",
       "    <tr>\n",
       "      <th>0</th>\n",
       "      <td>-0.072714</td>\n",
       "      <td>0.072714</td>\n",
       "    </tr>\n",
       "    <tr>\n",
       "      <th>1</th>\n",
       "      <td>0.071127</td>\n",
       "      <td>-0.071127</td>\n",
       "    </tr>\n",
       "  </tbody>\n",
       "</table>\n",
       "</div>"
      ],
      "text/plain": [
       "         su101     su107\n",
       "sexo                    \n",
       "1    -0.419287  0.419287\n",
       "1     0.071127 -0.071127\n",
       "0    -0.072714  0.072714\n",
       "0    -0.072714  0.072714\n",
       "1     0.071127 -0.071127"
      ]
     },
     "execution_count": 33,
     "metadata": {},
     "output_type": "execute_result"
    }
   ],
   "source": [
    "tab_mu12.iloc[0:-1,0:-1].head()"
   ]
  },
  {
   "cell_type": "code",
   "execution_count": 34,
   "metadata": {},
   "outputs": [],
   "source": [
    "datos_rec_mod = datos_rec + tab_mu12.iloc[0:-1,0:-1]"
   ]
  },
  {
   "cell_type": "code",
   "execution_count": 35,
   "metadata": {},
   "outputs": [
    {
     "data": {
      "text/html": [
       "<div>\n",
       "<style scoped>\n",
       "    .dataframe tbody tr th:only-of-type {\n",
       "        vertical-align: middle;\n",
       "    }\n",
       "\n",
       "    .dataframe tbody tr th {\n",
       "        vertical-align: top;\n",
       "    }\n",
       "\n",
       "    .dataframe thead th {\n",
       "        text-align: right;\n",
       "    }\n",
       "</style>\n",
       "<table border=\"1\" class=\"dataframe\">\n",
       "  <thead>\n",
       "    <tr style=\"text-align: right;\">\n",
       "      <th></th>\n",
       "      <th>su101</th>\n",
       "      <th>su107</th>\n",
       "    </tr>\n",
       "    <tr>\n",
       "      <th>sexo</th>\n",
       "      <th></th>\n",
       "      <th></th>\n",
       "    </tr>\n",
       "  </thead>\n",
       "  <tbody>\n",
       "    <tr>\n",
       "      <th>1</th>\n",
       "      <td>1.791759</td>\n",
       "      <td>0.693147</td>\n",
       "    </tr>\n",
       "    <tr>\n",
       "      <th>1</th>\n",
       "      <td>2.079442</td>\n",
       "      <td>0.000000</td>\n",
       "    </tr>\n",
       "    <tr>\n",
       "      <th>0</th>\n",
       "      <td>1.791759</td>\n",
       "      <td>0.000000</td>\n",
       "    </tr>\n",
       "    <tr>\n",
       "      <th>0</th>\n",
       "      <td>1.791759</td>\n",
       "      <td>0.000000</td>\n",
       "    </tr>\n",
       "    <tr>\n",
       "      <th>1</th>\n",
       "      <td>2.079442</td>\n",
       "      <td>0.000000</td>\n",
       "    </tr>\n",
       "  </tbody>\n",
       "</table>\n",
       "</div>"
      ],
      "text/plain": [
       "         su101     su107\n",
       "sexo                    \n",
       "1     1.791759  0.693147\n",
       "1     2.079442  0.000000\n",
       "0     1.791759  0.000000\n",
       "0     1.791759  0.000000\n",
       "1     2.079442  0.000000"
      ]
     },
     "execution_count": 35,
     "metadata": {},
     "output_type": "execute_result"
    }
   ],
   "source": [
    "datos_rec_mod.head()"
   ]
  },
  {
   "cell_type": "code",
   "execution_count": 36,
   "metadata": {},
   "outputs": [
    {
     "data": {
      "text/html": [
       "<div>\n",
       "<style scoped>\n",
       "    .dataframe tbody tr th:only-of-type {\n",
       "        vertical-align: middle;\n",
       "    }\n",
       "\n",
       "    .dataframe tbody tr th {\n",
       "        vertical-align: top;\n",
       "    }\n",
       "\n",
       "    .dataframe thead th {\n",
       "        text-align: right;\n",
       "    }\n",
       "</style>\n",
       "<table border=\"1\" class=\"dataframe\">\n",
       "  <thead>\n",
       "    <tr style=\"text-align: right;\">\n",
       "      <th></th>\n",
       "      <th>su101</th>\n",
       "      <th>su107</th>\n",
       "      <th>media_f</th>\n",
       "    </tr>\n",
       "    <tr>\n",
       "      <th>sexo</th>\n",
       "      <th></th>\n",
       "      <th></th>\n",
       "      <th></th>\n",
       "    </tr>\n",
       "  </thead>\n",
       "  <tbody>\n",
       "    <tr>\n",
       "      <th>1</th>\n",
       "      <td>1.791759</td>\n",
       "      <td>0.693147</td>\n",
       "      <td>1.242453</td>\n",
       "    </tr>\n",
       "    <tr>\n",
       "      <th>1</th>\n",
       "      <td>2.079442</td>\n",
       "      <td>0.000000</td>\n",
       "      <td>1.039721</td>\n",
       "    </tr>\n",
       "    <tr>\n",
       "      <th>0</th>\n",
       "      <td>1.791759</td>\n",
       "      <td>0.000000</td>\n",
       "      <td>0.895880</td>\n",
       "    </tr>\n",
       "    <tr>\n",
       "      <th>0</th>\n",
       "      <td>1.791759</td>\n",
       "      <td>0.000000</td>\n",
       "      <td>0.895880</td>\n",
       "    </tr>\n",
       "    <tr>\n",
       "      <th>1</th>\n",
       "      <td>2.079442</td>\n",
       "      <td>0.000000</td>\n",
       "      <td>1.039721</td>\n",
       "    </tr>\n",
       "  </tbody>\n",
       "</table>\n",
       "</div>"
      ],
      "text/plain": [
       "         su101     su107   media_f\n",
       "sexo                              \n",
       "1     1.791759  0.693147  1.242453\n",
       "1     2.079442  0.000000  1.039721\n",
       "0     1.791759  0.000000  0.895880\n",
       "0     1.791759  0.000000  0.895880\n",
       "1     2.079442  0.000000  1.039721"
      ]
     },
     "execution_count": 36,
     "metadata": {},
     "output_type": "execute_result"
    }
   ],
   "source": [
    "datos_log.head()"
   ]
  },
  {
   "cell_type": "markdown",
   "metadata": {},
   "source": [
    "### F) ¿Las variables son independientes o no son independientes? Justifique su respuesta. "
   ]
  },
  {
   "cell_type": "markdown",
   "metadata": {},
   "source": [
    "No son independientes. Por que la frecuencia ij no fue el producto de las marginales."
   ]
  },
  {
   "cell_type": "markdown",
   "metadata": {},
   "source": [
    "### G) Si las variables no son independientes, obtenga la tabla del efecto de la interacción entre el factor fila y el factor columna. De una interpretación de los resultados obtenidos."
   ]
  },
  {
   "cell_type": "markdown",
   "metadata": {},
   "source": [
    "Quedó más arriba."
   ]
  },
  {
   "cell_type": "markdown",
   "metadata": {},
   "source": [
    "### H) Por qué se utilizan los modelos log-lineal para analizar este tipo de datos?"
   ]
  },
  {
   "cell_type": "markdown",
   "metadata": {},
   "source": [
    "Es útil para analizar la relacion entre dos o mas variables categóricas, acomodadas en una tabla de contingencia. Lo característico es que todas las variables que se analizan se consideran como variables respuesta, es decir, no se distingue entre variables independientes y dependientes."
   ]
  },
  {
   "cell_type": "markdown",
   "metadata": {},
   "source": [
    "### I) ¿Qué representan los términos del modelo log-lineal para el caso de no independencia"
   ]
  },
  {
   "cell_type": "markdown",
   "metadata": {},
   "source": [
    "La interacción no capturada entre los términos"
   ]
  },
  {
   "cell_type": "markdown",
   "metadata": {},
   "source": [
    "### J) Si tuviera tres variables para analizar y estas variables no fueran independientes, ¿cómo quedaría expresado el modelo log-lineal?"
   ]
  },
  {
   "cell_type": "markdown",
   "metadata": {},
   "source": [
    "ln(nijk) = mu + muif + mujc + mukd + muijcf + muikfd + muijkcfd"
   ]
  }
 ],
 "metadata": {
  "kernelspec": {
   "display_name": "Python 3",
   "language": "python",
   "name": "python3"
  },
  "language_info": {
   "codemirror_mode": {
    "name": "ipython",
    "version": 3
   },
   "file_extension": ".py",
   "mimetype": "text/x-python",
   "name": "python",
   "nbconvert_exporter": "python",
   "pygments_lexer": "ipython3",
   "version": "3.6.8"
  }
 },
 "nbformat": 4,
 "nbformat_minor": 2
}
