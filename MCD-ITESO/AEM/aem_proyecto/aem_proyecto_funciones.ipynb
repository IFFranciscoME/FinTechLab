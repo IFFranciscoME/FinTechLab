{
 "cells": [
  {
   "cell_type": "markdown",
   "metadata": {},
   "source": [
    "**Notebook: Funciones**"
   ]
  },
  {
   "cell_type": "markdown",
   "metadata": {},
   "source": [
    "<img src=\"http://oci02.img.iteso.mx/identidad_de_instancia_2018/ITESO/Logos%20ITESO/Logo-ITESO-Principal.jpg\">"
   ]
  },
  {
   "cell_type": "markdown",
   "metadata": {},
   "source": [
    "<center> <font color= #004A94> <font size = 6> Msc Ciencia de datos </font> <br> <br> <font color= #047CFB> <font size = 4>I.F. Juan Francisco Muñoz Elguezabal - franciscome@iteso.mx </font>"
   ]
  },
  {
   "cell_type": "markdown",
   "metadata": {},
   "source": [
    "<center><font color= #004A94> <font size = 6> ANÁLISIS ESTADÍSTICO MULTIVARIABLE </font> <br> <br>"
   ]
  },
  {
   "cell_type": "markdown",
   "metadata": {},
   "source": [
    "<center><font color=#42c29b><font size=5> Una comparación entre modelos regresivos lineales y clustering secuencial como predictores de series de tiempo financieras </font> <br> <br>\n",
    "\n",
    "<center><font color=#047CFB><font size=5> El caso  de una estrategia de trading para el mercado internacional de divisas </font> <br> <br> \n",
    "    \n",
    "<center> <font color= #047CFB> <font size = 4> Repositorio: <a href='https://github.com/IFFranciscoME/FinTechLab/tree/master/'>Link</a></font>"
   ]
  },
  {
   "cell_type": "markdown",
   "metadata": {},
   "source": [
    "---"
   ]
  },
  {
   "cell_type": "markdown",
   "metadata": {},
   "source": [
    "## <span style=\"color:#004A94\"> Cargar librerías </span>"
   ]
  },
  {
   "cell_type": "code",
   "execution_count": null,
   "metadata": {},
   "outputs": [],
   "source": [
    "import numpy as np                                        # funciones numericas\n",
    "import pandas as pd                                       # dataframes y utilidades\n",
    "from statsmodels.tsa.api import acf, pacf                 # funciones de econometria\n",
    "\n",
    "from sklearn.preprocessing import StandardScaler          # estandarizacion de variables\n",
    "from sklearn.decomposition import PCA                     # analisis de componentes principales (PCA)\n",
    "import statsmodels.api as sm                              # utilidades para modelo regresion lineal\n",
    "from sklearn.model_selection import train_test_split      # separacion de conjunto de entrenamiento y prueba\n",
    "\n",
    "pd.set_option('display.max_rows', None)                   # sin limite de renglones maximos para mostrar pandas\n",
    "pd.set_option('display.max_columns', None)                # sin limite de columnas maximas para mostrar pandas\n",
    "pd.set_option('display.width', None)                      # sin limite el ancho del display\n",
    "pd.set_option('display.expand_frame_repr', False)         # visualizar todas las columnas de un dataframe\n",
    "pd.options.mode.chained_assignment = None                 # para evitar el warning enfadoso de indexacion"
   ]
  },
  {
   "cell_type": "markdown",
   "metadata": {},
   "source": [
    "## <span style=\"color:#004A94\"> FUNCIÓN: Generación de variables exógenas </span>"
   ]
  },
  {
   "cell_type": "code",
   "execution_count": null,
   "metadata": {},
   "outputs": [],
   "source": []
  },
  {
   "cell_type": "markdown",
   "metadata": {},
   "source": [
    "## <span style=\"color:#004A94\"> FUNCIÓN: Generación de variables endógenas </span>"
   ]
  },
  {
   "cell_type": "markdown",
   "metadata": {},
   "source": [
    "se hizo que"
   ]
  },
  {
   "cell_type": "code",
   "execution_count": 1,
   "metadata": {},
   "outputs": [],
   "source": [
    "# -- ------------------------------------------------- FUNCION: Generacion de variables ENDOGENAS series de tiempo -- #\n",
    "# -- ---------------------------------------------------------------------------------------------- Version manual -- #\n",
    "\n",
    "def f_features_end(p_datos):\n",
    "    \"\"\"\n",
    "    :param p_datos: pd.DataFrae : dataframe con 5 columnas 'timestamp', 'open', 'high', 'low', 'close'\n",
    "    :return: r_features : dataframe con 5 columnas originales, nombres cohercionados. + Features generados\n",
    "\n",
    "    # Debuging\n",
    "    p_datos = df_precios\n",
    "    p_datos = pd.DataFrame({''timestamp': {}, 'open': np.random.normal(1.1400, 0.0050, 20).\n",
    "                                              'high': np.random.normal(1.1400, 0.0050, 20),\n",
    "                                              'low': np.random.normal(1.1400, 0.0050, 20),\n",
    "                                              'close': np.random.normal(1.1400, 0.0050, 20)})\n",
    "    \"\"\"\n",
    "\n",
    "    datos = p_datos\n",
    "    datos.columns = ['timestamp', 'open', 'high', 'low', 'close']\n",
    "\n",
    "    cols = list(datos.columns)[1:]\n",
    "    datos[cols] = datos[cols].apply(pd.to_numeric, errors='coerce')\n",
    "\n",
    "    # formato columna timestamp como 'datetime'\n",
    "    datos['timestamp'] = pd.to_datetime(datos['timestamp'])\n",
    "    # datos['timestamp'] = datos['timestamp'].dt.tz_localize('UTC')\n",
    "\n",
    "    # rendimiento logaritmico de ventana 1\n",
    "    datos['logrend'] = np.log(datos['close']/datos['close'].shift(1)).dropna()\n",
    "\n",
    "    # pips descontados al cierre\n",
    "    datos['co'] = (datos['close']-datos['open'])*10000\n",
    "\n",
    "    # pips descontados alcistas\n",
    "    datos['ho'] = (datos['high'] - datos['open'])*10000\n",
    "\n",
    "    # pips descontados bajistas\n",
    "    datos['ol'] = (datos['open'] - datos['low'])*10000\n",
    "\n",
    "    # pips descontados en total (medida de volatilidad)\n",
    "    datos['hl'] = (datos['high'] - datos['low'])*10000\n",
    "\n",
    "    # funciones de ACF y PACF para determinar ancho de ventana historica\n",
    "    data_acf = acf(datos['logrend'].dropna(), nlags=12, fft=True)\n",
    "    data_pac = pacf(datos['logrend'].dropna(), nlags=12)\n",
    "    sig = round(1.96/np.sqrt(len(datos['logrend'])), 4)\n",
    "\n",
    "    # componentes AR y MA\n",
    "    maxs = list(set(list(np.where((data_pac > sig) | (data_pac < -sig))[0]) +\n",
    "                    list(np.where((data_acf > sig) | (data_acf < -sig))[0])))\n",
    "    # encontrar la componente maxima como indicativo de informacion historica autorelacionada\n",
    "    max_n = maxs[np.argmax(maxs)]\n",
    "\n",
    "    # condicion arbitraria: 5 resagos minimos para calcular variables moviles\n",
    "    if max_n <= 2:\n",
    "        max_n = 5\n",
    "\n",
    "    # ciclo para calcular N features con logica de \"Ventanas de tamaño n\"\n",
    "    for n in range(0, max_n):\n",
    "\n",
    "        # resago n de ho\n",
    "        datos['lag_ho_' + str(n + 1)] = np.log(datos['ho'].shift(n + 1))\n",
    "\n",
    "        # resago n de ol\n",
    "        datos['lag_ol_' + str(n + 1)] = np.log(datos['ol'].shift(n + 1))\n",
    "\n",
    "        # promedio movil de ventana n\n",
    "        datos['ma_ol_' + str(n + 2)] = datos['ol'].rolling(n + 2).mean()\n",
    "\n",
    "        # promedio movil de ventana n\n",
    "        datos['ma_ho_' + str(n + 2)] = datos['ho'].rolling(n + 2).mean()\n",
    "\n",
    "    # asignar timestamp como index\n",
    "    datos.index = pd.to_datetime(datos['timestamp'])\n",
    "    # quitar columnas no necesarias para modelos de ML\n",
    "    datos = datos.drop(['timestamp', 'open', 'high', 'low', 'close', 'hl', 'logrend'], axis=1)\n",
    "    # borrar columnas donde exista solo NAs\n",
    "    r_features = datos.dropna(axis='columns', how='all')\n",
    "    # borrar renglones donde exista algun NA\n",
    "    r_features = r_features.dropna(axis='rows')\n",
    "    # convertir a numeros tipo float las columnas\n",
    "    r_features.iloc[:, 1:] = r_features.iloc[:, 1:].astype(float)\n",
    "    # estandarizacion de todas las variables independientes\n",
    "    r_features[list(r_features.columns[1:])] = StandardScaler().fit_transform(r_features[list(r_features.columns[1:])])\n",
    "\n",
    "    return r_features\n"
   ]
  },
  {
   "cell_type": "markdown",
   "metadata": {},
   "source": [
    "## <span style=\"color:#004A94\"> FUNCIÓN: Ajuste de Regresión Lineal Multivariada </span>"
   ]
  },
  {
   "cell_type": "code",
   "execution_count": null,
   "metadata": {},
   "outputs": [],
   "source": []
  },
  {
   "cell_type": "markdown",
   "metadata": {},
   "source": [
    "## <span style=\"color:#004A94\"> FUNCIÓN: Reducción de dimensionalidad con PCA </span>"
   ]
  },
  {
   "cell_type": "code",
   "execution_count": null,
   "metadata": {},
   "outputs": [],
   "source": []
  }
 ],
 "metadata": {
  "kernelspec": {
   "display_name": "Python 3",
   "language": "python",
   "name": "python3"
  },
  "language_info": {
   "codemirror_mode": {
    "name": "ipython",
    "version": 3
   },
   "file_extension": ".py",
   "mimetype": "text/x-python",
   "name": "python",
   "nbconvert_exporter": "python",
   "pygments_lexer": "ipython3",
   "version": "3.6.8"
  }
 },
 "nbformat": 4,
 "nbformat_minor": 2
}
