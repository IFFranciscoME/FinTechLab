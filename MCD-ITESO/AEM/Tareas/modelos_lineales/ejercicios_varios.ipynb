{
 "cells": [
  {
   "cell_type": "markdown",
   "metadata": {},
   "source": [
    "<img src=\"http://oci02.img.iteso.mx/identidad_de_instancia_2018/ITESO/Logos%20ITESO/Logo-ITESO-Principal.jpg\">"
   ]
  },
  {
   "cell_type": "markdown",
   "metadata": {},
   "source": [
    "<center> <font color= #004A94> <font size = 6> Msc Ciencia de datos </font> <br> <br> <font color= #047CFB> <font size = 5>I.F. Juan Francisco Muñoz Elguezabal</font> <br> <br>"
   ]
  },
  {
   "cell_type": "markdown",
   "metadata": {},
   "source": [
    "<center><font color= #42c29b> <font size = 6> Ejercicios varios de modelos lineales </font> <br> <br> <font color= #047CFB> <font size = 5>Repositorio: <a href='https://github.com/IFFranciscoME/FinTechLab/tree/master/'>Link</a></font>"
   ]
  },
  {
   "cell_type": "markdown",
   "metadata": {},
   "source": [
    "---"
   ]
  },
  {
   "cell_type": "markdown",
   "metadata": {},
   "source": [
    "## Cargar librerías y scritps"
   ]
  },
  {
   "cell_type": "code",
   "execution_count": 1,
   "metadata": {},
   "outputs": [],
   "source": [
    "import numpy as np                                        # funciones matematicas\n",
    "import pandas as pd                                       # dataframes y utilidades\n",
    "import visualizaciones as vs                              # funciones de visualizacion\n",
    "import statsmodels.api as sm                              # modelos estadisticos\n",
    "from statsmodels.stats.multicomp import MultiComparison   # herramientas estadisticas: multicomparacion\n",
    "from statsmodels.formula.api import ols                   # herramientas estadisticas: modelo lineal con ols\n",
    "from sklearn.model_selection import train_test_split      # separar conjunto de entrenamiento y prueba\n",
    "pd.options.mode.chained_assignment = None                 # para evitar el warning enfadoso de indexacion"
   ]
  },
  {
   "cell_type": "markdown",
   "metadata": {},
   "source": [
    "## Ejercicio 1: Gasto Familiar"
   ]
  },
  {
   "cell_type": "markdown",
   "metadata": {},
   "source": [
    "Se quiere ajustar un modelo que permita estimar los gastos en alimentación de una familia en base a la información que proporcionan las variables de ingresos mensuales y el número de miembros de la familia. Para ello se recoge una muestra aleatoria simple de 15 familiares cuyos resultados son los de la tabla adjunta. El gasto e ingresos está dado en cientos de miles de pesos"
   ]
  },
  {
   "cell_type": "markdown",
   "metadata": {},
   "source": [
    "### Cargar y limpiar datos"
   ]
  },
  {
   "cell_type": "code",
   "execution_count": 2,
   "metadata": {},
   "outputs": [],
   "source": [
    "df_gasto = pd.read_excel('archivos/datos_gastofamiliar.xlsx')"
   ]
  },
  {
   "cell_type": "code",
   "execution_count": 3,
   "metadata": {},
   "outputs": [
    {
     "data": {
      "text/html": [
       "<div>\n",
       "<style scoped>\n",
       "    .dataframe tbody tr th:only-of-type {\n",
       "        vertical-align: middle;\n",
       "    }\n",
       "\n",
       "    .dataframe tbody tr th {\n",
       "        vertical-align: top;\n",
       "    }\n",
       "\n",
       "    .dataframe thead th {\n",
       "        text-align: right;\n",
       "    }\n",
       "</style>\n",
       "<table border=\"1\" class=\"dataframe\">\n",
       "  <thead>\n",
       "    <tr style=\"text-align: right;\">\n",
       "      <th></th>\n",
       "      <th>Gasto</th>\n",
       "      <th>Ingreso</th>\n",
       "      <th>Tamaño</th>\n",
       "    </tr>\n",
       "  </thead>\n",
       "  <tbody>\n",
       "    <tr>\n",
       "      <th>0</th>\n",
       "      <td>0.43</td>\n",
       "      <td>2.1</td>\n",
       "      <td>3</td>\n",
       "    </tr>\n",
       "    <tr>\n",
       "      <th>1</th>\n",
       "      <td>0.31</td>\n",
       "      <td>1.1</td>\n",
       "      <td>4</td>\n",
       "    </tr>\n",
       "    <tr>\n",
       "      <th>2</th>\n",
       "      <td>0.32</td>\n",
       "      <td>0.9</td>\n",
       "      <td>5</td>\n",
       "    </tr>\n",
       "    <tr>\n",
       "      <th>3</th>\n",
       "      <td>0.46</td>\n",
       "      <td>1.6</td>\n",
       "      <td>4</td>\n",
       "    </tr>\n",
       "    <tr>\n",
       "      <th>4</th>\n",
       "      <td>1.25</td>\n",
       "      <td>6.2</td>\n",
       "      <td>4</td>\n",
       "    </tr>\n",
       "  </tbody>\n",
       "</table>\n",
       "</div>"
      ],
      "text/plain": [
       "   Gasto  Ingreso  Tamaño\n",
       "0   0.43      2.1       3\n",
       "1   0.31      1.1       4\n",
       "2   0.32      0.9       5\n",
       "3   0.46      1.6       4\n",
       "4   1.25      6.2       4"
      ]
     },
     "execution_count": 3,
     "metadata": {},
     "output_type": "execute_result"
    }
   ],
   "source": [
    "df_gasto.head()"
   ]
  },
  {
   "cell_type": "markdown",
   "metadata": {},
   "source": [
    "#### A) Obtenga el modelo lineal que permitirá estimar los gastos de alimentación en función de los ingresos mensuales de la familia."
   ]
  },
  {
   "cell_type": "code",
   "execution_count": 4,
   "metadata": {},
   "outputs": [],
   "source": [
    "x_train, x_test, y_train, y_test = train_test_split(df_gasto.loc[:, 'Ingreso'],\n",
    "                                                    df_gasto.loc[:, 'Gasto'],\n",
    "                                                    test_size=0.20, random_state=0, shuffle=False)"
   ]
  },
  {
   "cell_type": "code",
   "execution_count": 5,
   "metadata": {},
   "outputs": [
    {
     "name": "stdout",
     "output_type": "stream",
     "text": [
      "                                 OLS Regression Results                                \n",
      "=======================================================================================\n",
      "Dep. Variable:                  Gasto   R-squared (uncentered):                   0.980\n",
      "Model:                            OLS   Adj. R-squared (uncentered):              0.976\n",
      "Method:                 Least Squares   F-statistic:                              241.7\n",
      "Date:                Wed, 23 Oct 2019   Prob (F-statistic):                    3.42e-09\n",
      "Time:                        13:13:59   Log-Likelihood:                          11.357\n",
      "No. Observations:                  12   AIC:                                     -18.71\n",
      "Df Residuals:                      10   BIC:                                     -17.74\n",
      "Df Model:                           2                                                  \n",
      "Covariance Type:            nonrobust                                                  \n",
      "==============================================================================\n",
      "                 coef    std err          t      P>|t|      [0.025      0.975]\n",
      "------------------------------------------------------------------------------\n",
      "const          0.1755      0.046      3.788      0.004       0.072       0.279\n",
      "Ingreso        0.1370      0.012     10.976      0.000       0.109       0.165\n",
      "==============================================================================\n",
      "Omnibus:                        3.855   Durbin-Watson:                   1.706\n",
      "Prob(Omnibus):                  0.146   Jarque-Bera (JB):                1.375\n",
      "Skew:                           0.768   Prob(JB):                        0.503\n",
      "Kurtosis:                       3.626   Cond. No.                         6.05\n",
      "==============================================================================\n",
      "\n",
      "Warnings:\n",
      "[1] Standard Errors assume that the covariance matrix of the errors is correctly specified.\n"
     ]
    },
    {
     "name": "stderr",
     "output_type": "stream",
     "text": [
      "/usr/local/lib/python3.6/dist-packages/scipy/stats/stats.py:1394: UserWarning:\n",
      "\n",
      "kurtosistest only valid for n>=20 ... continuing anyway, n=12\n",
      "\n"
     ]
    }
   ],
   "source": [
    "# Agregar interceptos a X en entrenamiento y prueba\n",
    "x_train_betha = sm.add_constant(x_train)\n",
    "x_test_betha = sm.add_constant(x_test)\n",
    "modelo = sm.OLS(y_train, x_train_betha, hasconst=False)\n",
    "resultados_a = modelo.fit()\n",
    "print(resultados_a.summary())"
   ]
  },
  {
   "cell_type": "markdown",
   "metadata": {},
   "source": [
    "#### B) ¿Cuáles el valor de las predicciones obtenidas por el modelo?"
   ]
  },
  {
   "cell_type": "code",
   "execution_count": 6,
   "metadata": {},
   "outputs": [
    {
     "data": {
      "text/html": [
       "<div>\n",
       "<style scoped>\n",
       "    .dataframe tbody tr th:only-of-type {\n",
       "        vertical-align: middle;\n",
       "    }\n",
       "\n",
       "    .dataframe tbody tr th {\n",
       "        vertical-align: top;\n",
       "    }\n",
       "\n",
       "    .dataframe thead th {\n",
       "        text-align: right;\n",
       "    }\n",
       "</style>\n",
       "<table border=\"1\" class=\"dataframe\">\n",
       "  <thead>\n",
       "    <tr style=\"text-align: right;\">\n",
       "      <th></th>\n",
       "      <th>Gasto_real</th>\n",
       "      <th>Gasto_pred</th>\n",
       "      <th>Diff</th>\n",
       "    </tr>\n",
       "  </thead>\n",
       "  <tbody>\n",
       "    <tr>\n",
       "      <th>12</th>\n",
       "      <td>0.43</td>\n",
       "      <td>0.65</td>\n",
       "      <td>0.22</td>\n",
       "    </tr>\n",
       "    <tr>\n",
       "      <th>13</th>\n",
       "      <td>0.47</td>\n",
       "      <td>0.57</td>\n",
       "      <td>0.10</td>\n",
       "    </tr>\n",
       "    <tr>\n",
       "      <th>14</th>\n",
       "      <td>0.38</td>\n",
       "      <td>0.37</td>\n",
       "      <td>-0.01</td>\n",
       "    </tr>\n",
       "  </tbody>\n",
       "</table>\n",
       "</div>"
      ],
      "text/plain": [
       "    Gasto_real  Gasto_pred  Diff\n",
       "12        0.43        0.65  0.22\n",
       "13        0.47        0.57  0.10\n",
       "14        0.38        0.37 -0.01"
      ]
     },
     "execution_count": 6,
     "metadata": {},
     "output_type": "execute_result"
    }
   ],
   "source": [
    "resultados_p = resultados_a.predict(np.array(x_test_betha))\n",
    "df_resultados_p = pd.DataFrame({'Gasto_real': y_test,\n",
    "                                'Gasto_pred': np.round(resultados_p, 2),\n",
    "                                'Diff': np.round(resultados_p-y_test, 2)})\n",
    "df_resultados_p.head()"
   ]
  },
  {
   "cell_type": "markdown",
   "metadata": {},
   "source": [
    "#### C) Obtenga el modelo lineal que permitirá estimar los gastos de alimentación en función de los ingresos mensuales y del número de miembros de la familia."
   ]
  },
  {
   "cell_type": "code",
   "execution_count": 7,
   "metadata": {},
   "outputs": [
    {
     "name": "stdout",
     "output_type": "stream",
     "text": [
      "                                 OLS Regression Results                                \n",
      "=======================================================================================\n",
      "Dep. Variable:                  Gasto   R-squared (uncentered):                   0.988\n",
      "Model:                            OLS   Adj. R-squared (uncentered):              0.985\n",
      "Method:                 Least Squares   F-statistic:                              257.3\n",
      "Date:                Wed, 23 Oct 2019   Prob (F-statistic):                    4.88e-09\n",
      "Time:                        13:13:59   Log-Likelihood:                          14.742\n",
      "No. Observations:                  12   AIC:                                     -23.48\n",
      "Df Residuals:                       9   BIC:                                     -22.03\n",
      "Df Model:                           3                                                  \n",
      "Covariance Type:            nonrobust                                                  \n",
      "==============================================================================\n",
      "                 coef    std err          t      P>|t|      [0.025      0.975]\n",
      "------------------------------------------------------------------------------\n",
      "const         -0.0944      0.110     -0.861      0.412      -0.343       0.154\n",
      "Ingreso        0.1476      0.011     13.762      0.000       0.123       0.172\n",
      "Tamaño         0.0625      0.024      2.612      0.028       0.008       0.117\n",
      "==============================================================================\n",
      "Omnibus:                        6.134   Durbin-Watson:                   1.141\n",
      "Prob(Omnibus):                  0.047   Jarque-Bera (JB):                2.496\n",
      "Skew:                           0.934   Prob(JB):                        0.287\n",
      "Kurtosis:                       4.225   Cond. No.                         24.1\n",
      "==============================================================================\n",
      "\n",
      "Warnings:\n",
      "[1] Standard Errors assume that the covariance matrix of the errors is correctly specified.\n"
     ]
    }
   ],
   "source": [
    "x_train, x_test, y_train, y_test = train_test_split(df_gasto.loc[:, ['Ingreso','Tamaño']],\n",
    "                                                    df_gasto.loc[:, 'Gasto'],\n",
    "                                                    test_size=0.20, random_state=0, shuffle=False)\n",
    "# Agregar interceptos a X en entrenamiento y prueba\n",
    "x_train_betha = sm.add_constant(x_train)\n",
    "x_test_betha = sm.add_constant(x_test)\n",
    "modelo = sm.OLS(y_train, x_train_betha, hasconst=False)\n",
    "resultados_a = modelo.fit()\n",
    "print(resultados_a.summary())"
   ]
  },
  {
   "cell_type": "markdown",
   "metadata": {},
   "source": [
    "#### D) ¿Cuáles son las predicciones obtenidas por el modelo?"
   ]
  },
  {
   "cell_type": "code",
   "execution_count": 8,
   "metadata": {},
   "outputs": [
    {
     "data": {
      "text/html": [
       "<div>\n",
       "<style scoped>\n",
       "    .dataframe tbody tr th:only-of-type {\n",
       "        vertical-align: middle;\n",
       "    }\n",
       "\n",
       "    .dataframe tbody tr th {\n",
       "        vertical-align: top;\n",
       "    }\n",
       "\n",
       "    .dataframe thead th {\n",
       "        text-align: right;\n",
       "    }\n",
       "</style>\n",
       "<table border=\"1\" class=\"dataframe\">\n",
       "  <thead>\n",
       "    <tr style=\"text-align: right;\">\n",
       "      <th></th>\n",
       "      <th>Gasto_real</th>\n",
       "      <th>Gasto_pred</th>\n",
       "      <th>Diff</th>\n",
       "    </tr>\n",
       "  </thead>\n",
       "  <tbody>\n",
       "    <tr>\n",
       "      <th>12</th>\n",
       "      <td>0.43</td>\n",
       "      <td>0.55</td>\n",
       "      <td>0.12</td>\n",
       "    </tr>\n",
       "    <tr>\n",
       "      <th>13</th>\n",
       "      <td>0.47</td>\n",
       "      <td>0.52</td>\n",
       "      <td>0.05</td>\n",
       "    </tr>\n",
       "    <tr>\n",
       "      <th>14</th>\n",
       "      <td>0.38</td>\n",
       "      <td>0.36</td>\n",
       "      <td>-0.02</td>\n",
       "    </tr>\n",
       "  </tbody>\n",
       "</table>\n",
       "</div>"
      ],
      "text/plain": [
       "    Gasto_real  Gasto_pred  Diff\n",
       "12        0.43        0.55  0.12\n",
       "13        0.47        0.52  0.05\n",
       "14        0.38        0.36 -0.02"
      ]
     },
     "execution_count": 8,
     "metadata": {},
     "output_type": "execute_result"
    }
   ],
   "source": [
    "resultados_p = resultados_a.predict(np.array(x_test_betha))\n",
    "df_resultados_p = pd.DataFrame({'Gasto_real': y_test,\n",
    "                                'Gasto_pred': np.round(resultados_p, 2),\n",
    "                                'Diff': np.round(resultados_p-y_test, 2)})\n",
    "df_resultados_p.head()"
   ]
  },
  {
   "cell_type": "markdown",
   "metadata": {},
   "source": [
    "#### E) Obtenga los contrastes individuales de los coeficientes $\\beta_i$ con $\\alpha=0.05$  ¿Qué puede concluir con los resultados obtenidos?"
   ]
  },
  {
   "cell_type": "markdown",
   "metadata": {},
   "source": [
    "| Parámetro | Coeficiente $\\beta_i$  | p_value Vs $\\alpha$      | Conclusión 1        |\n",
    "| --------- | ---------------------- | ------------------------ | ------------------- |\n",
    "| const     | -0.0944                | 0.412 > 0.05             | No es significativo |\n",
    "| Ingreso   | 0.1476                 | 0.000 < 0.05             | Si es significativo | \n",
    "| Tamaño    | 0.0625                 | 0.028 < 0.05             | Si es significativo |"
   ]
  },
  {
   "cell_type": "markdown",
   "metadata": {},
   "source": [
    "El ingreso de una familia puede ser explicado según su ingreso y su tamaño. En ambos casos, a mayor ingreso, mayor gasto y a mayor tamaño mayor gasto también."
   ]
  },
  {
   "cell_type": "markdown",
   "metadata": {},
   "source": [
    "#### F) Estime el gasto en alimentación de una familia con ingresos de 3.0 y un tamaño de 4."
   ]
  },
  {
   "cell_type": "code",
   "execution_count": 9,
   "metadata": {},
   "outputs": [
    {
     "name": "stdout",
     "output_type": "stream",
     "text": [
      "El gasto estimado de una familia con ingresos de: 3.0 y de un tamaño de: 4 se pronostica será de: 1.0\n"
     ]
    }
   ],
   "source": [
    "x_test_betha_1 = pd.DataFrame({'const': 1, 'Ingreso': 3.0, 'Tamaño': 4}, index=[0])\n",
    "resultados_p = resultados_a.predict(np.array(x_test_betha_1))\n",
    "\n",
    "print('El gasto estimado de una familia con ingresos de: ' + str(x_test_betha_1['Ingreso'][0]) + \n",
    "      ' y de un tamaño de: ' + str(x_test_betha_1['Tamaño'][0]) + ' se pronostica será de: ' + \n",
    "      str(np.round(resultados_p[0])))"
   ]
  },
  {
   "cell_type": "markdown",
   "metadata": {},
   "source": [
    "#### G) ¿Qué pasaría si se quisiera estimar el gasto en la alimentación de una familia con 8 integrantes?"
   ]
  },
  {
   "cell_type": "markdown",
   "metadata": {},
   "source": [
    "Dejaré esto por aquí y continuaré con los otros ejercicios"
   ]
  },
  {
   "cell_type": "markdown",
   "metadata": {},
   "source": [
    "<img src=\"https://imgs.xkcd.com/comics/extrapolating.png\">"
   ]
  },
  {
   "cell_type": "markdown",
   "metadata": {},
   "source": [
    "#### H) Buscar una base de datos para regresión lineal de la siguiente liga  https://archive.ics.uci.edu/ml/index.php  y  obtener diferentes modelos lineales y hacer sus respectivos contrastes de hipótesis."
   ]
  },
  {
   "cell_type": "code",
   "execution_count": null,
   "metadata": {},
   "outputs": [],
   "source": []
  },
  {
   "cell_type": "markdown",
   "metadata": {},
   "source": [
    "## Ejercicio 2: Peces enfermos"
   ]
  },
  {
   "cell_type": "markdown",
   "metadata": {},
   "source": [
    "Se quiere estudiar el efecto de distintas dosis de un medicamento para combatir a los parásitos de peces criados en acuicultura. Para ello, se tomaron 60 peces al azar, y se dividieron en 5 grupos de 12 individuos cada uno. El primer grupo no fue medicado, pero a los restantes se les suministró el medicamento en dosis crecientes. Tras una semana de tratamiento, se contabilizaron los parásitos existentes en cada individuo, obteniendo los resultados siguientes:"
   ]
  },
  {
   "cell_type": "code",
   "execution_count": 10,
   "metadata": {},
   "outputs": [],
   "source": [
    "datos = pd.read_excel('archivos/datos_peces.xlsx', header=None)\n",
    "datos.columns = ['grupo'] + ['pez_' + str(i) for i in range(1, len(datos.columns))]"
   ]
  },
  {
   "cell_type": "code",
   "execution_count": 11,
   "metadata": {},
   "outputs": [
    {
     "data": {
      "text/html": [
       "<div>\n",
       "<style scoped>\n",
       "    .dataframe tbody tr th:only-of-type {\n",
       "        vertical-align: middle;\n",
       "    }\n",
       "\n",
       "    .dataframe tbody tr th {\n",
       "        vertical-align: top;\n",
       "    }\n",
       "\n",
       "    .dataframe thead th {\n",
       "        text-align: right;\n",
       "    }\n",
       "</style>\n",
       "<table border=\"1\" class=\"dataframe\">\n",
       "  <thead>\n",
       "    <tr style=\"text-align: right;\">\n",
       "      <th></th>\n",
       "      <th>grupo</th>\n",
       "      <th>pez_1</th>\n",
       "      <th>pez_2</th>\n",
       "      <th>pez_3</th>\n",
       "      <th>pez_4</th>\n",
       "      <th>pez_5</th>\n",
       "      <th>pez_6</th>\n",
       "      <th>pez_7</th>\n",
       "      <th>pez_8</th>\n",
       "      <th>pez_9</th>\n",
       "      <th>pez_10</th>\n",
       "      <th>pez_11</th>\n",
       "      <th>pez_12</th>\n",
       "    </tr>\n",
       "  </thead>\n",
       "  <tbody>\n",
       "    <tr>\n",
       "      <th>0</th>\n",
       "      <td>Control</td>\n",
       "      <td>50</td>\n",
       "      <td>65</td>\n",
       "      <td>72</td>\n",
       "      <td>46</td>\n",
       "      <td>38</td>\n",
       "      <td>29</td>\n",
       "      <td>70</td>\n",
       "      <td>85</td>\n",
       "      <td>72</td>\n",
       "      <td>40</td>\n",
       "      <td>57</td>\n",
       "      <td>59</td>\n",
       "    </tr>\n",
       "    <tr>\n",
       "      <th>1</th>\n",
       "      <td>25mg</td>\n",
       "      <td>49</td>\n",
       "      <td>47</td>\n",
       "      <td>30</td>\n",
       "      <td>602</td>\n",
       "      <td>62</td>\n",
       "      <td>60</td>\n",
       "      <td>19</td>\n",
       "      <td>28</td>\n",
       "      <td>56</td>\n",
       "      <td>62</td>\n",
       "      <td>55</td>\n",
       "      <td>40</td>\n",
       "    </tr>\n",
       "    <tr>\n",
       "      <th>2</th>\n",
       "      <td>50mg</td>\n",
       "      <td>20</td>\n",
       "      <td>59</td>\n",
       "      <td>64</td>\n",
       "      <td>61</td>\n",
       "      <td>28</td>\n",
       "      <td>47</td>\n",
       "      <td>29</td>\n",
       "      <td>41</td>\n",
       "      <td>60</td>\n",
       "      <td>57</td>\n",
       "      <td>61</td>\n",
       "      <td>38</td>\n",
       "    </tr>\n",
       "    <tr>\n",
       "      <th>3</th>\n",
       "      <td>100mg</td>\n",
       "      <td>20</td>\n",
       "      <td>23</td>\n",
       "      <td>38</td>\n",
       "      <td>31</td>\n",
       "      <td>27</td>\n",
       "      <td>16</td>\n",
       "      <td>27</td>\n",
       "      <td>18</td>\n",
       "      <td>22</td>\n",
       "      <td>12</td>\n",
       "      <td>24</td>\n",
       "      <td>11</td>\n",
       "    </tr>\n",
       "    <tr>\n",
       "      <th>4</th>\n",
       "      <td>125mg</td>\n",
       "      <td>18</td>\n",
       "      <td>30</td>\n",
       "      <td>22</td>\n",
       "      <td>26</td>\n",
       "      <td>31</td>\n",
       "      <td>11</td>\n",
       "      <td>15</td>\n",
       "      <td>12</td>\n",
       "      <td>31</td>\n",
       "      <td>36</td>\n",
       "      <td>16</td>\n",
       "      <td>13</td>\n",
       "    </tr>\n",
       "  </tbody>\n",
       "</table>\n",
       "</div>"
      ],
      "text/plain": [
       "     grupo  pez_1  pez_2  pez_3  pez_4  pez_5  pez_6  pez_7  pez_8  pez_9  \\\n",
       "0  Control     50     65     72     46     38     29     70     85     72   \n",
       "1     25mg     49     47     30    602     62     60     19     28     56   \n",
       "2     50mg     20     59     64     61     28     47     29     41     60   \n",
       "3    100mg     20     23     38     31     27     16     27     18     22   \n",
       "4    125mg     18     30     22     26     31     11     15     12     31   \n",
       "\n",
       "   pez_10  pez_11  pez_12  \n",
       "0      40      57      59  \n",
       "1      62      55      40  \n",
       "2      57      61      38  \n",
       "3      12      24      11  \n",
       "4      36      16      13  "
      ]
     },
     "execution_count": 11,
     "metadata": {},
     "output_type": "execute_result"
    }
   ],
   "source": [
    "datos"
   ]
  },
  {
   "cell_type": "code",
   "execution_count": 12,
   "metadata": {},
   "outputs": [
    {
     "data": {
      "text/html": [
       "<div>\n",
       "<style scoped>\n",
       "    .dataframe tbody tr th:only-of-type {\n",
       "        vertical-align: middle;\n",
       "    }\n",
       "\n",
       "    .dataframe tbody tr th {\n",
       "        vertical-align: top;\n",
       "    }\n",
       "\n",
       "    .dataframe thead th {\n",
       "        text-align: right;\n",
       "    }\n",
       "</style>\n",
       "<table border=\"1\" class=\"dataframe\">\n",
       "  <thead>\n",
       "    <tr style=\"text-align: right;\">\n",
       "      <th></th>\n",
       "      <th>grupo</th>\n",
       "      <th>value</th>\n",
       "    </tr>\n",
       "  </thead>\n",
       "  <tbody>\n",
       "    <tr>\n",
       "      <th>18</th>\n",
       "      <td>100mg</td>\n",
       "      <td>31</td>\n",
       "    </tr>\n",
       "    <tr>\n",
       "      <th>53</th>\n",
       "      <td>100mg</td>\n",
       "      <td>24</td>\n",
       "    </tr>\n",
       "    <tr>\n",
       "      <th>3</th>\n",
       "      <td>100mg</td>\n",
       "      <td>20</td>\n",
       "    </tr>\n",
       "    <tr>\n",
       "      <th>28</th>\n",
       "      <td>100mg</td>\n",
       "      <td>16</td>\n",
       "    </tr>\n",
       "    <tr>\n",
       "      <th>48</th>\n",
       "      <td>100mg</td>\n",
       "      <td>12</td>\n",
       "    </tr>\n",
       "    <tr>\n",
       "      <th>58</th>\n",
       "      <td>100mg</td>\n",
       "      <td>11</td>\n",
       "    </tr>\n",
       "    <tr>\n",
       "      <th>43</th>\n",
       "      <td>100mg</td>\n",
       "      <td>22</td>\n",
       "    </tr>\n",
       "    <tr>\n",
       "      <th>8</th>\n",
       "      <td>100mg</td>\n",
       "      <td>23</td>\n",
       "    </tr>\n",
       "    <tr>\n",
       "      <th>23</th>\n",
       "      <td>100mg</td>\n",
       "      <td>27</td>\n",
       "    </tr>\n",
       "    <tr>\n",
       "      <th>38</th>\n",
       "      <td>100mg</td>\n",
       "      <td>18</td>\n",
       "    </tr>\n",
       "    <tr>\n",
       "      <th>13</th>\n",
       "      <td>100mg</td>\n",
       "      <td>38</td>\n",
       "    </tr>\n",
       "    <tr>\n",
       "      <th>33</th>\n",
       "      <td>100mg</td>\n",
       "      <td>27</td>\n",
       "    </tr>\n",
       "    <tr>\n",
       "      <th>24</th>\n",
       "      <td>125mg</td>\n",
       "      <td>31</td>\n",
       "    </tr>\n",
       "    <tr>\n",
       "      <th>29</th>\n",
       "      <td>125mg</td>\n",
       "      <td>11</td>\n",
       "    </tr>\n",
       "  </tbody>\n",
       "</table>\n",
       "</div>"
      ],
      "text/plain": [
       "    grupo  value\n",
       "18  100mg     31\n",
       "53  100mg     24\n",
       "3   100mg     20\n",
       "28  100mg     16\n",
       "48  100mg     12\n",
       "58  100mg     11\n",
       "43  100mg     22\n",
       "8   100mg     23\n",
       "23  100mg     27\n",
       "38  100mg     18\n",
       "13  100mg     38\n",
       "33  100mg     27\n",
       "24  125mg     31\n",
       "29  125mg     11"
      ]
     },
     "execution_count": 12,
     "metadata": {},
     "output_type": "execute_result"
    }
   ],
   "source": [
    "datos = datos.melt(id_vars='grupo')\n",
    "datos = datos[['grupo', 'value']]\n",
    "datos = datos.sort_values(by=['grupo'])\n",
    "datos.head(14)"
   ]
  },
  {
   "cell_type": "markdown",
   "metadata": {},
   "source": [
    "#### A) Contrastar si el medicamento es efectivo contra los parásitos con $\\alpha=0.05$ y dar una interpretación de los resultados obtenidos."
   ]
  },
  {
   "cell_type": "code",
   "execution_count": 13,
   "metadata": {},
   "outputs": [
    {
     "data": {
      "text/html": [
       "<div>\n",
       "<style scoped>\n",
       "    .dataframe tbody tr th:only-of-type {\n",
       "        vertical-align: middle;\n",
       "    }\n",
       "\n",
       "    .dataframe tbody tr th {\n",
       "        vertical-align: top;\n",
       "    }\n",
       "\n",
       "    .dataframe thead th {\n",
       "        text-align: right;\n",
       "    }\n",
       "</style>\n",
       "<table border=\"1\" class=\"dataframe\">\n",
       "  <thead>\n",
       "    <tr style=\"text-align: right;\">\n",
       "      <th></th>\n",
       "      <th>sum_sq</th>\n",
       "      <th>df</th>\n",
       "      <th>F</th>\n",
       "      <th>PR(&gt;F)</th>\n",
       "    </tr>\n",
       "  </thead>\n",
       "  <tbody>\n",
       "    <tr>\n",
       "      <th>C(grupo)</th>\n",
       "      <td>40848.933333</td>\n",
       "      <td>4.0</td>\n",
       "      <td>1.91933</td>\n",
       "      <td>0.120162</td>\n",
       "    </tr>\n",
       "    <tr>\n",
       "      <th>Residual</th>\n",
       "      <td>292640.000000</td>\n",
       "      <td>55.0</td>\n",
       "      <td>NaN</td>\n",
       "      <td>NaN</td>\n",
       "    </tr>\n",
       "  </tbody>\n",
       "</table>\n",
       "</div>"
      ],
      "text/plain": [
       "                 sum_sq    df        F    PR(>F)\n",
       "C(grupo)   40848.933333   4.0  1.91933  0.120162\n",
       "Residual  292640.000000  55.0      NaN       NaN"
      ]
     },
     "execution_count": 13,
     "metadata": {},
     "output_type": "execute_result"
    }
   ],
   "source": [
    "# ajustar modelo lineal para (high - open)\n",
    "modelo_peces = ols('value ~ C(grupo)', data=datos[['grupo', 'value']]).fit()\n",
    "modelo_peces.summary()\n",
    "\n",
    "# tabla anova\n",
    "anova_table = sm.stats.anova_lm(modelo_peces, typ=2)\n",
    "anova_table"
   ]
  },
  {
   "cell_type": "markdown",
   "metadata": {},
   "source": [
    "### Planteamiento de Hipótesis"
   ]
  },
  {
   "cell_type": "markdown",
   "metadata": {},
   "source": [
    "Estadísticamente:\n",
    "\n",
    "- **H0**: la media de los grupos es la misma.\n",
    "- **Ha**: la media de al menos un grupo es diferente de la de los demás grupos.\n",
    "\n",
    "En el contexto del problema: \n",
    "\n",
    "- **H0**: Entre todos los grupos, no existe reducción en el promedio de parásitos encontrados en los peces.\n",
    "- **Ha**: Al menos en 1 grupo hubo variación significativa en el promedio de parásitos encontrado en los peces. "
   ]
  },
  {
   "cell_type": "markdown",
   "metadata": {},
   "source": [
    "Se observa que el valor p es **0.120162** y es > 0.05, por lo tanto *se acepta* la **H0:  Entre todos los grupos, no hubo reducción en el promedio de parásitos encontrados en los peces después de aplicar diferentes tratamientos en cada grupo**."
   ]
  },
  {
   "cell_type": "markdown",
   "metadata": {},
   "source": [
    "No podríamos atribuir si es debido a la inefectividad del medicamento que no hubo reducción en los parásitos de los peces, tendría que hacerse un diagrama causal, pero, algo si podemos hacer. Podemos cantar, podemos cantar con tristeza pero con certeza estadística, *Pero mira como mueren los peces en el rio ... mueren y mueren los peces en el rio*"
   ]
  },
  {
   "cell_type": "markdown",
   "metadata": {},
   "source": [
    "## Ejercicio 3: Guadalajara ya no huele a tierra mojada"
   ]
  },
  {
   "cell_type": "code",
   "execution_count": 1,
   "metadata": {},
   "outputs": [
    {
     "ename": "NameError",
     "evalue": "name 'pd' is not defined",
     "output_type": "error",
     "traceback": [
      "\u001b[0;31m---------------------------------------------------------------------------\u001b[0m",
      "\u001b[0;31mNameError\u001b[0m                                 Traceback (most recent call last)",
      "\u001b[0;32m<ipython-input-1-504c0c3496b8>\u001b[0m in \u001b[0;36m<module>\u001b[0;34m\u001b[0m\n\u001b[0;32m----> 1\u001b[0;31m \u001b[0mdatos\u001b[0m \u001b[0;34m=\u001b[0m \u001b[0mpd\u001b[0m\u001b[0;34m.\u001b[0m\u001b[0mread_excel\u001b[0m\u001b[0;34m(\u001b[0m\u001b[0;34m'archivos/datos_ambientales.xlsx'\u001b[0m\u001b[0;34m,\u001b[0m \u001b[0mheader\u001b[0m\u001b[0;34m=\u001b[0m\u001b[0;32mNone\u001b[0m\u001b[0;34m)\u001b[0m\u001b[0;34m\u001b[0m\u001b[0;34m\u001b[0m\u001b[0m\n\u001b[0m",
      "\u001b[0;31mNameError\u001b[0m: name 'pd' is not defined"
     ]
    }
   ],
   "source": [
    "datos = pd.read_excel('archivos/datos_ambientales.xlsx', header=None)"
   ]
  },
  {
   "cell_type": "markdown",
   "metadata": {},
   "source": [
    "## Ejercicio 4: Aspirina para el corazon"
   ]
  },
  {
   "cell_type": "code",
   "execution_count": 87,
   "metadata": {},
   "outputs": [],
   "source": [
    "datos = pd.DataFrame({'Mortal': [18, 5], 'No mortal': [171, 99], 'No ataque': [10845, 10933]}, index=['Placebo', 'Aspirina'])\n",
    "total_p = 11034\n",
    "total_a = 11037"
   ]
  },
  {
   "cell_type": "code",
   "execution_count": 88,
   "metadata": {},
   "outputs": [
    {
     "data": {
      "text/html": [
       "<div>\n",
       "<style scoped>\n",
       "    .dataframe tbody tr th:only-of-type {\n",
       "        vertical-align: middle;\n",
       "    }\n",
       "\n",
       "    .dataframe tbody tr th {\n",
       "        vertical-align: top;\n",
       "    }\n",
       "\n",
       "    .dataframe thead th {\n",
       "        text-align: right;\n",
       "    }\n",
       "</style>\n",
       "<table border=\"1\" class=\"dataframe\">\n",
       "  <thead>\n",
       "    <tr style=\"text-align: right;\">\n",
       "      <th></th>\n",
       "      <th>Mortal</th>\n",
       "      <th>No mortal</th>\n",
       "      <th>No ataque</th>\n",
       "    </tr>\n",
       "  </thead>\n",
       "  <tbody>\n",
       "    <tr>\n",
       "      <th>Placebo</th>\n",
       "      <td>18</td>\n",
       "      <td>171</td>\n",
       "      <td>10845</td>\n",
       "    </tr>\n",
       "    <tr>\n",
       "      <th>Aspirina</th>\n",
       "      <td>5</td>\n",
       "      <td>99</td>\n",
       "      <td>10933</td>\n",
       "    </tr>\n",
       "  </tbody>\n",
       "</table>\n",
       "</div>"
      ],
      "text/plain": [
       "          Mortal  No mortal  No ataque\n",
       "Placebo       18        171      10845\n",
       "Aspirina       5         99      10933"
      ]
     },
     "execution_count": 88,
     "metadata": {},
     "output_type": "execute_result"
    }
   ],
   "source": [
    "datos"
   ]
  },
  {
   "cell_type": "markdown",
   "metadata": {},
   "source": [
    "#### Calcular los log de: $x_{ij}$"
   ]
  },
  {
   "cell_type": "code",
   "execution_count": 89,
   "metadata": {},
   "outputs": [],
   "source": [
    "datos_log = np.log(datos)"
   ]
  },
  {
   "cell_type": "code",
   "execution_count": 90,
   "metadata": {},
   "outputs": [
    {
     "data": {
      "text/html": [
       "<div>\n",
       "<style scoped>\n",
       "    .dataframe tbody tr th:only-of-type {\n",
       "        vertical-align: middle;\n",
       "    }\n",
       "\n",
       "    .dataframe tbody tr th {\n",
       "        vertical-align: top;\n",
       "    }\n",
       "\n",
       "    .dataframe thead th {\n",
       "        text-align: right;\n",
       "    }\n",
       "</style>\n",
       "<table border=\"1\" class=\"dataframe\">\n",
       "  <thead>\n",
       "    <tr style=\"text-align: right;\">\n",
       "      <th></th>\n",
       "      <th>Mortal</th>\n",
       "      <th>No mortal</th>\n",
       "      <th>No ataque</th>\n",
       "    </tr>\n",
       "  </thead>\n",
       "  <tbody>\n",
       "    <tr>\n",
       "      <th>Placebo</th>\n",
       "      <td>2.890372</td>\n",
       "      <td>5.141664</td>\n",
       "      <td>9.291459</td>\n",
       "    </tr>\n",
       "    <tr>\n",
       "      <th>Aspirina</th>\n",
       "      <td>1.609438</td>\n",
       "      <td>4.595120</td>\n",
       "      <td>9.299541</td>\n",
       "    </tr>\n",
       "  </tbody>\n",
       "</table>\n",
       "</div>"
      ],
      "text/plain": [
       "            Mortal  No mortal  No ataque\n",
       "Placebo   2.890372   5.141664   9.291459\n",
       "Aspirina  1.609438   4.595120   9.299541"
      ]
     },
     "execution_count": 90,
     "metadata": {},
     "output_type": "execute_result"
    }
   ],
   "source": [
    "datos_log"
   ]
  },
  {
   "cell_type": "markdown",
   "metadata": {},
   "source": [
    "#### Calcular y colocar la media de los datos por columna $c$ y la media de los datos por fila $f$"
   ]
  },
  {
   "cell_type": "code",
   "execution_count": 91,
   "metadata": {},
   "outputs": [
    {
     "data": {
      "text/html": [
       "<div>\n",
       "<style scoped>\n",
       "    .dataframe tbody tr th:only-of-type {\n",
       "        vertical-align: middle;\n",
       "    }\n",
       "\n",
       "    .dataframe tbody tr th {\n",
       "        vertical-align: top;\n",
       "    }\n",
       "\n",
       "    .dataframe thead th {\n",
       "        text-align: right;\n",
       "    }\n",
       "</style>\n",
       "<table border=\"1\" class=\"dataframe\">\n",
       "  <thead>\n",
       "    <tr style=\"text-align: right;\">\n",
       "      <th></th>\n",
       "      <th>Mortal</th>\n",
       "      <th>No mortal</th>\n",
       "      <th>No ataque</th>\n",
       "      <th>media_f</th>\n",
       "    </tr>\n",
       "  </thead>\n",
       "  <tbody>\n",
       "    <tr>\n",
       "      <th>Placebo</th>\n",
       "      <td>2.890372</td>\n",
       "      <td>5.141664</td>\n",
       "      <td>9.291459</td>\n",
       "      <td>5.774498</td>\n",
       "    </tr>\n",
       "    <tr>\n",
       "      <th>Aspirina</th>\n",
       "      <td>1.609438</td>\n",
       "      <td>4.595120</td>\n",
       "      <td>9.299541</td>\n",
       "      <td>5.168033</td>\n",
       "    </tr>\n",
       "    <tr>\n",
       "      <th>media_c</th>\n",
       "      <td>2.249905</td>\n",
       "      <td>4.868392</td>\n",
       "      <td>9.295500</td>\n",
       "      <td>5.471266</td>\n",
       "    </tr>\n",
       "  </tbody>\n",
       "</table>\n",
       "</div>"
      ],
      "text/plain": [
       "            Mortal  No mortal  No ataque   media_f\n",
       "Placebo   2.890372   5.141664   9.291459  5.774498\n",
       "Aspirina  1.609438   4.595120   9.299541  5.168033\n",
       "media_c   2.249905   4.868392   9.295500  5.471266"
      ]
     },
     "execution_count": 91,
     "metadata": {},
     "output_type": "execute_result"
    }
   ],
   "source": [
    "datos_log.loc['media_c'] = datos_log.mean(axis=0)\n",
    "datos_log['media_f'] = datos_log.mean(axis=1)\n",
    "datos_log"
   ]
  },
  {
   "cell_type": "code",
   "execution_count": 98,
   "metadata": {},
   "outputs": [
    {
     "data": {
      "text/plain": [
       "Mortal      -3.221361\n",
       "No mortal   -0.602874\n",
       "No ataque    3.824235\n",
       "media_f      0.000000\n",
       "Name: media_c, dtype: float64"
      ]
     },
     "execution_count": 98,
     "metadata": {},
     "output_type": "execute_result"
    }
   ],
   "source": [
    "# media global\n",
    "mu = datos_log.iloc[-1,-1]\n",
    "# media de las filas\n",
    "mu1 = datos_log.iloc[:,-1]-mu\n",
    "# media de las columnas\n",
    "mu2 = datos_log.iloc[-1,:]-mu\n",
    "mu2"
   ]
  },
  {
   "cell_type": "markdown",
   "metadata": {},
   "source": [
    "#### Reconstrucción la tabla de los logaritmos"
   ]
  },
  {
   "cell_type": "code",
   "execution_count": 93,
   "metadata": {},
   "outputs": [
    {
     "data": {
      "text/plain": [
       "array([[5.47126559, 5.47126559, 5.47126559, 5.47126559],\n",
       "       [5.47126559, 5.47126559, 5.47126559, 5.47126559],\n",
       "       [5.47126559, 5.47126559, 5.47126559, 5.47126559]])"
      ]
     },
     "execution_count": 93,
     "metadata": {},
     "output_type": "execute_result"
    }
   ],
   "source": [
    "datos_rec = np.ones(np.shape(datos_log))*mu\n",
    "datos_rec"
   ]
  },
  {
   "cell_type": "code",
   "execution_count": 94,
   "metadata": {},
   "outputs": [],
   "source": [
    "# sumarle a cada valor la media de las filas\n",
    "for k in np.arange(np.shape(datos_log)[0]):\n",
    "    datos_rec[k,:] = datos_rec[k,:]+mu2\n",
    "\n",
    "# sumarle a cada valor la media de las columnas\n",
    "for k in np.arange(np.shape(datos_log)[1]):\n",
    "    datos_rec[:,k] = datos_rec[:,k]+mu1\n",
    "\n",
    "# seleccionar solo los valores originales (sin filas de mu1 ni mu2)\n",
    "datos_rec = datos_rec[0:-1, 0:-1]"
   ]
  },
  {
   "cell_type": "code",
   "execution_count": 95,
   "metadata": {},
   "outputs": [
    {
     "data": {
      "text/plain": [
       "array([[2.55313749, 5.17162436, 9.59873288],\n",
       "       [1.94667218, 4.56515904, 8.99226756]])"
      ]
     },
     "execution_count": 95,
     "metadata": {},
     "output_type": "execute_result"
    }
   ],
   "source": [
    "datos_rec"
   ]
  },
  {
   "cell_type": "code",
   "execution_count": 96,
   "metadata": {},
   "outputs": [
    {
     "data": {
      "text/html": [
       "<div>\n",
       "<style scoped>\n",
       "    .dataframe tbody tr th:only-of-type {\n",
       "        vertical-align: middle;\n",
       "    }\n",
       "\n",
       "    .dataframe tbody tr th {\n",
       "        vertical-align: top;\n",
       "    }\n",
       "\n",
       "    .dataframe thead th {\n",
       "        text-align: right;\n",
       "    }\n",
       "</style>\n",
       "<table border=\"1\" class=\"dataframe\">\n",
       "  <thead>\n",
       "    <tr style=\"text-align: right;\">\n",
       "      <th></th>\n",
       "      <th>Mortal</th>\n",
       "      <th>No mortal</th>\n",
       "      <th>No ataque</th>\n",
       "      <th>media_f</th>\n",
       "    </tr>\n",
       "  </thead>\n",
       "  <tbody>\n",
       "    <tr>\n",
       "      <th>Placebo</th>\n",
       "      <td>0.337234</td>\n",
       "      <td>-0.029961</td>\n",
       "      <td>-0.307273</td>\n",
       "      <td>0.303233</td>\n",
       "    </tr>\n",
       "    <tr>\n",
       "      <th>Aspirina</th>\n",
       "      <td>-0.337234</td>\n",
       "      <td>0.029961</td>\n",
       "      <td>0.307273</td>\n",
       "      <td>-0.303233</td>\n",
       "    </tr>\n",
       "    <tr>\n",
       "      <th>media_c</th>\n",
       "      <td>-3.221361</td>\n",
       "      <td>-0.602874</td>\n",
       "      <td>3.824235</td>\n",
       "      <td>0.000000</td>\n",
       "    </tr>\n",
       "  </tbody>\n",
       "</table>\n",
       "</div>"
      ],
      "text/plain": [
       "            Mortal  No mortal  No ataque   media_f\n",
       "Placebo   0.337234  -0.029961  -0.307273  0.303233\n",
       "Aspirina -0.337234   0.029961   0.307273 -0.303233\n",
       "media_c  -3.221361  -0.602874   3.824235  0.000000"
      ]
     },
     "execution_count": 96,
     "metadata": {},
     "output_type": "execute_result"
    }
   ],
   "source": [
    "tab_mu12 = pd.DataFrame(np.transpose(np.transpose(datos_log-mu-mu2)-mu1))\n",
    "tab_mu12.iloc[:,-1] = mu1\n",
    "tab_mu12.iloc[-1,:] = mu2\n",
    "tab_mu12"
   ]
  },
  {
   "cell_type": "code",
   "execution_count": 64,
   "metadata": {},
   "outputs": [],
   "source": [
    "datos_rec_mod = datos_rec + tab_mu12.iloc[0:-1,0:-1]"
   ]
  },
  {
   "cell_type": "code",
   "execution_count": 65,
   "metadata": {},
   "outputs": [
    {
     "data": {
      "text/html": [
       "<div>\n",
       "<style scoped>\n",
       "    .dataframe tbody tr th:only-of-type {\n",
       "        vertical-align: middle;\n",
       "    }\n",
       "\n",
       "    .dataframe tbody tr th {\n",
       "        vertical-align: top;\n",
       "    }\n",
       "\n",
       "    .dataframe thead th {\n",
       "        text-align: right;\n",
       "    }\n",
       "</style>\n",
       "<table border=\"1\" class=\"dataframe\">\n",
       "  <thead>\n",
       "    <tr style=\"text-align: right;\">\n",
       "      <th></th>\n",
       "      <th>Mortal</th>\n",
       "      <th>No mortal</th>\n",
       "      <th>No ataque</th>\n",
       "    </tr>\n",
       "  </thead>\n",
       "  <tbody>\n",
       "    <tr>\n",
       "      <th>Placebo</th>\n",
       "      <td>2.890372</td>\n",
       "      <td>5.141664</td>\n",
       "      <td>9.291459</td>\n",
       "    </tr>\n",
       "    <tr>\n",
       "      <th>Aspirina</th>\n",
       "      <td>1.609438</td>\n",
       "      <td>4.595120</td>\n",
       "      <td>9.299541</td>\n",
       "    </tr>\n",
       "  </tbody>\n",
       "</table>\n",
       "</div>"
      ],
      "text/plain": [
       "            Mortal  No mortal  No ataque\n",
       "Placebo   2.890372   5.141664   9.291459\n",
       "Aspirina  1.609438   4.595120   9.299541"
      ]
     },
     "execution_count": 65,
     "metadata": {},
     "output_type": "execute_result"
    }
   ],
   "source": [
    "datos_rec_mod"
   ]
  },
  {
   "cell_type": "code",
   "execution_count": 48,
   "metadata": {},
   "outputs": [
    {
     "data": {
      "text/html": [
       "<div>\n",
       "<style scoped>\n",
       "    .dataframe tbody tr th:only-of-type {\n",
       "        vertical-align: middle;\n",
       "    }\n",
       "\n",
       "    .dataframe tbody tr th {\n",
       "        vertical-align: top;\n",
       "    }\n",
       "\n",
       "    .dataframe thead th {\n",
       "        text-align: right;\n",
       "    }\n",
       "</style>\n",
       "<table border=\"1\" class=\"dataframe\">\n",
       "  <thead>\n",
       "    <tr style=\"text-align: right;\">\n",
       "      <th></th>\n",
       "      <th>Mortal</th>\n",
       "      <th>No mortal</th>\n",
       "      <th>No ataque</th>\n",
       "      <th>media_f</th>\n",
       "    </tr>\n",
       "  </thead>\n",
       "  <tbody>\n",
       "    <tr>\n",
       "      <th>Placebo</th>\n",
       "      <td>2.890372</td>\n",
       "      <td>5.141664</td>\n",
       "      <td>9.291459</td>\n",
       "      <td>5.774498</td>\n",
       "    </tr>\n",
       "    <tr>\n",
       "      <th>Aspirina</th>\n",
       "      <td>1.609438</td>\n",
       "      <td>4.595120</td>\n",
       "      <td>9.299541</td>\n",
       "      <td>5.168033</td>\n",
       "    </tr>\n",
       "    <tr>\n",
       "      <th>media_c</th>\n",
       "      <td>2.249905</td>\n",
       "      <td>4.868392</td>\n",
       "      <td>9.295500</td>\n",
       "      <td>5.471266</td>\n",
       "    </tr>\n",
       "  </tbody>\n",
       "</table>\n",
       "</div>"
      ],
      "text/plain": [
       "            Mortal  No mortal  No ataque   media_f\n",
       "Placebo   2.890372   5.141664   9.291459  5.774498\n",
       "Aspirina  1.609438   4.595120   9.299541  5.168033\n",
       "media_c   2.249905   4.868392   9.295500  5.471266"
      ]
     },
     "execution_count": 48,
     "metadata": {},
     "output_type": "execute_result"
    }
   ],
   "source": [
    "datos_log"
   ]
  },
  {
   "cell_type": "markdown",
   "metadata": {},
   "source": [
    "Las variables son independientes, puesto que se cumple que la reconstruccion de la matriz de los logaritmos es igual a la matriz original, esto haciéndolo a partir de la suma del valor esperado de cada casilla con las medias de cada fila y cada columna"
   ]
  },
  {
   "cell_type": "code",
   "execution_count": null,
   "metadata": {},
   "outputs": [],
   "source": []
  }
 ],
 "metadata": {
  "kernelspec": {
   "display_name": "Python 3",
   "language": "python",
   "name": "python3"
  },
  "language_info": {
   "codemirror_mode": {
    "name": "ipython",
    "version": 3
   },
   "file_extension": ".py",
   "mimetype": "text/x-python",
   "name": "python",
   "nbconvert_exporter": "python",
   "pygments_lexer": "ipython3",
   "version": "3.6.8"
  }
 },
 "nbformat": 4,
 "nbformat_minor": 2
}
