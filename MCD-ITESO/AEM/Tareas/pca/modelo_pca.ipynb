{
 "cells": [
  {
   "cell_type": "markdown",
   "metadata": {},
   "source": [
    "<img src=\"http://oci02.img.iteso.mx/identidad_de_instancia_2018/ITESO/Logos%20ITESO/Logo-ITESO-Principal.jpg\">"
   ]
  },
  {
   "cell_type": "markdown",
   "metadata": {},
   "source": [
    "<center> <font color= #004A94> <font size = 6> Msc Ciencia de datos </font> <br> <br> <font color= #047CFB> <font size = 5>I.F. Juan Francisco Muñoz Elguezabal</font> <br> <br>"
   ]
  },
  {
   "cell_type": "markdown",
   "metadata": {},
   "source": [
    "<center><font color= #004A94> <font size = 6> ANÁLISIS ESTADÍSTICO MULTIVARIABLE </font> <br>"
   ]
  },
  {
   "cell_type": "markdown",
   "metadata": {},
   "source": [
    "<center><font color= #42c29b> <font size = 6> Aplicación de modelo PCA en finanzas bursátiles</font> <br> <br> <font color= #047CFB> <font size = 5>Repositorio: <a href='https://github.com/IFFranciscoME/FinTechLab/tree/master/'>Link</a></font>"
   ]
  },
  {
   "cell_type": "markdown",
   "metadata": {},
   "source": [
    "---"
   ]
  },
  {
   "cell_type": "markdown",
   "metadata": {},
   "source": [
    "### Cargar librerias"
   ]
  },
  {
   "cell_type": "markdown",
   "metadata": {},
   "source": [
    "Se cargan las librerias que son necesarias para las funciones dentro del proyecto"
   ]
  },
  {
   "cell_type": "code",
   "execution_count": 27,
   "metadata": {},
   "outputs": [],
   "source": [
    "import numpy as np                                        # tratamiento cientifico de numeros\n",
    "import pandas as pd                                       # dataframes\n",
    "import statsmodels.api as sm                              # modelos estadisticos\n",
    "from datetime import datetime                             # tratamiento de datetime\n",
    "from functools import reduce                              # para la union de los dataframes\n",
    "from os import listdir, getcwd                            # para leer todos los archivos de un folder\n",
    "from os.path import isfile, join                          # encontrar y unir archivos en un folder\n",
    "from sklearn.decomposition import PCA                     # principal component analysis\n",
    "from sklearn import linear_model                          # modelo lineal\n",
    "from sklearn.model_selection import train_test_split      # separacion de conjunto de entrenamiento y prueba\n",
    "from statsmodels.formula.api import ols                   # ols\n",
    "import matplotlib.pyplot as plt                           # plots con matplotlib\n",
    "from sklearn.preprocessing import MinMaxScaler            # reescalamiento de matriz de datos\n",
    "import mglearn                                            # visualizacion extra"
   ]
  },
  {
   "cell_type": "markdown",
   "metadata": {},
   "source": [
    "### Cargar las deependencias"
   ]
  },
  {
   "cell_type": "markdown",
   "metadata": {},
   "source": [
    "Se cargan las dependencias del proyecto, en este caso son las siguientes:\n",
    "\n",
    "- **visualizaciones.py** : Donde se encuentran funciones que fueron especialmente ddesarrolladas para visualizar datos en este proyecto.\n",
    "\n",
    "- **datos.py** : En el cual realiza la función fundamental de contener los parámetros y _token_ para utilizar el servicio de *API* de *OANDA* y solicitar precios históricos, que son regresados en el objeto *pd_hist* cargado finalmente como *precios*. *OANDA* es un *broker* que provee acceso programático a mercados financieros bursátiles de USA, este *broker* convenientemente provee de una **API** o Interfáz Programática de Aplicaciones (por sus siglas en inglés), esto de manera gratuita y con extensa documentación sobre su uso con *python* (mas información al respecto puede ser consultada en su sitio [developer.oanda.com]('http://developer.oanda.com/')"
   ]
  },
  {
   "cell_type": "markdown",
   "metadata": {},
   "source": [
    "Ambos códigos puede ser encontrardos dentro de la misma carpeta de este proyecto"
   ]
  },
  {
   "cell_type": "code",
   "execution_count": 2,
   "metadata": {},
   "outputs": [],
   "source": [
    "#import visualizaciones as vs                              # script con funciones para visualizar\n",
    "from datos import pd_hist as precios                      # importar precios"
   ]
  },
  {
   "cell_type": "markdown",
   "metadata": {},
   "source": [
    "### Opciones para visualizacion de DataFrame"
   ]
  },
  {
   "cell_type": "markdown",
   "metadata": {},
   "source": [
    "Se establecen las siguientes opciones para visualizar dataframes en la consola de una manera mas libre"
   ]
  },
  {
   "cell_type": "code",
   "execution_count": 3,
   "metadata": {},
   "outputs": [],
   "source": [
    "pd.set_option('display.max_rows', None)                   # sin limite de renglones maximos para mostrar pandas\n",
    "pd.set_option('display.max_columns', None)                # sin limite de columnas maximas para mostrar pandas\n",
    "pd.set_option('display.width', None)                      # sin limite el ancho del display\n",
    "pd.set_option('display.expand_frame_repr', False)         # visualizar todas las columnas de un pandas dataframe\n",
    "pd.options.mode.chained_assignment = None                 # para evitar el warning enfadoso de indexacion"
   ]
  },
  {
   "cell_type": "markdown",
   "metadata": {},
   "source": [
    "## Planteamiento de la problematica y contexto"
   ]
  },
  {
   "cell_type": "markdown",
   "metadata": {},
   "source": [
    "Se plantea el reto de modelar el precio semanal del tipo de cambio _Euro Vs Dólar Americano_ , representado por el instrumento financiero de tipo de cambio cruzado con el ticker _EurUsd_. \n",
    "\n",
    "- La variable dependiente: **Close** - Precio de cierre semanal del tipo de cambio *EurUsd*\n",
    "- Las variables independientes o explicativas: **Indicadores macroeconómicos semanales** de las economías de USA y la Zona Euro."
   ]
  },
  {
   "cell_type": "markdown",
   "metadata": {},
   "source": [
    "### Calendario Económico"
   ]
  },
  {
   "cell_type": "markdown",
   "metadata": {},
   "source": [
    "Las variables independientes o explicativas tienen una caracaterística en común, su naturaleza es que son indicadores macroeconómicos que son comunicados regularmente y de manera semanal. Se hizo un compilado de aquellos que se propone tendrán, por razones económicos, justificación de poder ser variables explicativas del tipo de cambio entre ambas economicas. Los indicadores de los que se recabaron históricos de 3 años, son:"
   ]
  },
  {
   "cell_type": "markdown",
   "metadata": {},
   "source": [
    "| Variable |      Indicador económico     |                        Explicación breve                       |\n",
    "|:--------:|:----------------------------:|:--------------------------------------------------------------:|\n",
    "|    x_1   | **3-MonthBillAuction**       | Subasta de deuda soberana de 3 meses de USA.                   |\n",
    "|    x_2   | **4-WeekBillAuction**        | Subasta de deuda soberana de 4 semanas de USA                  |\n",
    "|    x_3   | **6-MonthBillAuction**       | Subasta de deuda soberana de 6 meses de USA                    |\n",
    "|    x_4   | **APIWeeklyCrudeOilStock**   | Inventario semanal de petróleo crudo (API)                     |\n",
    "|    x_5   | **CFTCEURNCNetPositions**    | CFTC Commitment of Traders en posicions de futuros de Euro     |\n",
    "|    x_6   | **CFTCGoldNCNetPositions**   | CFTC Commitment of Traders en posicions de futuros de Oro      |\n",
    "|    x_7   | **CFTCOilNCNetPositions**    | CFTC Commitment of Traders en posicions de futuros de Petróleo |\n",
    "|    x_8   | **CFTCUSDNCNetPositions**    | CFTC Commitment of Traders en posicions de futuros de Usd      |\n",
    "|    x_9   | **ContinuingJoblessClaims**  | Peticiones recurrentes de apoyo por desempleo para USA         |\n",
    "|    x_10  | **EIACrudeOilStockChange**   | Cambio en inventario de petróleo crudo (EIA)                   |\n",
    "|    x_11  | **EIANaturalGasStockChange** | Cambio en inventario de gas natural (EIA)                      |"
   ]
  },
  {
   "cell_type": "markdown",
   "metadata": {},
   "source": [
    "La informacion se obtuvo en archivos *csv* de la siguiente fuente [fxstreet/economic_calendar](https://fxstreet.com/economic-calendar/). Para cada uno de los indicadores se descargó un archivo *csv* y se sistematizó su carga, limpieza y acomodo para dejarlos en un *DataFrame* manejable para el modelo"
   ]
  },
  {
   "cell_type": "code",
   "execution_count": 4,
   "metadata": {},
   "outputs": [],
   "source": [
    "# Obtener el director donde se encuentran todos los archivos\n",
    "directorio = getcwd() + '/archivos/'\n",
    "\n",
    "# Obtener una lista de todos los archivos de datos\n",
    "archivos_ce = [f for f in listdir(directorio) if isfile(join(directorio, f))]\n",
    "\n",
    "\n",
    "def f_datos_ce(p0_ind):\n",
    "\n",
    "    # Datos de entrada\n",
    "    datos = pd.read_csv('archivos/' + p0_ind)\n",
    "\n",
    "    # Convertir columna de fechas a datetime\n",
    "    datos['DateTime'] = [datetime.strptime(datos['DateTime'][i], '%m/%d/%Y %H:%M:%S')\n",
    "                         for i in range(0, len(datos['DateTime']))]\n",
    "\n",
    "    # Ordernarlos de forma ascendente en el tiempo\n",
    "    datos.sort_values(by=['DateTime'], inplace=True, ascending=True)\n",
    "    datos = datos.reset_index(drop=True)\n",
    "\n",
    "    # Agregar columna con numero de año y semana (Servira para empatar fecha de indicador con fecha de precio)\n",
    "    datos['Year_Week'] = [datos.loc[i, 'DateTime'].strftime(\"%Y\") + '_' +\n",
    "                          datos.loc[i, 'DateTime'].strftime(\"%W\") for i in range(0, len(datos['DateTime']))]\n",
    "\n",
    "    # Solo tomar las columnas para el ejercicio\n",
    "    datos = datos[['Year_Week', 'Actual']]\n",
    "\n",
    "    return datos\n",
    "\n",
    "\n",
    "# Unir dataframes\n",
    "dataframes = [f_datos_ce(p0_ind=archivos_ce[i]) for i in range(0, len(archivos_ce))]\n",
    "datos_ce = reduce(lambda left, right: pd.merge(left, right, on=['Year_Week'], how='inner'), dataframes)\n",
    "\n",
    "# Renombrar las columnas\n",
    "variables_ce = ['x_' + str(i) for i in range(1, len(archivos_ce)+1)]\n",
    "datos_ce.columns = ['Year_Week'] + variables_ce"
   ]
  },
  {
   "cell_type": "code",
   "execution_count": 5,
   "metadata": {},
   "outputs": [
    {
     "data": {
      "text/html": [
       "<div>\n",
       "<style scoped>\n",
       "    .dataframe tbody tr th:only-of-type {\n",
       "        vertical-align: middle;\n",
       "    }\n",
       "\n",
       "    .dataframe tbody tr th {\n",
       "        vertical-align: top;\n",
       "    }\n",
       "\n",
       "    .dataframe thead th {\n",
       "        text-align: right;\n",
       "    }\n",
       "</style>\n",
       "<table border=\"1\" class=\"dataframe\">\n",
       "  <thead>\n",
       "    <tr style=\"text-align: right;\">\n",
       "      <th></th>\n",
       "      <th>Year_Week</th>\n",
       "      <th>x_1</th>\n",
       "      <th>x_2</th>\n",
       "      <th>x_3</th>\n",
       "      <th>x_4</th>\n",
       "      <th>x_5</th>\n",
       "      <th>x_6</th>\n",
       "      <th>x_7</th>\n",
       "      <th>x_8</th>\n",
       "      <th>x_9</th>\n",
       "      <th>x_10</th>\n",
       "      <th>x_11</th>\n",
       "    </tr>\n",
       "  </thead>\n",
       "  <tbody>\n",
       "    <tr>\n",
       "      <th>0</th>\n",
       "      <td>2016_01</td>\n",
       "      <td>0.215</td>\n",
       "      <td>0.200</td>\n",
       "      <td>0.500</td>\n",
       "      <td>-5.6</td>\n",
       "      <td>-160.6</td>\n",
       "      <td>26.6</td>\n",
       "      <td>184.2</td>\n",
       "      <td>-97.2</td>\n",
       "      <td>2.230</td>\n",
       "      <td>-5.085</td>\n",
       "      <td>-113</td>\n",
       "    </tr>\n",
       "    <tr>\n",
       "      <th>1</th>\n",
       "      <td>2016_02</td>\n",
       "      <td>0.215</td>\n",
       "      <td>0.220</td>\n",
       "      <td>0.470</td>\n",
       "      <td>-3.9</td>\n",
       "      <td>-146.5</td>\n",
       "      <td>44.7</td>\n",
       "      <td>163.5</td>\n",
       "      <td>-162.3</td>\n",
       "      <td>2.263</td>\n",
       "      <td>0.234</td>\n",
       "      <td>-168</td>\n",
       "    </tr>\n",
       "    <tr>\n",
       "      <th>2</th>\n",
       "      <td>2016_03</td>\n",
       "      <td>0.255</td>\n",
       "      <td>0.250</td>\n",
       "      <td>0.370</td>\n",
       "      <td>4.6</td>\n",
       "      <td>-137.0</td>\n",
       "      <td>43.7</td>\n",
       "      <td>179.4</td>\n",
       "      <td>-188.5</td>\n",
       "      <td>2.208</td>\n",
       "      <td>3.979</td>\n",
       "      <td>-178</td>\n",
       "    </tr>\n",
       "    <tr>\n",
       "      <th>3</th>\n",
       "      <td>2016_04</td>\n",
       "      <td>0.305</td>\n",
       "      <td>0.295</td>\n",
       "      <td>0.415</td>\n",
       "      <td>11.4</td>\n",
       "      <td>-127.2</td>\n",
       "      <td>59.0</td>\n",
       "      <td>205.7</td>\n",
       "      <td>-131.9</td>\n",
       "      <td>2.268</td>\n",
       "      <td>8.383</td>\n",
       "      <td>-211</td>\n",
       "    </tr>\n",
       "    <tr>\n",
       "      <th>4</th>\n",
       "      <td>2016_05</td>\n",
       "      <td>0.350</td>\n",
       "      <td>0.270</td>\n",
       "      <td>0.465</td>\n",
       "      <td>3.8</td>\n",
       "      <td>-87.1</td>\n",
       "      <td>72.8</td>\n",
       "      <td>196.9</td>\n",
       "      <td>-225.9</td>\n",
       "      <td>2.255</td>\n",
       "      <td>7.792</td>\n",
       "      <td>-152</td>\n",
       "    </tr>\n",
       "  </tbody>\n",
       "</table>\n",
       "</div>"
      ],
      "text/plain": [
       "  Year_Week    x_1    x_2    x_3   x_4    x_5   x_6    x_7    x_8    x_9   x_10  x_11\n",
       "0   2016_01  0.215  0.200  0.500  -5.6 -160.6  26.6  184.2  -97.2  2.230 -5.085  -113\n",
       "1   2016_02  0.215  0.220  0.470  -3.9 -146.5  44.7  163.5 -162.3  2.263  0.234  -168\n",
       "2   2016_03  0.255  0.250  0.370   4.6 -137.0  43.7  179.4 -188.5  2.208  3.979  -178\n",
       "3   2016_04  0.305  0.295  0.415  11.4 -127.2  59.0  205.7 -131.9  2.268  8.383  -211\n",
       "4   2016_05  0.350  0.270  0.465   3.8  -87.1  72.8  196.9 -225.9  2.255  7.792  -152"
      ]
     },
     "execution_count": 5,
     "metadata": {},
     "output_type": "execute_result"
    }
   ],
   "source": [
    "datos_ce.head()"
   ]
  },
  {
   "cell_type": "markdown",
   "metadata": {},
   "source": [
    "### Precios de OANDA"
   ]
  },
  {
   "cell_type": "markdown",
   "metadata": {},
   "source": [
    "Se descargaron los precios *OHLC* del instrumento *EurUsd*, se utilizó para el modelo sólamente el precio de *Apertura* (Open) y el de *Cierre* (Close). Con información de los últimos 3 años.Los detalles de este proceso se pueden verificar en el script *datos.py*"
   ]
  },
  {
   "cell_type": "code",
   "execution_count": 6,
   "metadata": {},
   "outputs": [],
   "source": [
    "# Generacion de variables explicativas\n",
    "datos_fx = precios[['TimeStamp', 'Close', 'Open']]\n",
    "\n",
    "# Convertir a valor tipo float\n",
    "datos_fx.loc[:, 'Close'] = datos_fx.loc[:, 'Close'].astype(float)\n",
    "datos_fx.loc[:, 'Open'] = datos_fx.loc[:, 'Open'].astype(float)\n",
    "\n",
    "# Calcular el rendimiento logaritmico como variable a explicar Y\n",
    "datos_fx.loc[:, 'log_ret'] = np.log(datos_fx.loc[:, 'Close']/datos_fx.loc[:, 'Close'].shift(1))\n",
    "\n",
    "# Calcular la diferencia entre precio de cierre y apertura multiplicado por el multiplicador (PIP)\n",
    "datos_fx.loc[:, 'pips_co'] = (datos_fx.loc[:, 'Close'] - datos_fx.loc[:, 'Open'])*10000\n",
    "\n",
    "# Eliminar el NaN inicial\n",
    "datos_fx = datos_fx.dropna()\n",
    "\n",
    "# Resetear index de data frame\n",
    "datos_fx = datos_fx.reset_index(drop=True)\n",
    "\n",
    "# Convertir columna de fechas a datetime\n",
    "datos_fx['TimeStamp'] = pd.to_datetime(datos_fx['TimeStamp'])\n",
    "\n",
    "# Agregar columna de semana\n",
    "# datos_fx['Semana'] = [datos_fx.loc[i, 'TimeStamp'].strftime(\"%W\") for i in range(0, len(datos_fx['TimeStamp']))]\n",
    "datos_fx['Year_Week'] = [datos_fx.loc[i, 'TimeStamp'].strftime(\"%Y\") + '_' +\n",
    "                         datos_fx.loc[i, 'TimeStamp'].strftime(\"%W\") for i in range(0, len(datos_fx['TimeStamp']))]"
   ]
  },
  {
   "cell_type": "code",
   "execution_count": 7,
   "metadata": {},
   "outputs": [
    {
     "data": {
      "text/html": [
       "<div>\n",
       "<style scoped>\n",
       "    .dataframe tbody tr th:only-of-type {\n",
       "        vertical-align: middle;\n",
       "    }\n",
       "\n",
       "    .dataframe tbody tr th {\n",
       "        vertical-align: top;\n",
       "    }\n",
       "\n",
       "    .dataframe thead th {\n",
       "        text-align: right;\n",
       "    }\n",
       "</style>\n",
       "<table border=\"1\" class=\"dataframe\">\n",
       "  <thead>\n",
       "    <tr style=\"text-align: right;\">\n",
       "      <th></th>\n",
       "      <th>TimeStamp</th>\n",
       "      <th>Close</th>\n",
       "      <th>Open</th>\n",
       "      <th>log_ret</th>\n",
       "      <th>pips_co</th>\n",
       "      <th>Year_Week</th>\n",
       "    </tr>\n",
       "  </thead>\n",
       "  <tbody>\n",
       "    <tr>\n",
       "      <th>0</th>\n",
       "      <td>2016-01-08 21:00:00</td>\n",
       "      <td>1.09174</td>\n",
       "      <td>1.09194</td>\n",
       "      <td>-0.000183</td>\n",
       "      <td>-2.0</td>\n",
       "      <td>2016_01</td>\n",
       "    </tr>\n",
       "    <tr>\n",
       "      <th>1</th>\n",
       "      <td>2016-01-15 21:00:00</td>\n",
       "      <td>1.07967</td>\n",
       "      <td>1.09170</td>\n",
       "      <td>-0.011117</td>\n",
       "      <td>-120.3</td>\n",
       "      <td>2016_02</td>\n",
       "    </tr>\n",
       "    <tr>\n",
       "      <th>2</th>\n",
       "      <td>2016-01-22 21:00:00</td>\n",
       "      <td>1.08334</td>\n",
       "      <td>1.07970</td>\n",
       "      <td>0.003393</td>\n",
       "      <td>36.4</td>\n",
       "      <td>2016_03</td>\n",
       "    </tr>\n",
       "    <tr>\n",
       "      <th>3</th>\n",
       "      <td>2016-01-29 21:00:00</td>\n",
       "      <td>1.11530</td>\n",
       "      <td>1.08336</td>\n",
       "      <td>0.029075</td>\n",
       "      <td>319.4</td>\n",
       "      <td>2016_04</td>\n",
       "    </tr>\n",
       "    <tr>\n",
       "      <th>4</th>\n",
       "      <td>2016-02-05 21:00:00</td>\n",
       "      <td>1.12546</td>\n",
       "      <td>1.11534</td>\n",
       "      <td>0.009068</td>\n",
       "      <td>101.2</td>\n",
       "      <td>2016_05</td>\n",
       "    </tr>\n",
       "  </tbody>\n",
       "</table>\n",
       "</div>"
      ],
      "text/plain": [
       "            TimeStamp    Close     Open   log_ret  pips_co Year_Week\n",
       "0 2016-01-08 21:00:00  1.09174  1.09194 -0.000183     -2.0   2016_01\n",
       "1 2016-01-15 21:00:00  1.07967  1.09170 -0.011117   -120.3   2016_02\n",
       "2 2016-01-22 21:00:00  1.08334  1.07970  0.003393     36.4   2016_03\n",
       "3 2016-01-29 21:00:00  1.11530  1.08336  0.029075    319.4   2016_04\n",
       "4 2016-02-05 21:00:00  1.12546  1.11534  0.009068    101.2   2016_05"
      ]
     },
     "execution_count": 7,
     "metadata": {},
     "output_type": "execute_result"
    }
   ],
   "source": [
    "datos_fx.head()"
   ]
  },
  {
   "cell_type": "markdown",
   "metadata": {},
   "source": [
    "### Union de datos en un solo DataFrame"
   ]
  },
  {
   "cell_type": "markdown",
   "metadata": {},
   "source": [
    "La union entre los DataFrame de: *datos_ce* y *datos_fx* se hará mediante la columna de *Year_Week*."
   ]
  },
  {
   "cell_type": "code",
   "execution_count": 8,
   "metadata": {},
   "outputs": [],
   "source": [
    "# unir los dos dataframes para obtener el dataframe a usar en el modelo\n",
    "datos_md = pd.merge(datos_fx, datos_ce, on=['Year_Week'], how='inner')\n",
    "\n",
    "# eliminar la columna Year_Week\n",
    "datos_md = datos_md.drop(['Year_Week'], axis=1)"
   ]
  },
  {
   "cell_type": "code",
   "execution_count": 9,
   "metadata": {},
   "outputs": [
    {
     "data": {
      "text/html": [
       "<div>\n",
       "<style scoped>\n",
       "    .dataframe tbody tr th:only-of-type {\n",
       "        vertical-align: middle;\n",
       "    }\n",
       "\n",
       "    .dataframe tbody tr th {\n",
       "        vertical-align: top;\n",
       "    }\n",
       "\n",
       "    .dataframe thead th {\n",
       "        text-align: right;\n",
       "    }\n",
       "</style>\n",
       "<table border=\"1\" class=\"dataframe\">\n",
       "  <thead>\n",
       "    <tr style=\"text-align: right;\">\n",
       "      <th></th>\n",
       "      <th>TimeStamp</th>\n",
       "      <th>Close</th>\n",
       "      <th>Open</th>\n",
       "      <th>log_ret</th>\n",
       "      <th>pips_co</th>\n",
       "      <th>x_1</th>\n",
       "      <th>x_2</th>\n",
       "      <th>x_3</th>\n",
       "      <th>x_4</th>\n",
       "      <th>x_5</th>\n",
       "      <th>x_6</th>\n",
       "      <th>x_7</th>\n",
       "      <th>x_8</th>\n",
       "      <th>x_9</th>\n",
       "      <th>x_10</th>\n",
       "      <th>x_11</th>\n",
       "    </tr>\n",
       "  </thead>\n",
       "  <tbody>\n",
       "    <tr>\n",
       "      <th>0</th>\n",
       "      <td>2016-01-08 21:00:00</td>\n",
       "      <td>1.09174</td>\n",
       "      <td>1.09194</td>\n",
       "      <td>-0.000183</td>\n",
       "      <td>-2.0</td>\n",
       "      <td>0.215</td>\n",
       "      <td>0.200</td>\n",
       "      <td>0.500</td>\n",
       "      <td>-5.6</td>\n",
       "      <td>-160.6</td>\n",
       "      <td>26.6</td>\n",
       "      <td>184.2</td>\n",
       "      <td>-97.2</td>\n",
       "      <td>2.230</td>\n",
       "      <td>-5.085</td>\n",
       "      <td>-113</td>\n",
       "    </tr>\n",
       "    <tr>\n",
       "      <th>1</th>\n",
       "      <td>2016-01-15 21:00:00</td>\n",
       "      <td>1.07967</td>\n",
       "      <td>1.09170</td>\n",
       "      <td>-0.011117</td>\n",
       "      <td>-120.3</td>\n",
       "      <td>0.215</td>\n",
       "      <td>0.220</td>\n",
       "      <td>0.470</td>\n",
       "      <td>-3.9</td>\n",
       "      <td>-146.5</td>\n",
       "      <td>44.7</td>\n",
       "      <td>163.5</td>\n",
       "      <td>-162.3</td>\n",
       "      <td>2.263</td>\n",
       "      <td>0.234</td>\n",
       "      <td>-168</td>\n",
       "    </tr>\n",
       "    <tr>\n",
       "      <th>2</th>\n",
       "      <td>2016-01-22 21:00:00</td>\n",
       "      <td>1.08334</td>\n",
       "      <td>1.07970</td>\n",
       "      <td>0.003393</td>\n",
       "      <td>36.4</td>\n",
       "      <td>0.255</td>\n",
       "      <td>0.250</td>\n",
       "      <td>0.370</td>\n",
       "      <td>4.6</td>\n",
       "      <td>-137.0</td>\n",
       "      <td>43.7</td>\n",
       "      <td>179.4</td>\n",
       "      <td>-188.5</td>\n",
       "      <td>2.208</td>\n",
       "      <td>3.979</td>\n",
       "      <td>-178</td>\n",
       "    </tr>\n",
       "    <tr>\n",
       "      <th>3</th>\n",
       "      <td>2016-01-29 21:00:00</td>\n",
       "      <td>1.11530</td>\n",
       "      <td>1.08336</td>\n",
       "      <td>0.029075</td>\n",
       "      <td>319.4</td>\n",
       "      <td>0.305</td>\n",
       "      <td>0.295</td>\n",
       "      <td>0.415</td>\n",
       "      <td>11.4</td>\n",
       "      <td>-127.2</td>\n",
       "      <td>59.0</td>\n",
       "      <td>205.7</td>\n",
       "      <td>-131.9</td>\n",
       "      <td>2.268</td>\n",
       "      <td>8.383</td>\n",
       "      <td>-211</td>\n",
       "    </tr>\n",
       "    <tr>\n",
       "      <th>4</th>\n",
       "      <td>2016-02-05 21:00:00</td>\n",
       "      <td>1.12546</td>\n",
       "      <td>1.11534</td>\n",
       "      <td>0.009068</td>\n",
       "      <td>101.2</td>\n",
       "      <td>0.350</td>\n",
       "      <td>0.270</td>\n",
       "      <td>0.465</td>\n",
       "      <td>3.8</td>\n",
       "      <td>-87.1</td>\n",
       "      <td>72.8</td>\n",
       "      <td>196.9</td>\n",
       "      <td>-225.9</td>\n",
       "      <td>2.255</td>\n",
       "      <td>7.792</td>\n",
       "      <td>-152</td>\n",
       "    </tr>\n",
       "  </tbody>\n",
       "</table>\n",
       "</div>"
      ],
      "text/plain": [
       "            TimeStamp    Close     Open   log_ret  pips_co    x_1    x_2    x_3   x_4    x_5   x_6    x_7    x_8    x_9   x_10  x_11\n",
       "0 2016-01-08 21:00:00  1.09174  1.09194 -0.000183     -2.0  0.215  0.200  0.500  -5.6 -160.6  26.6  184.2  -97.2  2.230 -5.085  -113\n",
       "1 2016-01-15 21:00:00  1.07967  1.09170 -0.011117   -120.3  0.215  0.220  0.470  -3.9 -146.5  44.7  163.5 -162.3  2.263  0.234  -168\n",
       "2 2016-01-22 21:00:00  1.08334  1.07970  0.003393     36.4  0.255  0.250  0.370   4.6 -137.0  43.7  179.4 -188.5  2.208  3.979  -178\n",
       "3 2016-01-29 21:00:00  1.11530  1.08336  0.029075    319.4  0.305  0.295  0.415  11.4 -127.2  59.0  205.7 -131.9  2.268  8.383  -211\n",
       "4 2016-02-05 21:00:00  1.12546  1.11534  0.009068    101.2  0.350  0.270  0.465   3.8  -87.1  72.8  196.9 -225.9  2.255  7.792  -152"
      ]
     },
     "execution_count": 9,
     "metadata": {},
     "output_type": "execute_result"
    }
   ],
   "source": [
    "datos_md.head()"
   ]
  },
  {
   "cell_type": "markdown",
   "metadata": {},
   "source": [
    "### Analisis de Componentes Principales"
   ]
  },
  {
   "cell_type": "markdown",
   "metadata": {},
   "source": [
    "Se buscará analizar los componentes principales en las variables exógenas que se propusieron anteriormente."
   ]
  },
  {
   "cell_type": "code",
   "execution_count": 22,
   "metadata": {},
   "outputs": [
    {
     "data": {
      "image/png": "[encoded data removed]",
      "text/plain": [
       "<matplotlib.figure.Figure at 0x7f2e48de5518>"
      ]
     },
     "metadata": {
      "needs_background": "light"
     },
     "output_type": "display_data"
    }
   ],
   "source": [
    "pca = PCA(n_components=4)\n",
    "datos_pca = datos_md.iloc[:, 5:]\n",
    "pca.fit(datos_pca)\n",
    "transformada = pca.transform(datos_pca)\n",
    "# mglearn.discrete_scatter(transformada[:, 1], transformada[:, 2])\n",
    "# plt.xlabel('PCA 1')\n",
    "# plt.ylabel('PCA 2')\n",
    "# plt.show()\n",
    "\n",
    "# comprobar dimensiones maximas para reducir\n",
    "w, v = np.linalg.eig(pca.get_covariance())  # Calcular los vectores y valores propios de la martiz de covarianza\n",
    "indx = np.argsort(w)[::-1]  # ordenar los valores de mayor a menor\n",
    "porcentaje = w[indx]/np.sum(w)  # calcular el procentaje de varianza en cada componente\n",
    "porcent_acum = np.cumsum(porcentaje)  # calcular el porcentaje acumulado de los componentes\n",
    "pca_90 = np.where(porcent_acum > 0.9)[0][0] + 1\n",
    "pca_90\n",
    "\n",
    "matrix_transform = pca.components_.T\n",
    "\n",
    "plt.bar(np.arange(len(matrix_transform)), matrix_transform[:, 0])\n",
    "plt.xlabel('Num variable real')\n",
    "plt.ylabel('Magnitud vector asociado')\n",
    "plt.show()\n"
   ]
  },
  {
   "cell_type": "code",
   "execution_count": 23,
   "metadata": {},
   "outputs": [
    {
     "name": "stdout",
     "output_type": "stream",
     "text": [
      "la cantidad de componentes necesarias para obtener un 90% de explicaciones es: 4\n"
     ]
    }
   ],
   "source": [
    "# comprobar dimensiones maximas para reducir\n",
    "w, v = np.linalg.eig(pca.get_covariance())  # Calcular los vectores y valores propios de la martiz de covarianza\n",
    "indx = np.argsort(w)[::-1]  # ordenar los valores de mayor a menor\n",
    "porcentaje = w[indx]/np.sum(w)  # calcular el procentaje de varianza en cada componente\n",
    "porcent_acum = np.cumsum(porcentaje)  # calcular el porcentaje acumulado de los componentes\n",
    "pca_90 = np.where(porcent_acum > 0.9)[0][0] + 1\n",
    "print('la cantidad de componentes necesarias para obtener un 90% de explicaciones es: ' + str(pca_90))"
   ]
  },
  {
   "cell_type": "code",
   "execution_count": 26,
   "metadata": {},
   "outputs": [
    {
     "data": {
      "text/plain": [
       "array([0.54480634, 0.73343578, 0.87921217, 0.96901274, 0.97343949,\n",
       "       0.97786624, 0.98229299, 0.98671974, 0.9911465 , 0.99557325,\n",
       "       1.        ])"
      ]
     },
     "execution_count": 26,
     "metadata": {},
     "output_type": "execute_result"
    }
   ],
   "source": [
    "porcent_acum"
   ]
  },
  {
   "cell_type": "code",
   "execution_count": 24,
   "metadata": {},
   "outputs": [
    {
     "data": {
      "image/png": "[encoded data removed]",
      "text/plain": [
       "<matplotlib.figure.Figure at 0x7f2e4485ff60>"
      ]
     },
     "metadata": {
      "needs_background": "light"
     },
     "output_type": "display_data"
    }
   ],
   "source": [
    "# mglearn.discrete_scatter(transformada[:, 1], transformada[:, 2])\n",
    "# plt.xlabel('PCA 1')\n",
    "# plt.ylabel('PCA 2')\n",
    "# plt.show()\n",
    "matrix_transform = pca.components_.T\n",
    "plt.bar(np.arange(len(matrix_transform)), matrix_transform[:, 0])\n",
    "plt.xlabel('Num variable real')\n",
    "plt.ylabel('Magnitud vector asociado')\n",
    "plt.show()"
   ]
  },
  {
   "cell_type": "code",
   "execution_count": 25,
   "metadata": {},
   "outputs": [
    {
     "name": "stderr",
     "output_type": "stream",
     "text": [
      "/usr/local/lib/python3.6/dist-packages/sklearn/preprocessing/data.py:323: DataConversionWarning: Data with input dtype int64, float64 were all converted to float64 by MinMaxScaler.\n",
      "  return self.partial_fit(X, y)\n"
     ]
    },
    {
     "data": {
      "image/png": "[encoded data removed]",
      "text/plain": [
       "<matplotlib.figure.Figure at 0x7f2e48eb4d30>"
      ]
     },
     "metadata": {
      "needs_background": "light"
     },
     "output_type": "display_data"
    }
   ],
   "source": [
    "escala=MinMaxScaler()\n",
    "escala.fit(datos_pca)\n",
    "escalada=escala.transform(datos_pca)\n",
    "pca.fit(escalada)\n",
    "transformada=pca.transform(escalada)\n",
    "mglearn.discrete_scatter(transformada[:,1],transformada[:,2])\n",
    "plt.gca()\n",
    "plt.xlabel('PCA 1')\n",
    "plt.ylabel('PCA 2')\n",
    "plt.show()"
   ]
  }
 ],
 "metadata": {
  "kernelspec": {
   "display_name": "Python 3",
   "language": "python",
   "name": "python3"
  },
  "language_info": {
   "codemirror_mode": {
    "name": "ipython",
    "version": 3
   },
   "file_extension": ".py",
   "mimetype": "text/x-python",
   "name": "python",
   "nbconvert_exporter": "python",
   "pygments_lexer": "ipython3",
   "version": "3.6.8"
  }
 },
 "nbformat": 4,
 "nbformat_minor": 2
}
