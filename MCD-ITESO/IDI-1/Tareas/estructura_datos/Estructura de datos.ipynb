{
 "cells": [
  {
   "cell_type": "markdown",
   "metadata": {},
   "source": [
    "- Pila (Stack) :Python stack\n",
    "- Cola (Queue) :Python queue\n",
    "- Árbol (Tree)\n",
    "- Grafo (Graph)"
   ]
  },
  {
   "cell_type": "code",
   "execution_count": 1,
   "metadata": {},
   "outputs": [],
   "source": [
    "# el dato inicial o primero es la raiz\n",
    "# una coleccion de nodos es una rama\n",
    "# una coleccion de nodos que llegan a la raiz se llaman ramas principales\n",
    "# Primer problema: Como crear un arbol\n",
    "# Segundo problema: Como acceder a la informacion dentro del arbol"
   ]
  },
  {
   "cell_type": "code",
   "execution_count": 28,
   "metadata": {},
   "outputs": [],
   "source": [
    "class nodo:\n",
    "    def __init__(self, dato_ini):\n",
    "        \"\"\"\n",
    "        :param dato_ini:\n",
    "        dato_nodo = 3\n",
    "        \"\"\"\n",
    "        # Por default se inicializa con un None\n",
    "        self.izq = None\n",
    "        # Por default se inicializa con un None\n",
    "        self.der = None\n",
    "        # Se indica que el dato inicial se asigna al dato del nodo\n",
    "        self.dato_nodo = dato_ini\n",
    "        \n",
    "    def insertar(self, dato):\n",
    "        if self.dato_nodo:\n",
    "            if self.izq is None:\n",
    "                self.izq = nodo(dato)\n",
    "            elif self.der is None:\n",
    "                self.der = nodo(dato)\n",
    "            else:\n",
    "                self.izq.insertar(dato)\n",
    "        else:\n",
    "            self.dato_nodo = dato"
   ]
  },
  {
   "cell_type": "code",
   "execution_count": 29,
   "metadata": {},
   "outputs": [],
   "source": [
    "raiz = nodo(8)"
   ]
  },
  {
   "cell_type": "code",
   "execution_count": 30,
   "metadata": {},
   "outputs": [],
   "source": [
    "raiz.insertar(2)"
   ]
  },
  {
   "cell_type": "code",
   "execution_count": null,
   "metadata": {},
   "outputs": [],
   "source": []
  }
 ],
 "metadata": {
  "kernelspec": {
   "display_name": "Python 3",
   "language": "python",
   "name": "python3"
  },
  "language_info": {
   "codemirror_mode": {
    "name": "ipython",
    "version": 3
   },
   "file_extension": ".py",
   "mimetype": "text/x-python",
   "name": "python",
   "nbconvert_exporter": "python",
   "pygments_lexer": "ipython3",
   "version": "3.6.8"
  }
 },
 "nbformat": 4,
 "nbformat_minor": 2
}
