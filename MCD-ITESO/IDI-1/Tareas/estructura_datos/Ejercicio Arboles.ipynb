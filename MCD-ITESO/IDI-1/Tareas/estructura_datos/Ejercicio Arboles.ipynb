{
 "cells": [
  {
   "cell_type": "code",
   "execution_count": null,
   "metadata": {},
   "outputs": [],
   "source": [
    "from queue import Queue"
   ]
  },
  {
   "cell_type": "code",
   "execution_count": null,
   "metadata": {},
   "outputs": [],
   "source": [
    "class Nodo(object):\n",
    "\n",
    "    def __init__(self, dato):\n",
    "        self.dato = dato\n",
    "        self.izq = None\n",
    "        self.der = None\n",
    "\n",
    "    def insertar(self, dato, lado):\n",
    "        if self.dato:\n",
    "            if lado == 'izq':\n",
    "                if self.izq is None:\n",
    "                    self.izq = Nodo(dato)\n",
    "                elif self.der is None:\n",
    "                    self.der = Nodo(dato)\n",
    "                else:\n",
    "                    self.izq.insertar(dato, lado)\n",
    "            elif lado == 'der':\n",
    "                if self.der is None:\n",
    "                    self.der = Nodo(dato)\n",
    "                elif self.izq is None:\n",
    "                    self.izq = Nodo(dato)\n",
    "                else:\n",
    "                    self.der.insertar(dato, lado)\n",
    "        else:\n",
    "            self.dato = dato\n",
    "\n",
    "    def buscar_bfs(self):\n",
    "        cola = Queue()\n",
    "        lista = []\n",
    "        cola.put(self)\n",
    "        lista.append(self.dato)\n",
    "        print(lista)\n",
    "        while not cola.empty():\n",
    "            dato = cola.get()\n",
    "            print(dato)\n",
    "            if dato.der:\n",
    "                cola.put(self.der)\n",
    "                lista.append(self.der.dato)\n",
    "            elif dato.izq:\n",
    "                cola.put(self.izq)\n",
    "                lista.append(self.izq.dato)\n",
    "\n",
    "        print(lista)\n",
    "\n",
    "\n",
    "arbol = Nodo(2)\n",
    "arbol.insertar(5, 'izq')\n",
    "arbol.insertar(7, 'der')\n",
    "\n",
    "arbol.insertar(1, 'izq')\n",
    "arbol.insertar(6, 'der')\n",
    "\n",
    "arbol.insertar(3, 'der')\n",
    "arbol.insertar(4, 'izq')"
   ]
  },
  {
   "cell_type": "code",
   "execution_count": null,
   "metadata": {},
   "outputs": [],
   "source": [
    "arbol.buscar_bfs()"
   ]
  }
 ],
 "metadata": {
  "kernelspec": {
   "display_name": "Python 3",
   "language": "python",
   "name": "python3"
  },
  "language_info": {
   "codemirror_mode": {
    "name": "ipython",
    "version": 3
   },
   "file_extension": ".py",
   "mimetype": "text/x-python",
   "name": "python",
   "nbconvert_exporter": "python",
   "pygments_lexer": "ipython3",
   "version": "3.6.8"
  }
 },
 "nbformat": 4,
 "nbformat_minor": 2
}
