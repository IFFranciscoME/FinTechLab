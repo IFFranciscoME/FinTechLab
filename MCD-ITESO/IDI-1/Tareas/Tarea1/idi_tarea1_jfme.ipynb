{
 "cells": [
  {
   "cell_type": "markdown",
   "metadata": {},
   "source": [
    "<img src=\"http://oci02.img.iteso.mx/identidad_de_instancia_2018/ITESO/Logos%20ITESO/Logo-ITESO-Principal.jpg\">"
   ]
  },
  {
   "cell_type": "markdown",
   "metadata": {},
   "source": [
    "<center> <font color= #004A94> <font size = 6> Msc Ciencia de datos </font> <br> <br> <font color= #047CFB> <font size = 5>I.F. Juan Francisco Muñoz Elguezabal</font> <br> <br>"
   ]
  },
  {
   "cell_type": "markdown",
   "metadata": {},
   "source": [
    "<center><font color= #004A94> <font size = 6> INVESTIGACIÓN, DESARROLLO E INNOVACIÓN - 1 </font> <br>"
   ]
  },
  {
   "cell_type": "markdown",
   "metadata": {},
   "source": [
    "<center><font color= #42c29b> <font size = 6> Tarea 1: </font> <br> <br> <font color= #047CFB> <font size = 5>Repositorio: <a href='https://github.com/IFFranciscoME/FinTechLab/'>Link</a></font>"
   ]
  },
  {
   "cell_type": "markdown",
   "metadata": {},
   "source": [
    "---"
   ]
  },
  {
   "cell_type": "markdown",
   "metadata": {},
   "source": [
    "### Indicaciones"
   ]
  },
  {
   "cell_type": "raw",
   "metadata": {},
   "source": [
    "Utilizando el archivo adjunto realice código en Python que realice las siguientes acciones.\n",
    "\n",
    "Primero lea la hoja vt en un Dataframe vt y sobre este:\n",
    "\n",
    "- Suponga que ha habido un olvido y no se tomó en cuenta un Ingreso mensual de $1000 en todos los meses.\n",
    "- Modifique el DataFrame para aumentar en $1000 los ingresos de cada mes.\n",
    "- Agregue una columna Utilidad (Ingreso - Gasto).\n",
    "- Encuentre el promedio de Gasto en los meses en los que la Utilidad fue negativa.\n",
    "- Encuentre los ingresos totales del año.\n",
    "- Encuentre la lista de los meses en los que la Utilidad fue positiva.\n",
    " \n",
    "Ahora lea la hoja 8c, que representa las distancias en kilómetros entre una serie de ciudades, en un Dataframe cd y sobre este:\n",
    "\n",
    "- Convierta todos los valores a millas (km/1.609)\n",
    "- Genere una serie llamada gdl con las distancias a partir de Guadalajara a todas las ciudades.\n",
    "- Encuentre la lista de las ciudades que están a más de 1000 millas de Guadalajara."
   ]
  },
  {
   "cell_type": "code",
   "execution_count": 21,
   "metadata": {},
   "outputs": [],
   "source": [
    "import pandas as pd\n",
    "import numpy as np"
   ]
  },
  {
   "cell_type": "markdown",
   "metadata": {},
   "source": [
    "### Hoja VT"
   ]
  },
  {
   "cell_type": "code",
   "execution_count": 17,
   "metadata": {},
   "outputs": [],
   "source": [
    "datos = pd.read_excel('datosCT.xlsx', sheet_name='vt')"
   ]
  },
  {
   "cell_type": "code",
   "execution_count": 18,
   "metadata": {},
   "outputs": [
    {
     "data": {
      "text/html": [
       "<div>\n",
       "<style scoped>\n",
       "    .dataframe tbody tr th:only-of-type {\n",
       "        vertical-align: middle;\n",
       "    }\n",
       "\n",
       "    .dataframe tbody tr th {\n",
       "        vertical-align: top;\n",
       "    }\n",
       "\n",
       "    .dataframe thead th {\n",
       "        text-align: right;\n",
       "    }\n",
       "</style>\n",
       "<table border=\"1\" class=\"dataframe\">\n",
       "  <thead>\n",
       "    <tr style=\"text-align: right;\">\n",
       "      <th></th>\n",
       "      <th>Ingreso</th>\n",
       "      <th>Gasto</th>\n",
       "    </tr>\n",
       "  </thead>\n",
       "  <tbody>\n",
       "    <tr>\n",
       "      <th>Enero</th>\n",
       "      <td>1340</td>\n",
       "      <td>1880</td>\n",
       "    </tr>\n",
       "    <tr>\n",
       "      <th>Febrero</th>\n",
       "      <td>2590</td>\n",
       "      <td>3130</td>\n",
       "    </tr>\n",
       "    <tr>\n",
       "      <th>Marzo</th>\n",
       "      <td>3570</td>\n",
       "      <td>2140</td>\n",
       "    </tr>\n",
       "    <tr>\n",
       "      <th>Abril</th>\n",
       "      <td>4450</td>\n",
       "      <td>3370</td>\n",
       "    </tr>\n",
       "    <tr>\n",
       "      <th>Mayo</th>\n",
       "      <td>1330</td>\n",
       "      <td>2990</td>\n",
       "    </tr>\n",
       "  </tbody>\n",
       "</table>\n",
       "</div>"
      ],
      "text/plain": [
       "         Ingreso  Gasto\n",
       "Enero       1340   1880\n",
       "Febrero     2590   3130\n",
       "Marzo       3570   2140\n",
       "Abril       4450   3370\n",
       "Mayo        1330   2990"
      ]
     },
     "execution_count": 18,
     "metadata": {},
     "output_type": "execute_result"
    }
   ],
   "source": [
    "datos.head()"
   ]
  },
  {
   "cell_type": "markdown",
   "metadata": {},
   "source": [
    "#### Suponga que ha habido un olvido y no se tomó en cuenta un Ingreso mensual de 1,000 en todos los meses, modifique el DataFrame para aumentar en 1,000 los ingresos de cada mes."
   ]
  },
  {
   "cell_type": "code",
   "execution_count": 19,
   "metadata": {},
   "outputs": [
    {
     "data": {
      "text/html": [
       "<div>\n",
       "<style scoped>\n",
       "    .dataframe tbody tr th:only-of-type {\n",
       "        vertical-align: middle;\n",
       "    }\n",
       "\n",
       "    .dataframe tbody tr th {\n",
       "        vertical-align: top;\n",
       "    }\n",
       "\n",
       "    .dataframe thead th {\n",
       "        text-align: right;\n",
       "    }\n",
       "</style>\n",
       "<table border=\"1\" class=\"dataframe\">\n",
       "  <thead>\n",
       "    <tr style=\"text-align: right;\">\n",
       "      <th></th>\n",
       "      <th>Ingreso</th>\n",
       "      <th>Gasto</th>\n",
       "    </tr>\n",
       "  </thead>\n",
       "  <tbody>\n",
       "    <tr>\n",
       "      <th>Enero</th>\n",
       "      <td>2340</td>\n",
       "      <td>1880</td>\n",
       "    </tr>\n",
       "    <tr>\n",
       "      <th>Febrero</th>\n",
       "      <td>3590</td>\n",
       "      <td>3130</td>\n",
       "    </tr>\n",
       "    <tr>\n",
       "      <th>Marzo</th>\n",
       "      <td>4570</td>\n",
       "      <td>2140</td>\n",
       "    </tr>\n",
       "    <tr>\n",
       "      <th>Abril</th>\n",
       "      <td>5450</td>\n",
       "      <td>3370</td>\n",
       "    </tr>\n",
       "    <tr>\n",
       "      <th>Mayo</th>\n",
       "      <td>2330</td>\n",
       "      <td>2990</td>\n",
       "    </tr>\n",
       "  </tbody>\n",
       "</table>\n",
       "</div>"
      ],
      "text/plain": [
       "         Ingreso  Gasto\n",
       "Enero       2340   1880\n",
       "Febrero     3590   3130\n",
       "Marzo       4570   2140\n",
       "Abril       5450   3370\n",
       "Mayo        2330   2990"
      ]
     },
     "execution_count": 19,
     "metadata": {},
     "output_type": "execute_result"
    }
   ],
   "source": [
    "datos['Ingreso'] = datos['Ingreso'] + 1000\n",
    "datos.head()"
   ]
  },
  {
   "cell_type": "markdown",
   "metadata": {},
   "source": [
    "#### Agregue una columna Utilidad (Ingreso - Gasto)."
   ]
  },
  {
   "cell_type": "code",
   "execution_count": 20,
   "metadata": {},
   "outputs": [
    {
     "data": {
      "text/html": [
       "<div>\n",
       "<style scoped>\n",
       "    .dataframe tbody tr th:only-of-type {\n",
       "        vertical-align: middle;\n",
       "    }\n",
       "\n",
       "    .dataframe tbody tr th {\n",
       "        vertical-align: top;\n",
       "    }\n",
       "\n",
       "    .dataframe thead th {\n",
       "        text-align: right;\n",
       "    }\n",
       "</style>\n",
       "<table border=\"1\" class=\"dataframe\">\n",
       "  <thead>\n",
       "    <tr style=\"text-align: right;\">\n",
       "      <th></th>\n",
       "      <th>Ingreso</th>\n",
       "      <th>Gasto</th>\n",
       "      <th>Utilidad</th>\n",
       "    </tr>\n",
       "  </thead>\n",
       "  <tbody>\n",
       "    <tr>\n",
       "      <th>Enero</th>\n",
       "      <td>2340</td>\n",
       "      <td>1880</td>\n",
       "      <td>460</td>\n",
       "    </tr>\n",
       "    <tr>\n",
       "      <th>Febrero</th>\n",
       "      <td>3590</td>\n",
       "      <td>3130</td>\n",
       "      <td>460</td>\n",
       "    </tr>\n",
       "    <tr>\n",
       "      <th>Marzo</th>\n",
       "      <td>4570</td>\n",
       "      <td>2140</td>\n",
       "      <td>2430</td>\n",
       "    </tr>\n",
       "    <tr>\n",
       "      <th>Abril</th>\n",
       "      <td>5450</td>\n",
       "      <td>3370</td>\n",
       "      <td>2080</td>\n",
       "    </tr>\n",
       "    <tr>\n",
       "      <th>Mayo</th>\n",
       "      <td>2330</td>\n",
       "      <td>2990</td>\n",
       "      <td>-660</td>\n",
       "    </tr>\n",
       "  </tbody>\n",
       "</table>\n",
       "</div>"
      ],
      "text/plain": [
       "         Ingreso  Gasto  Utilidad\n",
       "Enero       2340   1880       460\n",
       "Febrero     3590   3130       460\n",
       "Marzo       4570   2140      2430\n",
       "Abril       5450   3370      2080\n",
       "Mayo        2330   2990      -660"
      ]
     },
     "execution_count": 20,
     "metadata": {},
     "output_type": "execute_result"
    }
   ],
   "source": [
    "datos['Utilidad'] = datos['Ingreso'] - datos['Gasto']\n",
    "datos.head()"
   ]
  },
  {
   "cell_type": "markdown",
   "metadata": {},
   "source": [
    "#### Encuentre el promedio de Gasto en los meses en los que la Utilidad fue negativa."
   ]
  },
  {
   "cell_type": "code",
   "execution_count": 35,
   "metadata": {},
   "outputs": [
    {
     "data": {
      "text/plain": [
       "3065.0"
      ]
     },
     "execution_count": 35,
     "metadata": {},
     "output_type": "execute_result"
    }
   ],
   "source": [
    "datos.iloc[np.where(datos['Utilidad'] < 0)]['Gasto'].mean()"
   ]
  },
  {
   "cell_type": "markdown",
   "metadata": {},
   "source": [
    "#### Encuentre los ingresos totales del año."
   ]
  },
  {
   "cell_type": "code",
   "execution_count": 38,
   "metadata": {},
   "outputs": [
    {
     "data": {
      "text/plain": [
       "40020"
      ]
     },
     "execution_count": 38,
     "metadata": {},
     "output_type": "execute_result"
    }
   ],
   "source": [
    "datos['Ingreso'].sum()"
   ]
  },
  {
   "cell_type": "markdown",
   "metadata": {},
   "source": [
    "#### Encuentre la lista de los meses en los que la Utilidad fue positiva."
   ]
  },
  {
   "cell_type": "code",
   "execution_count": 41,
   "metadata": {},
   "outputs": [
    {
     "data": {
      "text/plain": [
       "['Mayo', 'Diciembre']"
      ]
     },
     "execution_count": 41,
     "metadata": {},
     "output_type": "execute_result"
    }
   ],
   "source": [
    "list(datos.iloc[np.where(datos['Utilidad'] < 0)].index)"
   ]
  },
  {
   "cell_type": "markdown",
   "metadata": {},
   "source": [
    "### Hoja 8c"
   ]
  },
  {
   "cell_type": "code",
   "execution_count": 67,
   "metadata": {},
   "outputs": [
    {
     "data": {
      "text/html": [
       "<div>\n",
       "<style scoped>\n",
       "    .dataframe tbody tr th:only-of-type {\n",
       "        vertical-align: middle;\n",
       "    }\n",
       "\n",
       "    .dataframe tbody tr th {\n",
       "        vertical-align: top;\n",
       "    }\n",
       "\n",
       "    .dataframe thead th {\n",
       "        text-align: right;\n",
       "    }\n",
       "</style>\n",
       "<table border=\"1\" class=\"dataframe\">\n",
       "  <thead>\n",
       "    <tr style=\"text-align: right;\">\n",
       "      <th></th>\n",
       "      <th>Tijuana</th>\n",
       "      <th>Mérida</th>\n",
       "      <th>GDL</th>\n",
       "      <th>México</th>\n",
       "      <th>León</th>\n",
       "      <th>Monterrey</th>\n",
       "      <th>Tapachula</th>\n",
       "      <th>Chihuahua</th>\n",
       "    </tr>\n",
       "  </thead>\n",
       "  <tbody>\n",
       "    <tr>\n",
       "      <th>Tijuana</th>\n",
       "      <td>0</td>\n",
       "      <td>4180</td>\n",
       "      <td>2306</td>\n",
       "      <td>2848</td>\n",
       "      <td>2529</td>\n",
       "      <td>2409</td>\n",
       "      <td>4005</td>\n",
       "      <td>1583</td>\n",
       "    </tr>\n",
       "    <tr>\n",
       "      <th>Mérida</th>\n",
       "      <td>4180</td>\n",
       "      <td>0</td>\n",
       "      <td>1874</td>\n",
       "      <td>1332</td>\n",
       "      <td>1719</td>\n",
       "      <td>2046</td>\n",
       "      <td>1062</td>\n",
       "      <td>2819</td>\n",
       "    </tr>\n",
       "    <tr>\n",
       "      <th>GDL</th>\n",
       "      <td>2306</td>\n",
       "      <td>1874</td>\n",
       "      <td>0</td>\n",
       "      <td>542</td>\n",
       "      <td>223</td>\n",
       "      <td>789</td>\n",
       "      <td>1699</td>\n",
       "      <td>1202</td>\n",
       "    </tr>\n",
       "    <tr>\n",
       "      <th>México</th>\n",
       "      <td>2848</td>\n",
       "      <td>1332</td>\n",
       "      <td>542</td>\n",
       "      <td>0</td>\n",
       "      <td>389</td>\n",
       "      <td>933</td>\n",
       "      <td>1157</td>\n",
       "      <td>1487</td>\n",
       "    </tr>\n",
       "    <tr>\n",
       "      <th>León</th>\n",
       "      <td>2529</td>\n",
       "      <td>1719</td>\n",
       "      <td>223</td>\n",
       "      <td>389</td>\n",
       "      <td>0</td>\n",
       "      <td>711</td>\n",
       "      <td>1544</td>\n",
       "      <td>1140</td>\n",
       "    </tr>\n",
       "  </tbody>\n",
       "</table>\n",
       "</div>"
      ],
      "text/plain": [
       "         Tijuana  Mérida   GDL  México  León  Monterrey  Tapachula  Chihuahua\n",
       "Tijuana        0    4180  2306    2848  2529       2409       4005       1583\n",
       "Mérida      4180       0  1874    1332  1719       2046       1062       2819\n",
       "GDL         2306    1874     0     542   223        789       1699       1202\n",
       "México      2848    1332   542       0   389        933       1157       1487\n",
       "León        2529    1719   223     389     0        711       1544       1140"
      ]
     },
     "execution_count": 67,
     "metadata": {},
     "output_type": "execute_result"
    }
   ],
   "source": [
    "datos = pd.read_excel('datosCT.xlsx', sheet_name='8c')\n",
    "datos.head()"
   ]
  },
  {
   "cell_type": "markdown",
   "metadata": {},
   "source": [
    "#### Convierta todos los valores a millas (km/1.609)"
   ]
  },
  {
   "cell_type": "code",
   "execution_count": 78,
   "metadata": {},
   "outputs": [
    {
     "data": {
      "text/html": [
       "<div>\n",
       "<style scoped>\n",
       "    .dataframe tbody tr th:only-of-type {\n",
       "        vertical-align: middle;\n",
       "    }\n",
       "\n",
       "    .dataframe tbody tr th {\n",
       "        vertical-align: top;\n",
       "    }\n",
       "\n",
       "    .dataframe thead th {\n",
       "        text-align: right;\n",
       "    }\n",
       "</style>\n",
       "<table border=\"1\" class=\"dataframe\">\n",
       "  <thead>\n",
       "    <tr style=\"text-align: right;\">\n",
       "      <th></th>\n",
       "      <th>Tijuana</th>\n",
       "      <th>Mérida</th>\n",
       "      <th>GDL</th>\n",
       "      <th>México</th>\n",
       "      <th>León</th>\n",
       "      <th>Monterrey</th>\n",
       "      <th>Tapachula</th>\n",
       "      <th>Chihuahua</th>\n",
       "    </tr>\n",
       "  </thead>\n",
       "  <tbody>\n",
       "    <tr>\n",
       "      <th>Tijuana</th>\n",
       "      <td>0.00</td>\n",
       "      <td>1614.60</td>\n",
       "      <td>890.73</td>\n",
       "      <td>1100.09</td>\n",
       "      <td>976.87</td>\n",
       "      <td>930.52</td>\n",
       "      <td>1547.00</td>\n",
       "      <td>611.46</td>\n",
       "    </tr>\n",
       "    <tr>\n",
       "      <th>Mérida</th>\n",
       "      <td>1003.48</td>\n",
       "      <td>0.00</td>\n",
       "      <td>723.86</td>\n",
       "      <td>514.51</td>\n",
       "      <td>663.99</td>\n",
       "      <td>790.30</td>\n",
       "      <td>410.22</td>\n",
       "      <td>1088.89</td>\n",
       "    </tr>\n",
       "    <tr>\n",
       "      <th>GDL</th>\n",
       "      <td>553.59</td>\n",
       "      <td>723.86</td>\n",
       "      <td>0.00</td>\n",
       "      <td>209.36</td>\n",
       "      <td>86.14</td>\n",
       "      <td>304.76</td>\n",
       "      <td>656.27</td>\n",
       "      <td>464.29</td>\n",
       "    </tr>\n",
       "    <tr>\n",
       "      <th>México</th>\n",
       "      <td>683.71</td>\n",
       "      <td>514.51</td>\n",
       "      <td>209.36</td>\n",
       "      <td>0.00</td>\n",
       "      <td>150.26</td>\n",
       "      <td>360.39</td>\n",
       "      <td>446.91</td>\n",
       "      <td>574.38</td>\n",
       "    </tr>\n",
       "    <tr>\n",
       "      <th>León</th>\n",
       "      <td>607.13</td>\n",
       "      <td>663.99</td>\n",
       "      <td>86.14</td>\n",
       "      <td>150.26</td>\n",
       "      <td>0.00</td>\n",
       "      <td>274.64</td>\n",
       "      <td>596.40</td>\n",
       "      <td>440.34</td>\n",
       "    </tr>\n",
       "    <tr>\n",
       "      <th>Monterrey</th>\n",
       "      <td>578.32</td>\n",
       "      <td>790.30</td>\n",
       "      <td>304.76</td>\n",
       "      <td>360.39</td>\n",
       "      <td>274.64</td>\n",
       "      <td>0.00</td>\n",
       "      <td>696.44</td>\n",
       "      <td>319.06</td>\n",
       "    </tr>\n",
       "    <tr>\n",
       "      <th>Tapachula</th>\n",
       "      <td>961.47</td>\n",
       "      <td>410.22</td>\n",
       "      <td>656.27</td>\n",
       "      <td>446.91</td>\n",
       "      <td>596.40</td>\n",
       "      <td>696.44</td>\n",
       "      <td>0.00</td>\n",
       "      <td>1021.29</td>\n",
       "    </tr>\n",
       "    <tr>\n",
       "      <th>Chihuahua</th>\n",
       "      <td>380.03</td>\n",
       "      <td>1088.89</td>\n",
       "      <td>464.29</td>\n",
       "      <td>574.38</td>\n",
       "      <td>440.34</td>\n",
       "      <td>319.06</td>\n",
       "      <td>1021.29</td>\n",
       "      <td>0.00</td>\n",
       "    </tr>\n",
       "  </tbody>\n",
       "</table>\n",
       "</div>"
      ],
      "text/plain": [
       "           Tijuana   Mérida     GDL   México    León  Monterrey  Tapachula  \\\n",
       "Tijuana       0.00  1614.60  890.73  1100.09  976.87     930.52    1547.00   \n",
       "Mérida     1003.48     0.00  723.86   514.51  663.99     790.30     410.22   \n",
       "GDL         553.59   723.86    0.00   209.36   86.14     304.76     656.27   \n",
       "México      683.71   514.51  209.36     0.00  150.26     360.39     446.91   \n",
       "León        607.13   663.99   86.14   150.26    0.00     274.64     596.40   \n",
       "Monterrey   578.32   790.30  304.76   360.39  274.64       0.00     696.44   \n",
       "Tapachula   961.47   410.22  656.27   446.91  596.40     696.44       0.00   \n",
       "Chihuahua   380.03  1088.89  464.29   574.38  440.34     319.06    1021.29   \n",
       "\n",
       "           Chihuahua  \n",
       "Tijuana       611.46  \n",
       "Mérida       1088.89  \n",
       "GDL           464.29  \n",
       "México        574.38  \n",
       "León          440.34  \n",
       "Monterrey     319.06  \n",
       "Tapachula    1021.29  \n",
       "Chihuahua       0.00  "
      ]
     },
     "execution_count": 78,
     "metadata": {},
     "output_type": "execute_result"
    }
   ],
   "source": [
    "estados = list(datos.columns)\n",
    "datos = round(datos.iloc[:,:].div(1.609, axis=0), 2)\n",
    "datos"
   ]
  },
  {
   "cell_type": "markdown",
   "metadata": {},
   "source": [
    "#### Genere una serie llamada gdl con las distancias a partir de Guadalajara a todas las ciudades."
   ]
  },
  {
   "cell_type": "code",
   "execution_count": 87,
   "metadata": {},
   "outputs": [
    {
     "data": {
      "text/plain": [
       "[553.59, 723.86, 0.0, 209.36, 86.14, 304.76, 656.27, 464.29]"
      ]
     },
     "execution_count": 87,
     "metadata": {},
     "output_type": "execute_result"
    }
   ],
   "source": [
    "gdl = list(datos.loc['GDL', :])\n",
    "gdl"
   ]
  },
  {
   "cell_type": "markdown",
   "metadata": {},
   "source": [
    "#### Encuentre la lista de las ciudades que están a más de 1000 millas de Guadalajara."
   ]
  },
  {
   "cell_type": "code",
   "execution_count": 93,
   "metadata": {},
   "outputs": [
    {
     "data": {
      "text/plain": [
       "[]"
      ]
     },
     "execution_count": 93,
     "metadata": {},
     "output_type": "execute_result"
    }
   ],
   "source": [
    "list(np.where(datos.loc['GDL', :] > 1000)[0])"
   ]
  }
 ],
 "metadata": {
  "kernelspec": {
   "display_name": "Python 3",
   "language": "python",
   "name": "python3"
  },
  "language_info": {
   "codemirror_mode": {
    "name": "ipython",
    "version": 3
   },
   "file_extension": ".py",
   "mimetype": "text/x-python",
   "name": "python",
   "nbconvert_exporter": "python",
   "pygments_lexer": "ipython3",
   "version": "3.6.8"
  }
 },
 "nbformat": 4,
 "nbformat_minor": 2
}
