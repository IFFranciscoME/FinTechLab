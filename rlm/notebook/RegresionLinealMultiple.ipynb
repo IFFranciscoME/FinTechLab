{
 "cells": [
  {
   "cell_type": "markdown",
   "metadata": {},
   "source": [
    "# Regresion Lineal Múltiple"
   ]
  },
  {
   "cell_type": "markdown",
   "metadata": {},
   "source": [
    "# Maestría en Ciencia de Datos"
   ]
  },
  {
   "cell_type": "markdown",
   "metadata": {},
   "source": [
    "## Francisco ME"
   ]
  },
  {
   "cell_type": "markdown",
   "metadata": {},
   "source": [
    "---"
   ]
  },
  {
   "cell_type": "markdown",
   "metadata": {},
   "source": [
    "### Cargar librerias"
   ]
  },
  {
   "cell_type": "markdown",
   "metadata": {},
   "source": [
    "Se cargan las librerias que son necesarias para las funciones dentro del proyecto"
   ]
  },
  {
   "cell_type": "code",
   "execution_count": 5,
   "metadata": {},
   "outputs": [],
   "source": [
    "import numpy as np                                        # tratamiento cientifico de numeros\n",
    "import pandas as pd                                       # dataframes\n",
    "import statsmodels.api as sm                              # modelos estadisticos\n",
    "from datetime import datetime                             # tratamiento de datetime\n",
    "from functools import reduce                              # para la union de los dataframes\n",
    "from os import listdir, getcwd                            # para leer todos los archivos de un folder\n",
    "from os.path import isfile, join                          # encontrar y unir archivos en un folder\n",
    "\n",
    "from sklearn import linear_model                          # modelo lineal\n",
    "from sklearn.model_selection import train_test_split      # separacion de conjunto de entrenamiento y prueba\n",
    "from statsmodels.formula.api import ols                   # ols"
   ]
  },
  {
   "cell_type": "markdown",
   "metadata": {},
   "source": [
    "### Cargar las deependencias"
   ]
  },
  {
   "cell_type": "markdown",
   "metadata": {},
   "source": [
    "Se cargan las dependencias del proyecto, en este caso son las siguientes:\n",
    "\n",
    "- **visualizaciones.py** : Donde se encuentran funciones que fueron especialmente ddesarrolladas para visualizar datos en este proyecto.\n",
    "\n",
    "- **datos.py** : En el cual realiza la función fundamental de contener los parámetros y _token_ para utilizar el servicio de *API* de *OANDA* y solicitar precios históricos, que son regresados en el objeto *pd_hist* cargado finalmente como *precios*. *OANDA* es un *broker* que provee acceso programático a mercados financieros bursátiles de USA, este *broker* convenientemente provee de una **API** o Interfáz Programática de Aplicaciones (por sus siglas en inglés), esto de manera gratuita y con extensa documentación sobre su uso con *python* (mas información al respecto puede ser consultada en su sitio [developer.oanda.com]('http://developer.oanda.com/')"
   ]
  },
  {
   "cell_type": "markdown",
   "metadata": {},
   "source": [
    "Ambos códigos puede ser encontrardos dentro de la misma carpeta de este proyecto"
   ]
  },
  {
   "cell_type": "code",
   "execution_count": 7,
   "metadata": {},
   "outputs": [
    {
     "ename": "ModuleNotFoundError",
     "evalue": "No module named 'rlm'",
     "output_type": "error",
     "traceback": [
      "\u001b[0;31m---------------------------------------------------------------------------\u001b[0m",
      "\u001b[0;31mModuleNotFoundError\u001b[0m                       Traceback (most recent call last)",
      "\u001b[0;32m<ipython-input-7-41113f2a9c10>\u001b[0m in \u001b[0;36m<module>\u001b[0;34m\u001b[0m\n\u001b[0;32m----> 1\u001b[0;31m \u001b[0;32mimport\u001b[0m \u001b[0mrlm\u001b[0m\u001b[0;34m.\u001b[0m\u001b[0mvisualizaciones\u001b[0m \u001b[0;32mas\u001b[0m \u001b[0mvs\u001b[0m                              \u001b[0;31m# script con funciones para visualizar\u001b[0m\u001b[0;34m\u001b[0m\u001b[0;34m\u001b[0m\u001b[0m\n\u001b[0m\u001b[1;32m      2\u001b[0m \u001b[0;32mfrom\u001b[0m \u001b[0mrlm\u001b[0m\u001b[0;34m.\u001b[0m\u001b[0mdatos\u001b[0m \u001b[0;32mimport\u001b[0m \u001b[0mpd_hist\u001b[0m \u001b[0;32mas\u001b[0m \u001b[0mprecios\u001b[0m                      \u001b[0;31m# importar precios\u001b[0m\u001b[0;34m\u001b[0m\u001b[0;34m\u001b[0m\u001b[0m\n",
      "\u001b[0;31mModuleNotFoundError\u001b[0m: No module named 'rlm'"
     ]
    }
   ],
   "source": [
    "import rlm.visualizaciones as vs                              # script con funciones para visualizar\n",
    "from rlm.datos import pd_hist as precios                      # importar precios"
   ]
  },
  {
   "cell_type": "markdown",
   "metadata": {},
   "source": [
    "### Opciones para visualizacion de DataFrame"
   ]
  },
  {
   "cell_type": "markdown",
   "metadata": {},
   "source": [
    "Se establecen las siguientes opciones para visualizar dataframes en la consola de una manera mas libre"
   ]
  },
  {
   "cell_type": "code",
   "execution_count": null,
   "metadata": {},
   "outputs": [],
   "source": [
    "pd.set_option('display.max_rows', None)                   # sin limite de renglones maximos para mostrar pandas\n",
    "pd.set_option('display.max_columns', None)                # sin limite de columnas maximas para mostrar pandas\n",
    "pd.set_option('display.width', None)                      # sin limite el ancho del display\n",
    "pd.set_option('display.expand_frame_repr', False)         # visualizar todas las columnas de un pandas dataframe\n",
    "pd.options.mode.chained_assignment = None                 # para evitar el warning enfadoso de indexacion"
   ]
  },
  {
   "cell_type": "markdown",
   "metadata": {},
   "source": [
    "## Planteamiento de la problematica y contexto"
   ]
  },
  {
   "cell_type": "markdown",
   "metadata": {},
   "source": [
    "Se plantea el reto de modelar el precio semanal del tipo de cambio _Euro Vs Dólar Americano_ , representado por el instrumento financiero de tipo de cambio cruzado con el ticker _EurUsd_. \n",
    "\n",
    "- La variable dependiente: **Close** - Precio de cierre semanal del tipo de cambio *EurUsd*\n",
    "- Las variables independientes o explicativas: **Indicadores macroeconómicos semanales** de las economías de USA y la Zona Euro."
   ]
  },
  {
   "cell_type": "markdown",
   "metadata": {},
   "source": [
    "### Calendario Económico"
   ]
  },
  {
   "cell_type": "code",
   "execution_count": 4,
   "metadata": {},
   "outputs": [
    {
     "ename": "NameError",
     "evalue": "name 'getcwd' is not defined",
     "output_type": "error",
     "traceback": [
      "\u001b[0;31m---------------------------------------------------------------------------\u001b[0m",
      "\u001b[0;31mNameError\u001b[0m                                 Traceback (most recent call last)",
      "\u001b[0;32m<ipython-input-4-b6099832a36e>\u001b[0m in \u001b[0;36m<module>\u001b[0;34m\u001b[0m\n\u001b[1;32m      1\u001b[0m \u001b[0;31m# Obtener el director donde se encuentran todos los archivos\u001b[0m\u001b[0;34m\u001b[0m\u001b[0;34m\u001b[0m\u001b[0;34m\u001b[0m\u001b[0m\n\u001b[0;32m----> 2\u001b[0;31m \u001b[0mdirectorio\u001b[0m \u001b[0;34m=\u001b[0m \u001b[0mgetcwd\u001b[0m\u001b[0;34m(\u001b[0m\u001b[0;34m)\u001b[0m \u001b[0;34m+\u001b[0m \u001b[0;34m'/archivos/'\u001b[0m\u001b[0;34m\u001b[0m\u001b[0;34m\u001b[0m\u001b[0m\n\u001b[0m\u001b[1;32m      3\u001b[0m \u001b[0;34m\u001b[0m\u001b[0m\n\u001b[1;32m      4\u001b[0m \u001b[0;31m# Obtener una lista de todos los archivos de datos\u001b[0m\u001b[0;34m\u001b[0m\u001b[0;34m\u001b[0m\u001b[0;34m\u001b[0m\u001b[0m\n\u001b[1;32m      5\u001b[0m \u001b[0marchivos_ce\u001b[0m \u001b[0;34m=\u001b[0m \u001b[0;34m[\u001b[0m\u001b[0mf\u001b[0m \u001b[0;32mfor\u001b[0m \u001b[0mf\u001b[0m \u001b[0;32min\u001b[0m \u001b[0mlistdir\u001b[0m\u001b[0;34m(\u001b[0m\u001b[0mdirectorio\u001b[0m\u001b[0;34m)\u001b[0m \u001b[0;32mif\u001b[0m \u001b[0misfile\u001b[0m\u001b[0;34m(\u001b[0m\u001b[0mjoin\u001b[0m\u001b[0;34m(\u001b[0m\u001b[0mdirectorio\u001b[0m\u001b[0;34m,\u001b[0m \u001b[0mf\u001b[0m\u001b[0;34m)\u001b[0m\u001b[0;34m)\u001b[0m\u001b[0;34m]\u001b[0m\u001b[0;34m\u001b[0m\u001b[0;34m\u001b[0m\u001b[0m\n",
      "\u001b[0;31mNameError\u001b[0m: name 'getcwd' is not defined"
     ]
    }
   ],
   "source": [
    "# Obtener el director donde se encuentran todos los archivos\n",
    "directorio = getcwd() + '/archivos/'\n",
    "\n",
    "# Obtener una lista de todos los archivos de datos\n",
    "archivos_ce = [f for f in listdir(directorio) if isfile(join(directorio, f))]\n",
    "\n",
    "\n",
    "def f_datos_ce(p0_ind):\n",
    "\n",
    "    # Datos de entrada\n",
    "    datos = pd.read_csv('archivos/' + p0_ind)\n",
    "\n",
    "    # Convertir columna de fechas a datetime\n",
    "    datos['DateTime'] = [datetime.strptime(datos['DateTime'][i], '%m/%d/%Y %H:%M:%S')\n",
    "                         for i in range(0, len(datos['DateTime']))]\n",
    "\n",
    "    # Ordernarlos de forma ascendente en el tiempo\n",
    "    datos.sort_values(by=['DateTime'], inplace=True, ascending=True)\n",
    "    datos = datos.reset_index(drop=True)\n",
    "\n",
    "    # Agregar columna con numero de año y semana (Servira para empatar fecha de indicador con fecha de precio)\n",
    "    datos['Year_Week'] = [datos.loc[i, 'DateTime'].strftime(\"%Y\") + '_' +\n",
    "                          datos.loc[i, 'DateTime'].strftime(\"%W\") for i in range(0, len(datos['DateTime']))]\n",
    "\n",
    "    # Solo tomar las columnas para el ejercicio\n",
    "    datos = datos[['Year_Week', 'Actual']]\n",
    "\n",
    "    print(datos.head())\n",
    "\n",
    "    return datos\n",
    "\n",
    "\n",
    "# Unir dataframes\n",
    "dataframes = [f_datos_ce(p0_ind=archivos_ce[i]) for i in range(0, len(archivos_ce))]\n",
    "datos_ce = reduce(lambda left, right: pd.merge(left, right, on=['Year_Week'], how='inner'), dataframes)\n",
    "\n",
    "# Renombrar las columnas\n",
    "variables_ce = ['x_' + str(i) for i in range(0, len(archivos_ce))]\n",
    "datos_ce.columns = ['Year_Week'] + variables_ce"
   ]
  },
  {
   "cell_type": "markdown",
   "metadata": {},
   "source": [
    "### Precios de OANDA"
   ]
  },
  {
   "cell_type": "code",
   "execution_count": null,
   "metadata": {},
   "outputs": [],
   "source": [
    "# Generacion de variables explicativas\n",
    "datos_fx = precios[['TimeStamp', 'Close', 'Open']]\n",
    "\n",
    "# Convertir a valor tipo float\n",
    "datos_fx.loc[:, 'Close'] = datos_fx.loc[:, 'Close'].astype(float)\n",
    "datos_fx.loc[:, 'Open'] = datos_fx.loc[:, 'Open'].astype(float)\n",
    "\n",
    "# Calcular el rendimiento logaritmico como variable a explicar Y\n",
    "datos_fx.loc[:, 'log_ret'] = np.log(datos_fx.loc[:, 'Close']/datos_fx.loc[:, 'Close'].shift(1))\n",
    "\n",
    "# Calcular la diferencia entre precio de cierre y apertura multiplicado por el multiplicador (PIP)\n",
    "datos_fx.loc[:, 'pips_co'] = (datos_fx.loc[:, 'Close'] - datos_fx.loc[:, 'Open'])*10000\n",
    "\n",
    "# Eliminar el NaN inicial\n",
    "datos_fx = datos_fx.dropna()\n",
    "\n",
    "# Resetear index de data frame\n",
    "datos_fx = datos_fx.reset_index(drop=True)\n",
    "\n",
    "# Convertir columna de fechas a datetime\n",
    "datos_fx['TimeStamp'] = pd.to_datetime(datos_fx['TimeStamp'])\n",
    "\n",
    "# Agregar columna de semana\n",
    "# datos_fx['Semana'] = [datos_fx.loc[i, 'TimeStamp'].strftime(\"%W\") for i in range(0, len(datos_fx['TimeStamp']))]\n",
    "datos_fx['Year_Week'] = [datos_fx.loc[i, 'TimeStamp'].strftime(\"%Y\") + '_' +\n",
    "                         datos_fx.loc[i, 'TimeStamp'].strftime(\"%W\") for i in range(0, len(datos_fx['TimeStamp']))]"
   ]
  },
  {
   "cell_type": "markdown",
   "metadata": {},
   "source": [
    "### Union de datos en un solo DataFrame"
   ]
  },
  {
   "cell_type": "code",
   "execution_count": null,
   "metadata": {},
   "outputs": [],
   "source": [
    "# unir los dos dataframes para obtener el dataframe a usar en el modelo\n",
    "datos_md = pd.merge(datos_fx, datos_ce, on=['Year_Week'], how='inner')\n",
    "\n",
    "# eliminar la columna Year_Week\n",
    "datos_md = datos_md.drop(['Year_Week'], axis=1)"
   ]
  },
  {
   "cell_type": "markdown",
   "metadata": {},
   "source": [
    "### Exploracion de variables"
   ]
  },
  {
   "cell_type": "code",
   "execution_count": null,
   "metadata": {},
   "outputs": [],
   "source": [
    "# Matriz de diagramas de dispersion\n",
    "g1 = vs.explora(datos_md)"
   ]
  }
 ],
 "metadata": {
  "kernelspec": {
   "display_name": "Python 3",
   "language": "python",
   "name": "python3"
  },
  "language_info": {
   "codemirror_mode": {
    "name": "ipython",
    "version": 3
   },
   "file_extension": ".py",
   "mimetype": "text/x-python",
   "name": "python",
   "nbconvert_exporter": "python",
   "pygments_lexer": "ipython3",
   "version": "3.6.8"
  }
 },
 "nbformat": 4,
 "nbformat_minor": 2
}
