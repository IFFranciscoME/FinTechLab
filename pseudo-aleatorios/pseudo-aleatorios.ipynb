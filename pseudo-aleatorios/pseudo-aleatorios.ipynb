{
 "cells": [
  {
   "cell_type": "markdown",
   "metadata": {},
   "source": [
    "# Generación y visualización de pseudo-aleatorios"
   ]
  },
  {
   "cell_type": "markdown",
   "metadata": {},
   "source": [
    "# Maestría en Ciencia de Datos"
   ]
  },
  {
   "cell_type": "markdown",
   "metadata": {},
   "source": [
    "## Francisco ME"
   ]
  },
  {
   "cell_type": "markdown",
   "metadata": {},
   "source": [
    "---"
   ]
  },
  {
   "cell_type": "markdown",
   "metadata": {},
   "source": [
    "### Importar librerias"
   ]
  },
  {
   "cell_type": "markdown",
   "metadata": {},
   "source": [
    "Se importan todas las dependencias del código"
   ]
  },
  {
   "cell_type": "code",
   "execution_count": null,
   "metadata": {},
   "outputs": [],
   "source": [
    "# Importar librerias\n",
    "import numpy as np                # funciones numericas\n",
    "import pandas as pd               # data frames\n",
    "import matplotlib.pyplot as plot  # visualización aburrida de datos\n",
    "import plotly.graph_objects as go # visualización dinámica de datos\n",
    "import plotly.offline as py       # visualizar plots de plotly en jupyter offline"
   ]
  },
  {
   "cell_type": "markdown",
   "metadata": {},
   "source": [
    "### Fijar la semilla para aleatorios"
   ]
  },
  {
   "cell_type": "markdown",
   "metadata": {},
   "source": [
    "Se fija una semilla para la generación de los pseudo-aleatorios. Con esto, cada que se corra el código serán generados los mismos aleatorios."
   ]
  },
  {
   "cell_type": "code",
   "execution_count": null,
   "metadata": {},
   "outputs": [],
   "source": [
    "np.random.seed(2)"
   ]
  },
  {
   "cell_type": "markdown",
   "metadata": {},
   "source": [
    "### Ejercicio 1: Experimento con dados"
   ]
  },
  {
   "cell_type": "markdown",
   "metadata": {},
   "source": [
    "Emule el experimento de obtener la suma de dos dados, genere una lista aleatoria con los resultados de 1000 lanzamientos (note que no todos los resultados son igual de probables). Tip: choice."
   ]
  },
  {
   "cell_type": "code",
   "execution_count": null,
   "metadata": {},
   "outputs": [],
   "source": [
    "n = [np.random.randint(low=1, high=6, size=2).sum() for _ in range(1000)]"
   ]
  },
  {
   "cell_type": "markdown",
   "metadata": {},
   "source": [
    "### Ejercicio 2: Caja con canicas"
   ]
  },
  {
   "cell_type": "markdown",
   "metadata": {},
   "source": [
    "Suponga que tiene una caja con dos canicas rojas, tres azules y 5 blancas. Quiere emular el proceso de sacar 3 canicas de la caja de forma que no se regresa la canica que ya se sacó. Cree una lista con los resultados de 10 experimentos (es decir, una lista de 10 listas con 3 elementos). Puede utilizar números en vez de colores si lo considera necesario."
   ]
  },
  {
   "cell_type": "code",
   "execution_count": null,
   "metadata": {},
   "outputs": [],
   "source": [
    "colores = ['azul', 'roja', 'blanca']\n",
    "repeticion = [2, 3, 5]\n",
    "caja = [colores[i] for i in range(len(colores)) for j in range(repeticion[i])]\n",
    "experimento = [np.random.choice(caja, 3, replace=False) for _ in range(10)]"
   ]
  },
  {
   "cell_type": "code",
   "execution_count": null,
   "metadata": {},
   "outputs": [],
   "source": [
    "experimento"
   ]
  },
  {
   "cell_type": "markdown",
   "metadata": {},
   "source": [
    "### Ejercicio 3: Contestar Examen"
   ]
  },
  {
   "cell_type": "markdown",
   "metadata": {},
   "source": [
    "Utilice distribución binomial para emular el evento de contestar un examen de 10 preguntas, cada una de 4 opciones (sólo una correcta). Entregue una lista con las calificaciones de 500 exámenes contestados aleatoriamente."
   ]
  },
  {
   "cell_type": "code",
   "execution_count": null,
   "metadata": {},
   "outputs": [],
   "source": [
    "preguntas = ['pregunta_' + str(i) for i in range(1, 11)]\n",
    "opciones = ['A', 'B', 'C', 'D']\n",
    "resultados = pd.DataFrame({'e_' + str(i): np.random.binomial(n=1, p=.25, size=10) for i in range(500)}, index=preguntas)\n",
    "calificaciones = resultados.sum()"
   ]
  },
  {
   "cell_type": "markdown",
   "metadata": {},
   "source": [
    "### Ejercicio 4: Crucero de coches"
   ]
  },
  {
   "cell_type": "markdown",
   "metadata": {},
   "source": [
    "Se sabe que por un crucero pasan en promedio 20 coches por minuto. Con una distribución de Poisson emule aleatoriamente los resultados de tomar mediciones cada minuto durante una hora. ¿Cuál fue el mayor y el menor valor obtenido?"
   ]
  },
  {
   "cell_type": "code",
   "execution_count": null,
   "metadata": {},
   "outputs": [],
   "source": [
    "trafico = np.random.poisson(lam=20, size=60)\n",
    "t_max = trafico.min()\n",
    "t_min = trafico.max()"
   ]
  },
  {
   "cell_type": "markdown",
   "metadata": {},
   "source": [
    "### Ejercicio 5: Estaturas de poblacion"
   ]
  },
  {
   "cell_type": "markdown",
   "metadata": {},
   "source": [
    "Si sabemos que las estaturas de cierta población se distribuyen de forma normal con una media de 1.68 m y una desviación estándar de 0.14 m. Genere una lista aleatoria para emular una muestra de 500 personas. ¿Cuál es la estatura promedio de la muestra? ¿Cuál fue la menor y la mayor estatura obtenida?"
   ]
  },
  {
   "cell_type": "code",
   "execution_count": null,
   "metadata": {},
   "outputs": [],
   "source": [
    "media = 1.68\n",
    "desvest = 0.14\n",
    "muestra = np.random.normal(loc=media, scale=desvest, size=500)\n",
    "mean_m = muestra.mean()\n",
    "min_m = muestra.min()\n",
    "max_m = muestra.max()"
   ]
  },
  {
   "cell_type": "markdown",
   "metadata": {},
   "source": [
    "### Ejercicio 6: Barras de metal"
   ]
  },
  {
   "cell_type": "markdown",
   "metadata": {},
   "source": [
    "Los valores del largo de barras de metal en una fábrica están entre 80 y 90 cm. El valor esperado del largo de una barra es de 83 cm y se sabe que las probabilidades a partir de este valor a los extremos decrecen linealmente. Genere un histograma con 10 clases a partir de la emulación de una muestra aleatoria de 10,000 barras."
   ]
  },
  {
   "cell_type": "code",
   "execution_count": null,
   "metadata": {},
   "outputs": [],
   "source": [
    "minimo = 80\n",
    "maximo = 90\n",
    "esperado = 83\n",
    "clases = 10\n",
    "muestra = 10000\n",
    "valores = np.random.triangular(left=minimo, mode=esperado, right=maximo, size=muestra)"
   ]
  },
  {
   "cell_type": "markdown",
   "metadata": {},
   "source": [
    "##### Visualización con Matplotlib"
   ]
  },
  {
   "cell_type": "code",
   "execution_count": null,
   "metadata": {},
   "outputs": [],
   "source": [
    "plot.hist(x=valores, bins=clases)"
   ]
  },
  {
   "cell_type": "markdown",
   "metadata": {},
   "source": [
    "##### Visualización con Plotly"
   ]
  },
  {
   "cell_type": "code",
   "execution_count": null,
   "metadata": {},
   "outputs": [],
   "source": [
    "n_bins = 10 # Numero de bins\n",
    "bins_size = (max(valores) - min(valores))/n_bins # Calculo para distribuir valores en numero de bins elegido\n",
    "color_a = '#047CFB' # Un color chido\n",
    "\n",
    "# Inicializar un objeto tipo figura\n",
    "fig = go.Figure()\n",
    "\n",
    "# Agregar un trazo tipo histograma\n",
    "fig.add_trace(go.Histogram(x=valores, # Valores \n",
    "                           histnorm='probability', # Tipo de histograma\n",
    "                           name='largo de barras', # Nombre para identificar el trazo\n",
    "                           xbins=dict(start=min(valores), end=max(valores), size=bins_size), # Info para bins\n",
    "                           marker_color=color_a, # Color del marcador, en este caso las barras\n",
    "                           opacity=0.75, # Opacidad de los elementos del trazo, en este caso las barras\n",
    "                           # Constructor de mensaje en HTML\n",
    "                           hovertemplate = '<i>Probabilidad</i>: %{y} <br><b>Rango de longitud</b>: %{x} cm <br>'))\n",
    "\n",
    "# Actualizar el layout de titulos y ejes\n",
    "fig.update_layout(\n",
    "    title=dict(x=0.5, text='<b>Histograma de probabilidad:</b> Longitud de barras'),\n",
    "    xaxis=dict(title_text='Longitud'), # Etiquetas de eje x\n",
    "    yaxis=dict(title_text='Probabilidad'), # Etiquetas de eje y\n",
    "    bargap=0.01 # Espacio entre las barras \n",
    ")\n",
    "\n",
    "# Al hacer hover o \"mouse over\" en las barras que se trunque a 2 decimales en los numeros y expersarlo en %\n",
    "fig.update_yaxes(hoverformat='%.2f')\n",
    "\n",
    "# Al hacer hover o \"mouse over\" en las barras que se trunque a 2 decimales en los numeros\n",
    "fig.update_xaxes(hoverformat=\".2f\")\n",
    "\n",
    "# Mostrar grafica fuera de plotly\n",
    "# fig.show()\n",
    "\n",
    "# Mostrar grafica en jupyter\n",
    "py.offline.init_notebook_mode(connected=False)\n",
    "py.iplot(fig, filename='Histograma 1')"
   ]
  },
  {
   "cell_type": "markdown",
   "metadata": {},
   "source": [
    "### Ejercicio 7: Exponencial Vs Gamma"
   ]
  },
  {
   "cell_type": "markdown",
   "metadata": {},
   "source": [
    "Para hacer una comparación entre la distribución exponencial y la distribución gamma, genere una lista de 10000 muestras exponenciales con media 10, y otra con 10000 muestras gamma con α =2 y β=5. Dibuje los histogramas de ambas en la misma gráfica y el mismo número de barras. ¿Qué observa?"
   ]
  },
  {
   "cell_type": "code",
   "execution_count": null,
   "metadata": {},
   "outputs": [],
   "source": [
    "muestras_e = 10000\n",
    "media_e = 10\n",
    "muestras_g = 10000\n",
    "alfa_g = 2\n",
    "beta_g = 5\n",
    "barras = 10\n",
    "exp = np.random.exponential(scale=media_e, size=muestras_e)\n",
    "gam = np.random.gamma(shape=alfa_g, scale=beta_g, size=muestras_g)"
   ]
  },
  {
   "cell_type": "markdown",
   "metadata": {},
   "source": [
    "##### Visualización con Matplotlib"
   ]
  },
  {
   "cell_type": "code",
   "execution_count": null,
   "metadata": {},
   "outputs": [],
   "source": [
    "plot.hist(x=exp, bins=barras)\n",
    "plot.hist(x=gam, bins=barras)"
   ]
  },
  {
   "cell_type": "markdown",
   "metadata": {},
   "source": [
    "##### Visualización con Plotly"
   ]
  },
  {
   "cell_type": "code",
   "execution_count": null,
   "metadata": {},
   "outputs": [],
   "source": [
    "exp_n_bins = 10 # Numero de bins Exponencial\n",
    "exp_bins_size = (max(exp) - min(exp))/exp_n_bins # Calculo para distribuir valores en numero de bins elegido\n",
    "exp_color_a = '#047CFB' # Un color chido para Exponencial\n",
    "\n",
    "gam_n_bins = 10 # Numero de bins Gamma\n",
    "gam_bins_size = (max(gam) - min(gam))/gam_n_bins # Calculo para distribuir valores en numero de bins elegido\n",
    "gam_color_b = '#42c29b' # Un color chido para Gamma\n",
    "\n",
    "# Inicializar un objeto tipo figura\n",
    "fig = go.Figure()\n",
    "\n",
    "# Agregar un trazo tipo histograma: Distribucion Exponencial\n",
    "fig.add_trace(go.Histogram(x=exp, # Valores \n",
    "                           histnorm='probability', # Tipo de histograma\n",
    "                           name='Exponencial', # Nombre para identificar el trazo\n",
    "                           xbins=dict(start=min(exp), end=max(exp), size=exp_bins_size), # Info para bins\n",
    "                           marker_color=exp_color_a, # Color del marcador, en este caso las barras\n",
    "                           opacity=0.75)) # Opacidad de los elementos del trazo, en este caso las barras\n",
    "                           # Constructor de mensaje en HTML\n",
    "\n",
    "# Agregar un trazo tipo histograma: Distribucion Exponencial\n",
    "fig.add_trace(go.Histogram(x=gam, # Valores \n",
    "                           histnorm='probability', # Tipo de histograma\n",
    "                           name='Gamma', # Nombre para identificar el trazo\n",
    "                           xbins=dict(start=min(gam), end=max(gam), size=gam_bins_size), # Info para bins\n",
    "                           marker_color=gam_color_b, # Color del marcador, en este caso las barras\n",
    "                           opacity=0.75)) # Opacidad de los elementos del trazo, en este caso las barras\n",
    "                           # Constructor de mensaje en HTML\n",
    "                           \n",
    "\n",
    "# Actualizar el layout de titulos y ejes\n",
    "fig.update_layout(barmode='overlay',\n",
    "    title=dict(x=0.5, text='<b>Histogramas de probabilidad:</b> Exponencial y Gamma'),\n",
    "    xaxis=dict(title_text='Valores'), # Etiquetas de eje x\n",
    "    yaxis=dict(title_text='Probabilidad'), # Etiquetas de eje y\n",
    "    bargap=0.01 # Espacio entre las barras \n",
    ")\n",
    "\n",
    "# Al hacer hover o \"mouse over\" en las barras que se trunque a 2 decimales en los numeros y expersarlo en %\n",
    "fig.update_yaxes(hoverformat='%.2f')\n",
    "\n",
    "# Al hacer hover o \"mouse over\" en las barras que se trunque a 2 decimales en los numeros\n",
    "fig.update_xaxes(hoverformat=\".2f\")\n",
    "\n",
    "# Mostrar grafica en fuera de plotly\n",
    "# fig.show()\n",
    "\n",
    "# Mostrar grafica en jupyter\n",
    "py.offline.init_notebook_mode(connected=False)\n",
    "py.iplot(fig, filename='Histograma 2')"
   ]
  },
  {
   "cell_type": "code",
   "execution_count": null,
   "metadata": {},
   "outputs": [],
   "source": []
  }
 ],
 "metadata": {
  "kernelspec": {
   "display_name": "Python 3",
   "language": "python",
   "name": "python3"
  },
  "language_info": {
   "codemirror_mode": {
    "name": "ipython",
    "version": 3
   },
   "file_extension": ".py",
   "mimetype": "text/x-python",
   "name": "python",
   "nbconvert_exporter": "python",
   "pygments_lexer": "ipython3",
   "version": "3.7.0"
  }
 },
 "nbformat": 4,
 "nbformat_minor": 2
}
