{
 "cells": [
  {
   "cell_type": "markdown",
   "metadata": {},
   "source": [
    "<img src=\"http://oci02.img.iteso.mx/identidad_de_instancia_2018/ITESO/Logos%20ITESO/Logo-ITESO-Principal.jpg\">"
   ]
  },
  {
   "cell_type": "markdown",
   "metadata": {},
   "source": [
    "<center><font color= #004A94> <font size = 6>Msc Ciencia de datos</font> </font> <br> <br> <font color= #047CFB> <font size = 5>I.F. Juan Francisco Muñoz Elguezabal</font> <br> <br>"
   ]
  },
  {
   "cell_type": "markdown",
   "metadata": {},
   "source": [
    "<center><font color= #42c29b> <font size = 6> Aplicación de modelo ANOVA en finanzas bursátiles</font> </font> <br> <br> <font color= #047CFB> <font size = 5>Repositorio: <a href='https://github.com/IFFranciscoME/FinTechLab/tree/master/anova'>Link</a></font>"
   ]
  },
  {
   "cell_type": "markdown",
   "metadata": {},
   "source": [
    "---"
   ]
  },
  {
   "cell_type": "markdown",
   "metadata": {},
   "source": [
    "## Abstract"
   ]
  },
  {
   "cell_type": "markdown",
   "metadata": {},
   "source": [
    "En finanzas bursatiles ... "
   ]
  },
  {
   "cell_type": "markdown",
   "metadata": {},
   "source": [
    "## Introduccion"
   ]
  },
  {
   "cell_type": "markdown",
   "metadata": {},
   "source": [
    "El modelo _ANOVA_, en Finanzas bursátiles, el calendario económico, el indicador economico, clasificacion de resultados, la reacción del precio."
   ]
  },
  {
   "cell_type": "markdown",
   "metadata": {},
   "source": [
    "### Cargar paqueterias y dependencias"
   ]
  },
  {
   "cell_type": "code",
   "execution_count": 5,
   "metadata": {},
   "outputs": [],
   "source": [
    "import pandas as pd                                       # dataframes y utilidades\n",
    "import numpy as np                                        # operaciones matematicas\n",
    "import statsmodels.api as sm                              # modelos estadisticos: anova\n",
    "\n",
    "from statsmodels.stats.multicomp import MultiComparison   # herramientas estadisticas: multicomparacion\n",
    "from statsmodels.formula.api import ols                   # herramientas estadisticas: modelo lineal con ols\n",
    "from datos import df_ce, df_pe                            # importar datos internamente de otro script\n",
    "\n",
    "pd.set_option('display.max_rows', None)                   # sin limite de renglones maximos para mostrar pandas\n",
    "pd.set_option('display.max_columns', None)                # sin limite de columnas maximas para mostrar pandas\n",
    "pd.set_option('display.width', None)                      # sin limite el ancho del display\n",
    "pd.set_option('display.expand_frame_repr', False)         # visualizar todas las columnas de un pandas dataframe\n",
    "pd.options.mode.chained_assignment = None                 # para evitar el warning enfadoso de indexacion"
   ]
  },
  {
   "cell_type": "markdown",
   "metadata": {},
   "source": [
    "### Adecuaciones iniciales"
   ]
  },
  {
   "cell_type": "code",
   "execution_count": null,
   "metadata": {},
   "outputs": [],
   "source": [
    "# duplicar objetos para conservar los originales\n",
    "df_data_pe = df_pe\n",
    "df_data_ce = df_ce\n",
    "\n",
    "# convertir a datetime columna de fechas\n",
    "df_data_pe['timestamp'] = pd.to_datetime(df_data_pe['timestamp'])\n",
    "\n",
    "# escenarios para clasificar los eventos\n",
    "escenarios = ['A', 'B', 'C', 'D', 'E', 'F', 'G', 'H']"
   ]
  },
  {
   "cell_type": "markdown",
   "metadata": {},
   "source": [
    "### Definir metricas iniciales"
   ]
  },
  {
   "cell_type": "markdown",
   "metadata": {},
   "source": [
    "Calcular metricas :\n",
    "\n",
    "- **ho** (precio high - precio open): Como métrica para indicar que el precio cambio en una dirección _alcista_. \n",
    "- **ol** (precio open - precio low): Como métrica para indicar que el precio cambio en una dirección _bajista_.\n",
    "- **hl** (precio high - precio low): Como métrica para indicar _volatilidad_ en el precio."
   ]
  },
  {
   "cell_type": "code",
   "execution_count": 8,
   "metadata": {},
   "outputs": [],
   "source": [
    "def f_reaccion(p0_i, p1_ad):\n",
    "    \"\"\"\n",
    "    :param p0_i: indexador\n",
    "    :param p1_ad: cantidad de precios hacia adelante que se considera la ventana\n",
    "\n",
    "    :return: resultado: diccionario con resultado final con 3 elementos como resultado\n",
    "\n",
    "    # debugging\n",
    "    p0_i = 1\n",
    "    p0_ad = 3\n",
    "    \"\"\"\n",
    "\n",
    "    indice_1 = np.where(df_pe['timestamp'] == df_ce['timestamp'][p0_i])[0][0]\n",
    "    indice_2 = indice_1 + p1_ad\n",
    "    ho = round((max(df_pe['high'][indice_1:indice_2]) - df_pe['open'][indice_1])*10000, 2)\n",
    "    ol = round((df_pe['open'][indice_1] - min(df_pe['low'][indice_1:indice_2]))*10000, 2)\n",
    "    hl = round((max(df_pe['high'][indice_1:indice_2]) - min(df_pe['low'][indice_1:indice_2]))*10000, 2)\n",
    "\n",
    "    # diccionario con resultado final\n",
    "    resultado = {'ho': ho, 'ol': ol, 'hl': hl}\n",
    "\n",
    "    return resultado"
   ]
  },
  {
   "cell_type": "code",
   "execution_count": null,
   "metadata": {},
   "outputs": [],
   "source": [
    "# reaccion del precio para cada escenario\n",
    "d_reaccion = [f_reaccion(p0_i=i, p1_ad=3) for i in range(0, len(df_ce['timestamp']))]\n",
    "\n",
    "# acomodar resultados en columnas\n",
    "df_data_ce['ho'] = [d_reaccion[j]['ho'] for j in range(0, len(df_data_ce['timestamp']))]\n",
    "df_data_ce['ol'] = [d_reaccion[j]['ol'] for j in range(0, len(df_data_ce['timestamp']))]\n",
    "df_data_ce['hl'] = [d_reaccion[j]['hl'] for j in range(0, len(df_data_ce['timestamp']))]"
   ]
  },
  {
   "cell_type": "markdown",
   "metadata": {},
   "source": [
    "### Ocurrencia de escenarios"
   ]
  },
  {
   "cell_type": "code",
   "execution_count": null,
   "metadata": {},
   "outputs": [],
   "source": [
    "# Escenarios que si ocurrieron\n",
    "esc_reales = list(set(df_data_ce['escenario']))\n",
    "\n",
    "# Elegir a escenarios con mayor similitud entre muestras\n",
    "ocurrencias = dict(df_data_ce['escenario'].value_counts())"
   ]
  },
  {
   "cell_type": "markdown",
   "metadata": {},
   "source": [
    "### Ajustar modelo ANOVA"
   ]
  },
  {
   "cell_type": "code",
   "execution_count": null,
   "metadata": {},
   "outputs": [],
   "source": [
    "# ajustar modelo lineal\n",
    "model = ols('ol ~ escenario', data=df_data_ce).fit()\n",
    "\n",
    "# tabla anova\n",
    "anova_table = sm.stats.anova_lm(model, typ=2)\n",
    "print(anova_table)"
   ]
  },
  {
   "cell_type": "markdown",
   "metadata": {},
   "source": [
    "### Prueba de Tukey"
   ]
  },
  {
   "cell_type": "code",
   "execution_count": null,
   "metadata": {},
   "outputs": [],
   "source": [
    "# comparacion con tukey\n",
    "mc = MultiComparison(df_data_ce['hl'], df_data_ce['escenario'])\n",
    "mc_results = mc.tukeyhsd()\n",
    "print(mc_results)"
   ]
  },
  {
   "cell_type": "markdown",
   "metadata": {},
   "source": [
    "### Notas no ordenadas"
   ]
  },
  {
   "cell_type": "markdown",
   "metadata": {},
   "source": [
    "se define como tiempo inicial como aquel en el que se comunico el indicador\n",
    "proposito del ejercicio: probar si estadisticamente existe diferencia significativa en la media de las\n",
    "reacciones del precio ante 8 diferentes escenarios de salida de un indicador economico\n",
    "\n",
    "whether there is a statistically significant difference in mean systolic blood pressures among the four groups\n",
    "h0 = todas las 'reacciones' del precio, ante la comunicacion de un mismo indicador economico, son iguales."
   ]
  }
 ],
 "metadata": {
  "kernelspec": {
   "display_name": "Python 3",
   "language": "python",
   "name": "python3"
  },
  "language_info": {
   "codemirror_mode": {
    "name": "ipython",
    "version": 3
   },
   "file_extension": ".py",
   "mimetype": "text/x-python",
   "name": "python",
   "nbconvert_exporter": "python",
   "pygments_lexer": "ipython3",
   "version": "3.6.8"
  }
 },
 "nbformat": 4,
 "nbformat_minor": 2
}
